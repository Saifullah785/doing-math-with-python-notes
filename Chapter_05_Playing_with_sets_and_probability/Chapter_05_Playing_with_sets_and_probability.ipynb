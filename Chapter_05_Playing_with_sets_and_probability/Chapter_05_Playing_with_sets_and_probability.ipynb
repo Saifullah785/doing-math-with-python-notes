{
  "nbformat": 4,
  "nbformat_minor": 0,
  "metadata": {
    "colab": {
      "provenance": [],
      "authorship_tag": "ABX9TyOw6lZdgAUxYxF9h/GFpsz9",
      "include_colab_link": true
    },
    "kernelspec": {
      "name": "python3",
      "display_name": "Python 3"
    },
    "language_info": {
      "name": "python"
    }
  },
  "cells": [
    {
      "cell_type": "markdown",
      "metadata": {
        "id": "view-in-github",
        "colab_type": "text"
      },
      "source": [
        "<a href=\"https://colab.research.google.com/github/Saifullah785/doing-math-with-python-notes/blob/main/Chapter_05_Playing_with_sets_and_probability/Chapter_05_Playing_with_sets_and_probability.ipynb\" target=\"_parent\"><img src=\"https://colab.research.google.com/assets/colab-badge.svg\" alt=\"Open In Colab\"/></a>"
      ]
    },
    {
      "cell_type": "markdown",
      "source": [
        "# **Set Construction**"
      ],
      "metadata": {
        "id": "9rLxGYle0_Yj"
      }
    },
    {
      "cell_type": "code",
      "execution_count": null,
      "metadata": {
        "colab": {
          "base_uri": "https://localhost:8080/"
        },
        "id": "f49NinUh0BU2",
        "outputId": "b1908ee6-6710-4c41-939b-ac0ce19a7345"
      },
      "outputs": [
        {
          "output_type": "stream",
          "name": "stdout",
          "text": [
            "{2, 4, 6}\n"
          ]
        }
      ],
      "source": [
        "# Import the FiniteSet class from the sympy library\n",
        "from sympy import FiniteSet\n",
        "# Create a FiniteSet named 's' with elements 2, 4, and 6\n",
        "s = FiniteSet(2, 4, 6)\n",
        "# Print the set 's'\n",
        "print(s)"
      ]
    },
    {
      "cell_type": "code",
      "source": [
        "# Import the FiniteSet class from the sympy library\n",
        "from sympy import FiniteSet\n",
        "# Import the Fraction class from the fractions module\n",
        "from fractions import Fraction\n",
        "# Create a FiniteSet named 's' with different types of numbers\n",
        "s = FiniteSet(1, 1.5, Fraction(1, 5))\n",
        "# Print the set 's'\n",
        "print(s)"
      ],
      "metadata": {
        "colab": {
          "base_uri": "https://localhost:8080/"
        },
        "id": "Jz13xXv01FdO",
        "outputId": "2bb512c1-32d4-496e-fd32-eeaa1ed9190f"
      },
      "execution_count": null,
      "outputs": [
        {
          "output_type": "stream",
          "name": "stdout",
          "text": [
            "{1/5, 1, 1.5}\n"
          ]
        }
      ]
    },
    {
      "cell_type": "code",
      "source": [
        "# Create a FiniteSet named 's'\n",
        "s = FiniteSet(1, 1.5, 3)\n",
        "# Get the number of elements in the set 's'\n",
        "len(s)"
      ],
      "metadata": {
        "colab": {
          "base_uri": "https://localhost:8080/"
        },
        "id": "odqX1U4-1KIC",
        "outputId": "22cc9e36-485c-4144-9671-d27e27765237"
      },
      "execution_count": null,
      "outputs": [
        {
          "output_type": "execute_result",
          "data": {
            "text/plain": [
              "3"
            ]
          },
          "metadata": {},
          "execution_count": 34
        }
      ]
    },
    {
      "cell_type": "markdown",
      "source": [
        "**Checking Whether a Number Is in a Set**"
      ],
      "metadata": {
        "id": "E-QyT1Q41QJI"
      }
    },
    {
      "cell_type": "code",
      "source": [
        "# Check if the number 4 is present in the set 's'\n",
        "4 in s"
      ],
      "metadata": {
        "colab": {
          "base_uri": "https://localhost:8080/"
        },
        "id": "dcj2_fsE1OJB",
        "outputId": "4b9446b9-a8d3-469d-895d-3c0615191383"
      },
      "execution_count": null,
      "outputs": [
        {
          "output_type": "execute_result",
          "data": {
            "text/plain": [
              "False"
            ]
          },
          "metadata": {},
          "execution_count": 35
        }
      ]
    },
    {
      "cell_type": "markdown",
      "source": [
        "**Creating an Empty Set**"
      ],
      "metadata": {
        "id": "o0LdClge1icx"
      }
    },
    {
      "cell_type": "code",
      "source": [
        "# Create an empty FiniteSet named 's'\n",
        "s = FiniteSet()\n",
        "# Print the empty set\n",
        "print(s)"
      ],
      "metadata": {
        "colab": {
          "base_uri": "https://localhost:8080/"
        },
        "id": "VEUvTay01of4",
        "outputId": "f74bd9f4-cfdd-48d2-d62b-66122071816f"
      },
      "execution_count": null,
      "outputs": [
        {
          "output_type": "stream",
          "name": "stdout",
          "text": [
            "EmptySet\n"
          ]
        }
      ]
    },
    {
      "cell_type": "markdown",
      "source": [
        "**Creating Sets from Lists or Tuples**"
      ],
      "metadata": {
        "id": "lS75DUpV1yu3"
      }
    },
    {
      "cell_type": "code",
      "source": [
        "# Import the FiniteSet class from the sympy library\n",
        "from sympy import FiniteSet\n",
        "# Create a list of members\n",
        "members = [1, 2, 3]\n",
        "# Create a FiniteSet from the list of members using the unpacking operator (*)\n",
        "s = FiniteSet(*members)\n",
        "# Print the set\n",
        "print(s)"
      ],
      "metadata": {
        "colab": {
          "base_uri": "https://localhost:8080/"
        },
        "id": "ROigfJAy1qkO",
        "outputId": "def19344-f64d-4466-ff57-cef002536525"
      },
      "execution_count": null,
      "outputs": [
        {
          "output_type": "stream",
          "name": "stdout",
          "text": [
            "{1, 2, 3}\n"
          ]
        }
      ]
    },
    {
      "cell_type": "markdown",
      "source": [
        "**Set Repetition and Order**"
      ],
      "metadata": {
        "id": "5bZHLQXA7l3V"
      }
    },
    {
      "cell_type": "code",
      "source": [
        "# Import the FiniteSet class from the sympy library\n",
        "from sympy import FiniteSet\n",
        "# Create a list with duplicate members\n",
        "members = [1, 2, 3, 2]\n",
        "# Create a FiniteSet from the list. Note that duplicate elements are automatically removed.\n",
        "FiniteSet(*members)"
      ],
      "metadata": {
        "colab": {
          "base_uri": "https://localhost:8080/",
          "height": 37
        },
        "id": "o0AsQZF77jyg",
        "outputId": "0daedf0c-a86e-4e51-c9bb-7bc8c4f64fc4"
      },
      "execution_count": null,
      "outputs": [
        {
          "output_type": "execute_result",
          "data": {
            "text/plain": [
              "{1, 2, 3}"
            ],
            "text/latex": "$\\displaystyle \\left\\{1, 2, 3\\right\\}$"
          },
          "metadata": {},
          "execution_count": 38
        }
      ]
    },
    {
      "cell_type": "code",
      "source": [
        "# Import the FiniteSet class from the sympy library\n",
        "from sympy import FiniteSet\n",
        "# Create a FiniteSet named 's'\n",
        "s = FiniteSet(1, 2, 3)\n",
        "# Iterate through each member of the set and print it\n",
        "for member in s:\n",
        "  print(member)"
      ],
      "metadata": {
        "colab": {
          "base_uri": "https://localhost:8080/"
        },
        "id": "OeYebFLw7ruq",
        "outputId": "afde37b6-df52-48bc-a472-d7312d68555a"
      },
      "execution_count": null,
      "outputs": [
        {
          "output_type": "stream",
          "name": "stdout",
          "text": [
            "1\n",
            "2\n",
            "3\n"
          ]
        }
      ]
    },
    {
      "cell_type": "code",
      "source": [
        "# Import the FiniteSet class from the sympy library\n",
        "from sympy import FiniteSet\n",
        "# Create two FiniteSets 's' and 't' with the same elements but in a different order\n",
        "s = FiniteSet(3, 4, 5)\n",
        "t = FiniteSet(5, 4, 3)\n",
        "# Check if the two sets are equal (order doesn't matter in sets)\n",
        "s == t"
      ],
      "metadata": {
        "colab": {
          "base_uri": "https://localhost:8080/"
        },
        "id": "M-SnzaaG7rr2",
        "outputId": "d0fd3aae-40ae-47b7-fb48-55c204b42f06"
      },
      "execution_count": null,
      "outputs": [
        {
          "output_type": "execute_result",
          "data": {
            "text/plain": [
              "True"
            ]
          },
          "metadata": {},
          "execution_count": 40
        }
      ]
    },
    {
      "cell_type": "markdown",
      "source": [
        "**Subsets , Supersets, and Power Sets**"
      ],
      "metadata": {
        "id": "vTfNU_FB8S8_"
      }
    },
    {
      "cell_type": "code",
      "source": [
        "# Create two FiniteSets 's' and 't'\n",
        "s = FiniteSet(1)\n",
        "t = FiniteSet(1, 2)\n",
        "# Check if set 's' is a subset of set 't'\n",
        "s.is_subset(t)"
      ],
      "metadata": {
        "colab": {
          "base_uri": "https://localhost:8080/"
        },
        "id": "ylSDNA278ZBm",
        "outputId": "184cecbb-1168-47e7-a6d4-4f70948717a5"
      },
      "execution_count": null,
      "outputs": [
        {
          "output_type": "execute_result",
          "data": {
            "text/plain": [
              "True"
            ]
          },
          "metadata": {},
          "execution_count": 41
        }
      ]
    },
    {
      "cell_type": "code",
      "source": [
        "# Check if set 't' is a subset of itself\n",
        "t.is_subset(t)"
      ],
      "metadata": {
        "colab": {
          "base_uri": "https://localhost:8080/"
        },
        "id": "YDAqJxgy8dAH",
        "outputId": "9d639de2-5737-46a0-fd1d-e97f03fd1202"
      },
      "execution_count": null,
      "outputs": [
        {
          "output_type": "execute_result",
          "data": {
            "text/plain": [
              "True"
            ]
          },
          "metadata": {},
          "execution_count": 42
        }
      ]
    },
    {
      "cell_type": "code",
      "source": [
        "# Check if set 's' is a subset of set 't' (re-checking after previous cell)\n",
        "s.is_subset(t)"
      ],
      "metadata": {
        "colab": {
          "base_uri": "https://localhost:8080/"
        },
        "id": "rsFEWrpe8qPg",
        "outputId": "cce2bda3-3acb-4506-d305-e7fdefe4755d"
      },
      "execution_count": null,
      "outputs": [
        {
          "output_type": "execute_result",
          "data": {
            "text/plain": [
              "True"
            ]
          },
          "metadata": {},
          "execution_count": 43
        }
      ]
    },
    {
      "cell_type": "code",
      "source": [
        "# Check if set 't' is a superset of set 's'\n",
        "t.is_superset(s)"
      ],
      "metadata": {
        "colab": {
          "base_uri": "https://localhost:8080/"
        },
        "id": "Cx1EZ92F8uat",
        "outputId": "a50657ce-c340-4924-b6f9-2cd3e5d2f649"
      },
      "execution_count": null,
      "outputs": [
        {
          "output_type": "execute_result",
          "data": {
            "text/plain": [
              "True"
            ]
          },
          "metadata": {},
          "execution_count": 44
        }
      ]
    },
    {
      "cell_type": "code",
      "source": [
        "# Create a FiniteSet named 's'\n",
        "s = FiniteSet(1, 2, 3)\n",
        "# Calculate the power set of 's' (set of all subsets of s)\n",
        "ps = s.powerset()\n",
        "# Display the power set\n",
        "ps"
      ],
      "metadata": {
        "colab": {
          "base_uri": "https://localhost:8080/",
          "height": 37
        },
        "id": "0i3XEs2c8za-",
        "outputId": "4592b810-b75d-4026-9c53-6f4aa64780a8"
      },
      "execution_count": null,
      "outputs": [
        {
          "output_type": "execute_result",
          "data": {
            "text/plain": [
              "FiniteSet(EmptySet, {1}, {2}, {3}, {1, 2}, {1, 3}, {2, 3}, {1, 2, 3})"
            ],
            "text/latex": "$\\displaystyle \\left\\{\\emptyset, \\left\\{1\\right\\}, \\left\\{2\\right\\}, \\left\\{3\\right\\}, \\left\\{1, 2\\right\\}, \\left\\{1, 3\\right\\}, \\left\\{2, 3\\right\\}, \\left\\{1, 2, 3\\right\\}\\right\\}$"
          },
          "metadata": {},
          "execution_count": 45
        }
      ]
    },
    {
      "cell_type": "code",
      "source": [
        "# Get the number of elements in the power set 'ps'\n",
        "len(ps)"
      ],
      "metadata": {
        "colab": {
          "base_uri": "https://localhost:8080/"
        },
        "id": "GkZ4ysyv882N",
        "outputId": "cd0a314c-30aa-4345-b918-1f6d1821a1fb"
      },
      "execution_count": null,
      "outputs": [
        {
          "output_type": "execute_result",
          "data": {
            "text/plain": [
              "8"
            ]
          },
          "metadata": {},
          "execution_count": 46
        }
      ]
    },
    {
      "cell_type": "code",
      "source": [
        "# Import the FiniteSet class from the sympy library\n",
        "from sympy import FiniteSet\n",
        "# Create two FiniteSets 's' and 't' with the same elements\n",
        "s = FiniteSet(1, 2, 3)\n",
        "t = FiniteSet(1, 2, 3)\n",
        "# Check if set 's' is a proper subset of set 't' (False because they are equal)\n",
        "s.is_proper_subset(t)"
      ],
      "metadata": {
        "colab": {
          "base_uri": "https://localhost:8080/"
        },
        "id": "UA-HKoIg9A9Y",
        "outputId": "24fa9d1e-9e3d-4644-88b0-fcd9928b2819"
      },
      "execution_count": null,
      "outputs": [
        {
          "output_type": "execute_result",
          "data": {
            "text/plain": [
              "False"
            ]
          },
          "metadata": {},
          "execution_count": 47
        }
      ]
    },
    {
      "cell_type": "code",
      "source": [
        "# Check if set 't' is a proper superset of set 's' (False because they are equal)\n",
        "t.is_proper_superset(s)"
      ],
      "metadata": {
        "colab": {
          "base_uri": "https://localhost:8080/"
        },
        "id": "qZF4THYA9A1_",
        "outputId": "1bc2b5c9-6bca-491f-dd64-607600576ccd"
      },
      "execution_count": null,
      "outputs": [
        {
          "output_type": "execute_result",
          "data": {
            "text/plain": [
              "False"
            ]
          },
          "metadata": {},
          "execution_count": 48
        }
      ]
    },
    {
      "cell_type": "code",
      "source": [
        "# Create a new FiniteSet 't' with an additional element\n",
        "t = FiniteSet(1, 2, 3, 4)\n",
        "# Check if set 's' is a proper subset of the new set 't' (True because s is a subset and not equal to t)\n",
        "s.is_proper_subset(t)"
      ],
      "metadata": {
        "colab": {
          "base_uri": "https://localhost:8080/"
        },
        "id": "JRx7sNX49HtV",
        "outputId": "6704bd20-1fe4-4341-cdb5-8e6d1193c25e"
      },
      "execution_count": null,
      "outputs": [
        {
          "output_type": "execute_result",
          "data": {
            "text/plain": [
              "True"
            ]
          },
          "metadata": {},
          "execution_count": 49
        }
      ]
    },
    {
      "cell_type": "code",
      "source": [
        "# Check if the new set 't' is a proper superset of set 's' (True because t is a superset and not equal to s)\n",
        "t.is_proper_superset(s)"
      ],
      "metadata": {
        "colab": {
          "base_uri": "https://localhost:8080/"
        },
        "id": "bnEZsZ3S9QBd",
        "outputId": "38a72359-d2d1-4fba-d216-94a08f1928ea"
      },
      "execution_count": null,
      "outputs": [
        {
          "output_type": "execute_result",
          "data": {
            "text/plain": [
              "True"
            ]
          },
          "metadata": {},
          "execution_count": 50
        }
      ]
    },
    {
      "cell_type": "markdown",
      "source": [
        "# **Set Operations**\n",
        "\n",
        "**Union and Intersection**"
      ],
      "metadata": {
        "id": "JFxl4P5r9ko_"
      }
    },
    {
      "cell_type": "code",
      "source": [
        "# Import the FiniteSet class from the sympy library\n",
        "from sympy import FiniteSet\n",
        "# Create two FiniteSets 's' and 't'\n",
        "s = FiniteSet(1, 2, 3)\n",
        "t = FiniteSet(2, 4, 6)\n",
        "# Calculate the union of sets 's' and 't' (all unique elements in both sets)\n",
        "s.union(t)"
      ],
      "metadata": {
        "colab": {
          "base_uri": "https://localhost:8080/",
          "height": 37
        },
        "id": "52PE8_Tf9pLm",
        "outputId": "5b8d7c4a-9160-45b4-c209-0fae90366719"
      },
      "execution_count": null,
      "outputs": [
        {
          "output_type": "execute_result",
          "data": {
            "text/plain": [
              "{1, 2, 3, 4, 6}"
            ],
            "text/latex": "$\\displaystyle \\left\\{1, 2, 3, 4, 6\\right\\}$"
          },
          "metadata": {},
          "execution_count": 51
        }
      ]
    },
    {
      "cell_type": "code",
      "source": [
        "# Create two FiniteSets 's' and 't'\n",
        "s = FiniteSet(1, 2)\n",
        "t = FiniteSet(2, 3)\n",
        "# Calculate the intersection of sets 's' and 't' (elements common to both sets)\n",
        "s.intersection(t)"
      ],
      "metadata": {
        "colab": {
          "base_uri": "https://localhost:8080/",
          "height": 37
        },
        "id": "hKyOCvX8-qfE",
        "outputId": "31ab525f-fcbf-4cf5-89ee-c5d350f2b555"
      },
      "execution_count": null,
      "outputs": [
        {
          "output_type": "execute_result",
          "data": {
            "text/plain": [
              "{2}"
            ],
            "text/latex": "$\\displaystyle \\left\\{2\\right\\}$"
          },
          "metadata": {},
          "execution_count": 52
        }
      ]
    },
    {
      "cell_type": "code",
      "source": [
        "# Import the FiniteSet class from the sympy library\n",
        "from sympy import FiniteSet\n",
        "# Create three FiniteSets 's', 't', and 'u'\n",
        "s = FiniteSet(1, 2, 3)\n",
        "t = FiniteSet(2, 4, 6)\n",
        "u = FiniteSet(3, 5, 7)\n",
        "# Calculate the union of sets 's', 't', and 'u'\n",
        "s.union(t).union(u)"
      ],
      "metadata": {
        "colab": {
          "base_uri": "https://localhost:8080/",
          "height": 37
        },
        "id": "lWOLw3Sd-v9o",
        "outputId": "615cc3a4-9b76-4f5f-be62-4d3cc605af8a"
      },
      "execution_count": null,
      "outputs": [
        {
          "output_type": "execute_result",
          "data": {
            "text/plain": [
              "{1, 2, 3, 4, 5, 6, 7}"
            ],
            "text/latex": "$\\displaystyle \\left\\{1, 2, 3, 4, 5, 6, 7\\right\\}$"
          },
          "metadata": {},
          "execution_count": 53
        }
      ]
    },
    {
      "cell_type": "markdown",
      "source": [
        "**Cartesion Product**"
      ],
      "metadata": {
        "id": "2q2LE5y2_Fjz"
      }
    },
    {
      "cell_type": "code",
      "source": [
        "# Import the FiniteSet class from the sympy library\n",
        "from sympy import FiniteSet\n",
        "# Create two FiniteSets 's' and 't'\n",
        "s = FiniteSet(1, 2)\n",
        "t = FiniteSet(3, 4)\n",
        "# Calculate the Cartesian product of sets 's' and 't'\n",
        "p = s*t\n",
        "# Display the Cartesian product\n",
        "p"
      ],
      "metadata": {
        "colab": {
          "base_uri": "https://localhost:8080/",
          "height": 37
        },
        "id": "Yttasnly_E3c",
        "outputId": "7ed69467-fcd6-4615-e4b3-ffe79be86e63"
      },
      "execution_count": null,
      "outputs": [
        {
          "output_type": "execute_result",
          "data": {
            "text/plain": [
              "ProductSet({1, 2}, {3, 4})"
            ],
            "text/latex": "$\\displaystyle \\left\\{1, 2\\right\\} \\times \\left\\{3, 4\\right\\}$"
          },
          "metadata": {},
          "execution_count": 54
        }
      ]
    },
    {
      "cell_type": "code",
      "source": [
        "# Iterate through each element (ordered pair) in the Cartesian product 'p' and print it\n",
        "for elem in p:\n",
        "  print(elem)"
      ],
      "metadata": {
        "colab": {
          "base_uri": "https://localhost:8080/"
        },
        "id": "FcjGOhkw_ds9",
        "outputId": "ec342078-ed0e-4360-ea2f-ee673d8f9828"
      },
      "execution_count": null,
      "outputs": [
        {
          "output_type": "stream",
          "name": "stdout",
          "text": [
            "(1, 3)\n",
            "(2, 3)\n",
            "(1, 4)\n",
            "(2, 4)\n"
          ]
        }
      ]
    },
    {
      "cell_type": "code",
      "source": [
        "# Check if the number of elements in the Cartesian product 'p' is equal to the product of the number of elements in sets 's' and 't'\n",
        "len(p) == len(s)*len(t)"
      ],
      "metadata": {
        "colab": {
          "base_uri": "https://localhost:8080/"
        },
        "id": "vLB3MmMH_rGD",
        "outputId": "1c049618-2d9e-4257-994f-6cb152060d79"
      },
      "execution_count": null,
      "outputs": [
        {
          "output_type": "execute_result",
          "data": {
            "text/plain": [
              "True"
            ]
          },
          "metadata": {},
          "execution_count": 56
        }
      ]
    },
    {
      "cell_type": "code",
      "source": [
        "# Import the FiniteSet class from the sympy library\n",
        "from sympy import FiniteSet\n",
        "# Create a FiniteSet 's'\n",
        "s = FiniteSet(1, 2)\n",
        "# Calculate the Cartesian product of set 's' with itself 3 times (s x s x s)\n",
        "p = s**3\n",
        "# Display the Cartesian product\n",
        "p"
      ],
      "metadata": {
        "colab": {
          "base_uri": "https://localhost:8080/",
          "height": 38
        },
        "id": "k9NVvHgG_rCX",
        "outputId": "f27e7ddd-0584-4acd-f939-a2504acc92dc"
      },
      "execution_count": null,
      "outputs": [
        {
          "output_type": "execute_result",
          "data": {
            "text/plain": [
              "ProductSet({1, 2}, {1, 2}, {1, 2})"
            ],
            "text/latex": "$\\displaystyle \\left\\{1, 2\\right\\}^{3}$"
          },
          "metadata": {},
          "execution_count": 57
        }
      ]
    },
    {
      "cell_type": "code",
      "source": [
        "# Iterate through each element (ordered triplet) in the Cartesian product 'p' and print it\n",
        "for elem in p:\n",
        "  print(elem)"
      ],
      "metadata": {
        "colab": {
          "base_uri": "https://localhost:8080/"
        },
        "id": "MY0ek_Ih_8nW",
        "outputId": "0f0b8c83-0bff-4c50-887d-a840d6b64e10"
      },
      "execution_count": null,
      "outputs": [
        {
          "output_type": "stream",
          "name": "stdout",
          "text": [
            "(1, 1, 1)\n",
            "(2, 1, 1)\n",
            "(1, 2, 1)\n",
            "(2, 2, 1)\n",
            "(1, 1, 2)\n",
            "(2, 1, 2)\n",
            "(1, 2, 2)\n",
            "(2, 2, 2)\n"
          ]
        }
      ]
    },
    {
      "cell_type": "code",
      "source": [
        "# Import the FiniteSet class and pi from the sympy library\n",
        "from sympy import FiniteSet, pi\n",
        "\n",
        "# Define a function to calculate the time period of a simple pendulum\n",
        "def time_period(length):\n",
        "  # Define the acceleration due to gravity (g)\n",
        "  g = 9.8\n",
        "  # Calculate the time period using the formula T = 2*pi*sqrt(length/g)\n",
        "  T = 2*pi*(length/g)**0.5\n",
        "  # Return the calculated time period\n",
        "  return T\n",
        "\n",
        "# Check if the script is being run directly\n",
        "if __name__ == '__main__':\n",
        "  # Create a FiniteSet of pendulum lengths in centimeters\n",
        "  L = FiniteSet(15, 18, 21, 22.5, 25)\n",
        "  # Iterate through each length in the set L\n",
        "  for l in L:\n",
        "    # Calculate the time period for each length (converting cm to meters by dividing by 100)\n",
        "    t = time_period(l/100)\n",
        "    # Print the length and the calculated time period, formatted to 3 decimal places\n",
        "    print('Lenght: {0} cm Time Period: {1:.3f} s'. format(float(l), float(t)))"
      ],
      "metadata": {
        "colab": {
          "base_uri": "https://localhost:8080/"
        },
        "id": "SMtcFQSmABFa",
        "outputId": "6be0cc62-547f-42e5-c30e-539cab7db438"
      },
      "execution_count": null,
      "outputs": [
        {
          "output_type": "stream",
          "name": "stdout",
          "text": [
            "Lenght: 22.5 cm Time Period: 0.952 s\n",
            "Lenght: 15.0 cm Time Period: 0.777 s\n",
            "Lenght: 18.0 cm Time Period: 0.852 s\n",
            "Lenght: 21.0 cm Time Period: 0.920 s\n",
            "Lenght: 25.0 cm Time Period: 1.004 s\n"
          ]
        }
      ]
    },
    {
      "cell_type": "code",
      "source": [
        "# Import the FiniteSet class and pi from the sympy library\n",
        "from sympy import FiniteSet, pi\n",
        "\n",
        "# Define a function to calculate the time period of a simple pendulum\n",
        "def time_period(length, g):\n",
        "  # Calculate the time period using the formula T = 2*pi*sqrt(length/g)\n",
        "  T = 2*pi*(length/g)**0.5\n",
        "  # Return the calculated time period\n",
        "  return T\n",
        "\n",
        "# Check if the script is being run directly\n",
        "if __name__ == '__main__':\n",
        "  # Create a FiniteSet of pendulum lengths in centimeters\n",
        "  L = FiniteSet(15, 18, 21, 22.5, 25)\n",
        "  # Create a FiniteSet of gravity values in m/s^2\n",
        "  g_values = FiniteSet(9.8, 9.78, 9.83)\n",
        "  # Print the header for the output table\n",
        "  print('{0:^15}{1:^15}{2:^15}'.format('Length(cm)', 'Gravity(m/s^2)', 'Time Period(s)'))\n",
        "\n",
        "  # Iterate through the Cartesian product of L and g_values\n",
        "  for elem in L*g_values:\n",
        "    # Extract the length and gravity values from the current element (tuple)\n",
        "    l = elem[0]\n",
        "    g = elem[1]\n",
        "    # Calculate the time period using the time_period function (converting cm to meters)\n",
        "    t = time_period(l/100, g)\n",
        "\n",
        "    # Print the length, gravity, and calculated time period, formatted\n",
        "    print('{0:^15}{1:^15}{2:^15.3f}'.format(float(l), float(g), float(t)))"
      ],
      "metadata": {
        "colab": {
          "base_uri": "https://localhost:8080/"
        },
        "id": "SZrLjwxABYy4",
        "outputId": "11e1bed8-a9fb-4a84-d38a-c90eb26ad8e5"
      },
      "execution_count": null,
      "outputs": [
        {
          "output_type": "stream",
          "name": "stdout",
          "text": [
            "  Length(cm)   Gravity(m/s^2) Time Period(s) \n",
            "     22.5           9.78           0.953     \n",
            "     15.0           9.78           0.778     \n",
            "     22.5            9.8           0.952     \n",
            "     18.0           9.78           0.852     \n",
            "     15.0            9.8           0.777     \n",
            "     22.5           9.83           0.951     \n",
            "     21.0           9.78           0.921     \n",
            "     18.0            9.8           0.852     \n",
            "     15.0           9.83           0.776     \n",
            "     25.0           9.78           1.005     \n",
            "     21.0            9.8           0.920     \n",
            "     18.0           9.83           0.850     \n",
            "     25.0            9.8           1.004     \n",
            "     21.0           9.83           0.918     \n",
            "     25.0           9.83           1.002     \n"
          ]
        }
      ]
    },
    {
      "cell_type": "markdown",
      "source": [
        "# **Probability**"
      ],
      "metadata": {
        "id": "318mB91sCZ9j"
      }
    },
    {
      "cell_type": "code",
      "source": [
        "from sympy import FiniteSet # Import FiniteSet\n",
        "\n",
        "def probability(space, event):\n",
        "  return len(event)/len(space)\n",
        "\n",
        "def check_prime(number):\n",
        "\n",
        "  if number != 1:\n",
        "    for factor in range(2, number):\n",
        "      if number % factor == 0:\n",
        "        return False # Corrected from false\n",
        "  else:\n",
        "    return False\n",
        "  return True\n",
        "\n",
        "if __name__ == '__main__':\n",
        "\n",
        "  space = FiniteSet(*range(1, 21))\n",
        "\n",
        "  primes = []\n",
        "\n",
        "  for num in space: # Corrected from s\n",
        "\n",
        "    if check_prime(num):\n",
        "\n",
        "      primes.append(num)\n",
        "\n",
        "  event = FiniteSet(*primes) # Corrected from FinitSet\n",
        "\n",
        "  p = probability(space, event)\n",
        "\n",
        "  print('Sample space: {0}'.format(space))\n",
        "  print('Event: {0}'.format(event))\n",
        "  print('Probability of rolling a prime: {0:.5f}'.format(p))"
      ],
      "metadata": {
        "colab": {
          "base_uri": "https://localhost:8080/"
        },
        "id": "eWvyfodrIf6L",
        "outputId": "9ec052ee-535c-4742-d893-7811a0c45dcd"
      },
      "execution_count": 2,
      "outputs": [
        {
          "output_type": "stream",
          "name": "stdout",
          "text": [
            "Sample space: {1, 2, 3, 4, 5, 6, 7, 8, 9, 10, 11, 12, 13, 14, 15, 16, 17, 18, 19, 20}\n",
            "Event: {2, 3, 5, 7, 11, 13, 17, 19}\n",
            "Probability of rolling a prime: 0.40000\n"
          ]
        }
      ]
    },
    {
      "cell_type": "code",
      "source": [
        "#   space = range(1, 21)\n",
        "#   primes = []\n",
        "#   for num in space:\n",
        "#     if check_prime(num):\n",
        "#       primes.append(num)\n",
        "#   p = probability(space, primes)\n",
        "\n",
        "if __name__ == '__main__':\n",
        "  space = range(1, 21)\n",
        "  primes = []\n",
        "  for num in space:\n",
        "    if check_prime(num):\n",
        "      primes.append(num)\n",
        "  p = probability(space, primes)"
      ],
      "metadata": {
        "id": "9EQX6MZ4KC_m"
      },
      "execution_count": 3,
      "outputs": []
    }
  ]
}