{
  "nbformat": 4,
  "nbformat_minor": 0,
  "metadata": {
    "colab": {
      "provenance": [],
      "authorship_tag": "ABX9TyPOA+stQN6mfSU1MpQ5Js1Q",
      "include_colab_link": true
    },
    "kernelspec": {
      "name": "python3",
      "display_name": "Python 3"
    },
    "language_info": {
      "name": "python"
    }
  },
  "cells": [
    {
      "cell_type": "markdown",
      "metadata": {
        "id": "view-in-github",
        "colab_type": "text"
      },
      "source": [
        "<a href=\"https://colab.research.google.com/github/Saifullah785/doing-math-with-python-notes/blob/main/Chapter_04_Algebra_and_Symbolic_Math_with_Sympy/Chapter_04_Algebra_and_Symbolic_Math_with_Sympy.ipynb\" target=\"_parent\"><img src=\"https://colab.research.google.com/assets/colab-badge.svg\" alt=\"Open In Colab\"/></a>"
      ]
    },
    {
      "cell_type": "markdown",
      "source": [
        "# **Algebra_and_Symbolic_Math_with_Sympy**\n",
        "\n",
        "**Defining Symbols and Symbolic Operations**"
      ],
      "metadata": {
        "id": "hM_swKDDyGly"
      }
    },
    {
      "cell_type": "code",
      "execution_count": 1,
      "metadata": {
        "id": "71NerlDqxC4w",
        "colab": {
          "base_uri": "https://localhost:8080/"
        },
        "outputId": "c1a314fb-aa90-41b5-bf3f-1a1536ef6249"
      },
      "outputs": [
        {
          "output_type": "execute_result",
          "data": {
            "text/plain": [
              "3"
            ]
          },
          "metadata": {},
          "execution_count": 1
        }
      ],
      "source": [
        "# Assign the value 1 to the variable x\n",
        "x = 1\n",
        "\n",
        "# Calculate x + x + 1, which is 1 + 1 + 1 = 3\n",
        "x + x + 1"
      ]
    },
    {
      "cell_type": "code",
      "source": [
        "# Import the Symbol class from the sympy library\n",
        "from sympy import *\n",
        "\n",
        "# Define a symbolic variable x\n",
        "x = Symbol('x')\n",
        "\n",
        "# Display the symbolic variable x\n",
        "x"
      ],
      "metadata": {
        "colab": {
          "base_uri": "https://localhost:8080/",
          "height": 38
        },
        "id": "xCyqF2fHQqam",
        "outputId": "1430bda5-ff3a-4b32-8a5a-b9147396d2f4"
      },
      "execution_count": 2,
      "outputs": [
        {
          "output_type": "execute_result",
          "data": {
            "text/plain": [
              "x"
            ],
            "text/latex": "$\\displaystyle x$"
          },
          "metadata": {},
          "execution_count": 2
        }
      ]
    },
    {
      "cell_type": "code",
      "source": [
        "# Import the sympy library\n",
        "from sympy import *\n",
        "\n",
        "# Define a symbolic variable x\n",
        "x = Symbol('x')\n",
        "\n",
        "# Perform symbolic addition: x + x + 1\n",
        "x + x + 1"
      ],
      "metadata": {
        "colab": {
          "base_uri": "https://localhost:8080/",
          "height": 38
        },
        "id": "r8GrO12eQxyc",
        "outputId": "f209a2a2-6710-4f99-c6fd-47a4e3e71160"
      },
      "execution_count": 3,
      "outputs": [
        {
          "output_type": "execute_result",
          "data": {
            "text/plain": [
              "2*x + 1"
            ],
            "text/latex": "$\\displaystyle 2 x + 1$"
          },
          "metadata": {},
          "execution_count": 3
        }
      ]
    },
    {
      "cell_type": "code",
      "source": [
        "# Define a symbolic variable named 'a' but representing the symbol 'x'\n",
        "a = Symbol ('x')\n",
        "\n",
        "# Perform symbolic addition using the 'a' variable\n",
        "a + a + 1"
      ],
      "metadata": {
        "colab": {
          "base_uri": "https://localhost:8080/",
          "height": 38
        },
        "id": "53rMzahrQxvg",
        "outputId": "84efc8ab-cf3a-4049-af07-1ab374eb0e4a"
      },
      "execution_count": 4,
      "outputs": [
        {
          "output_type": "execute_result",
          "data": {
            "text/plain": [
              "2*x + 1"
            ],
            "text/latex": "$\\displaystyle 2 x + 1$"
          },
          "metadata": {},
          "execution_count": 4
        }
      ]
    },
    {
      "cell_type": "code",
      "source": [
        "# Define a symbolic variable x\n",
        "x = Symbol('x')\n",
        "# Access and display the name of the symbolic variable x\n",
        "x.name"
      ],
      "metadata": {
        "colab": {
          "base_uri": "https://localhost:8080/",
          "height": 36
        },
        "id": "Uf711s-aRhCP",
        "outputId": "f3c979f7-03ac-48d9-ccf2-a04c7fe8f35e"
      },
      "execution_count": 5,
      "outputs": [
        {
          "output_type": "execute_result",
          "data": {
            "text/plain": [
              "'x'"
            ],
            "application/vnd.google.colaboratory.intrinsic+json": {
              "type": "string"
            }
          },
          "metadata": {},
          "execution_count": 5
        }
      ]
    },
    {
      "cell_type": "code",
      "source": [
        "# Define a symbolic variable 'a' representing the symbol 'x'\n",
        "a = Symbol('x')\n",
        "# Access and display the name of the symbolic variable 'a'\n",
        "a.name"
      ],
      "metadata": {
        "colab": {
          "base_uri": "https://localhost:8080/",
          "height": 36
        },
        "id": "Zi6tUucaQxsp",
        "outputId": "4a84c0c2-b063-434a-c4b2-b03313266275"
      },
      "execution_count": 6,
      "outputs": [
        {
          "output_type": "execute_result",
          "data": {
            "text/plain": [
              "'x'"
            ],
            "application/vnd.google.colaboratory.intrinsic+json": {
              "type": "string"
            }
          },
          "metadata": {},
          "execution_count": 6
        }
      ]
    },
    {
      "cell_type": "code",
      "source": [
        "# Import the Symbol class from sympy\n",
        "from sympy import Symbol\n",
        "\n",
        "# Define three symbolic variables: x, y, and z individually\n",
        "x = Symbol('x')\n",
        "y = Symbol('y')\n",
        "z = Symbol('z')"
      ],
      "metadata": {
        "id": "FtVDrbzbQxpt"
      },
      "execution_count": 7,
      "outputs": []
    },
    {
      "cell_type": "code",
      "source": [
        "# Import the symbols function from sympy\n",
        "from sympy import symbols\n",
        "\n",
        "# Define multiple symbolic variables (x, y, and z) in a single line using the symbols function\n",
        "x, y, z = symbols('x, y, z')"
      ],
      "metadata": {
        "id": "Brk-JiVoRxa3"
      },
      "execution_count": 8,
      "outputs": []
    },
    {
      "cell_type": "code",
      "source": [
        "# Import the symbols function from sympy\n",
        "from sympy import symbols\n",
        "\n",
        "# Define symbolic variables x, y, and z individually\n",
        "x = symbols('x')\n",
        "y = symbols('y')\n",
        "z = symbols('z')\n",
        "\n",
        "# Create a symbolic expression by adding x*y to x*y\n",
        "s = x*y + x*y\n",
        "# Display the simplified symbolic expression\n",
        "s"
      ],
      "metadata": {
        "colab": {
          "base_uri": "https://localhost:8080/",
          "height": 38
        },
        "id": "z_o2NBMDRxXy",
        "outputId": "610e2af6-4cc2-4ded-e50f-4513da262587"
      },
      "execution_count": 9,
      "outputs": [
        {
          "output_type": "execute_result",
          "data": {
            "text/plain": [
              "2*x*y"
            ],
            "text/latex": "$\\displaystyle 2 x y$"
          },
          "metadata": {},
          "execution_count": 9
        }
      ]
    },
    {
      "cell_type": "code",
      "source": [
        "# Create a symbolic expression by multiplying x with the sum of x and x\n",
        "p = x*(x + x)\n",
        "# Display the simplified symbolic expression\n",
        "p"
      ],
      "metadata": {
        "colab": {
          "base_uri": "https://localhost:8080/",
          "height": 38
        },
        "id": "e2ozlCz1RxU6",
        "outputId": "2dad8ccb-4c8e-43e5-a25e-7a0307bf305f"
      },
      "execution_count": 10,
      "outputs": [
        {
          "output_type": "execute_result",
          "data": {
            "text/plain": [
              "2*x**2"
            ],
            "text/latex": "$\\displaystyle 2 x^{2}$"
          },
          "metadata": {},
          "execution_count": 10
        }
      ]
    },
    {
      "cell_type": "code",
      "source": [
        "# Create a symbolic expression by multiplying (x + 2) and (x + 3)\n",
        "p = (x + 2)*(x + 3)\n",
        "# Display the symbolic expression (it remains unexpanded by default)\n",
        "p"
      ],
      "metadata": {
        "colab": {
          "base_uri": "https://localhost:8080/",
          "height": 38
        },
        "id": "Uco1Nc4RRxLq",
        "outputId": "a203c499-f4d7-415c-ca6a-238215206f5f"
      },
      "execution_count": 11,
      "outputs": [
        {
          "output_type": "execute_result",
          "data": {
            "text/plain": [
              "(x + 2)*(x + 3)"
            ],
            "text/latex": "$\\displaystyle \\left(x + 2\\right) \\left(x + 3\\right)$"
          },
          "metadata": {},
          "execution_count": 11
        }
      ]
    },
    {
      "cell_type": "markdown",
      "source": [
        "# **Working with Expressions**\n",
        "\n",
        "**Factorizing and Expanding Expressions**"
      ],
      "metadata": {
        "id": "VxG6_GxYStlM"
      }
    },
    {
      "cell_type": "code",
      "source": [
        "# Import the Symbol class from sympy\n",
        "from sympy import Symbol\n",
        "\n",
        "# Define symbolic variables x and y\n",
        "x = Symbol('x')\n",
        "y = Symbol('y')"
      ],
      "metadata": {
        "id": "9E2TQaDrRxGS"
      },
      "execution_count": 12,
      "outputs": []
    },
    {
      "cell_type": "code",
      "source": [
        "# Import the factor function from sympy\n",
        "from sympy import factor\n",
        "# Define a symbolic expression: x squared minus y squared\n",
        "expr = x**2 - y**2\n",
        "# Factorize the expression and display the result\n",
        "factor(expr)"
      ],
      "metadata": {
        "colab": {
          "base_uri": "https://localhost:8080/",
          "height": 38
        },
        "id": "3wpNV6QYRxDm",
        "outputId": "6722a76d-fd3e-4aa3-c096-ae6935fb75c3"
      },
      "execution_count": 13,
      "outputs": [
        {
          "output_type": "execute_result",
          "data": {
            "text/plain": [
              "(x - y)*(x + y)"
            ],
            "text/latex": "$\\displaystyle \\left(x - y\\right) \\left(x + y\\right)$"
          },
          "metadata": {},
          "execution_count": 13
        }
      ]
    },
    {
      "cell_type": "code",
      "source": [
        "# Factorize the expression x**2 - y**2 and store the result\n",
        "factors = factor(expr)\n",
        "# Expand the factored expression back to its original form and display it\n",
        "expand(factors)"
      ],
      "metadata": {
        "colab": {
          "base_uri": "https://localhost:8080/",
          "height": 38
        },
        "id": "as3wokYuQxmh",
        "outputId": "412bab82-da1d-4e7c-9905-cc23189d8fe5"
      },
      "execution_count": 14,
      "outputs": [
        {
          "output_type": "execute_result",
          "data": {
            "text/plain": [
              "x**2 - y**2"
            ],
            "text/latex": "$\\displaystyle x^{2} - y^{2}$"
          },
          "metadata": {},
          "execution_count": 14
        }
      ]
    },
    {
      "cell_type": "code",
      "source": [
        "# Define a symbolic expression representing a cubic expansion\n",
        "expr = x**3 + 3*x**2*y + 3*x*y**2 + y**3\n",
        "# Factorize the expression and store the result\n",
        "factors = factor(expr)\n",
        "# Display the factored expression\n",
        "factors"
      ],
      "metadata": {
        "colab": {
          "base_uri": "https://localhost:8080/",
          "height": 39
        },
        "id": "YrcScwYKTSvP",
        "outputId": "5b005b00-3a0b-4234-aa11-676d9e535de9"
      },
      "execution_count": 15,
      "outputs": [
        {
          "output_type": "execute_result",
          "data": {
            "text/plain": [
              "(x + y)**3"
            ],
            "text/latex": "$\\displaystyle \\left(x + y\\right)^{3}$"
          },
          "metadata": {},
          "execution_count": 15
        }
      ]
    },
    {
      "cell_type": "code",
      "source": [
        "# Expand the factored expression (x + y)**3 back to its original form\n",
        "expand(factors)"
      ],
      "metadata": {
        "colab": {
          "base_uri": "https://localhost:8080/",
          "height": 38
        },
        "id": "1dXhVNFMTbmV",
        "outputId": "9450505f-86fb-4297-f28b-c2e204f37d5e"
      },
      "execution_count": 16,
      "outputs": [
        {
          "output_type": "execute_result",
          "data": {
            "text/plain": [
              "x**3 + 3*x**2*y + 3*x*y**2 + y**3"
            ],
            "text/latex": "$\\displaystyle x^{3} + 3 x^{2} y + 3 x y^{2} + y^{3}$"
          },
          "metadata": {},
          "execution_count": 16
        }
      ]
    },
    {
      "cell_type": "code",
      "source": [
        "# Define a simple symbolic expression\n",
        "expr = x + y + x*y\n",
        "# Expand the expression (although in this case, it doesn't change)\n",
        "expand(expr)"
      ],
      "metadata": {
        "colab": {
          "base_uri": "https://localhost:8080/",
          "height": 38
        },
        "id": "gQUwGjLwTpZu",
        "outputId": "aef37a33-22a1-444c-8c37-c75af7a819a8"
      },
      "execution_count": 17,
      "outputs": [
        {
          "output_type": "execute_result",
          "data": {
            "text/plain": [
              "x*y + x + y"
            ],
            "text/latex": "$\\displaystyle x y + x + y$"
          },
          "metadata": {},
          "execution_count": 17
        }
      ]
    },
    {
      "cell_type": "markdown",
      "source": [
        "**Pretty Printing**"
      ],
      "metadata": {
        "id": "A0DPPL36T4IG"
      }
    },
    {
      "cell_type": "code",
      "source": [
        "# Define a symbolic expression representing a perfect square trinomial\n",
        "expr = x*x + 2*x*y + y*y\n",
        "# Display the expression using standard output\n",
        "expr"
      ],
      "metadata": {
        "colab": {
          "base_uri": "https://localhost:8080/",
          "height": 38
        },
        "id": "hXkWTNP1T6Ym",
        "outputId": "e6a048ce-772c-454d-80f4-620948d6bb76"
      },
      "execution_count": 18,
      "outputs": [
        {
          "output_type": "execute_result",
          "data": {
            "text/plain": [
              "x**2 + 2*x*y + y**2"
            ],
            "text/latex": "$\\displaystyle x^{2} + 2 x y + y^{2}$"
          },
          "metadata": {},
          "execution_count": 18
        }
      ]
    },
    {
      "cell_type": "code",
      "source": [
        "# Import the pprint function for pretty printing\n",
        "from sympy import pprint\n",
        "\n",
        "# Pretty print the symbolic expression\n",
        "pprint(expr)"
      ],
      "metadata": {
        "colab": {
          "base_uri": "https://localhost:8080/"
        },
        "id": "Pei6wDdJUDSA",
        "outputId": "9b13311e-d655-48f6-cbc7-6d9316706501"
      },
      "execution_count": 19,
      "outputs": [
        {
          "output_type": "stream",
          "name": "stdout",
          "text": [
            " 2            2\n",
            "x  + 2⋅x⋅y + y \n"
          ]
        }
      ]
    },
    {
      "cell_type": "code",
      "source": [
        "# Define a new symbolic expression\n",
        "expr = 1 + 2*x + 2 *x**2\n",
        "# Pretty print the expression using the default printing order\n",
        "pprint(expr)"
      ],
      "metadata": {
        "colab": {
          "base_uri": "https://localhost:8080/"
        },
        "id": "KvcKsJp9UK89",
        "outputId": "68595d42-f4fd-4fef-a927-87fb8fb5521a"
      },
      "execution_count": 20,
      "outputs": [
        {
          "output_type": "stream",
          "name": "stdout",
          "text": [
            "   2          \n",
            "2⋅x  + 2⋅x + 1\n"
          ]
        }
      ]
    },
    {
      "cell_type": "code",
      "source": [
        "# Import the init_printing function\n",
        "from sympy import init_printing\n",
        "\n",
        "# Initialize the printing system to order terms in reverse lexicographical order\n",
        "init_printing(order = 'rev-lex')\n",
        "\n",
        "# Pretty print the expression with the new printing order\n",
        "pprint(expr)"
      ],
      "metadata": {
        "colab": {
          "base_uri": "https://localhost:8080/"
        },
        "id": "egoIGi4oUXpR",
        "outputId": "1b79d8c2-f47a-45db-f4c2-31ebeb4212e8"
      },
      "execution_count": 21,
      "outputs": [
        {
          "output_type": "stream",
          "name": "stdout",
          "text": [
            "             2\n",
            "1 + 2⋅x + 2⋅x \n"
          ]
        }
      ]
    },
    {
      "cell_type": "code",
      "source": [
        "'''\n",
        "print the series:\n",
        "x + x**2 + x**3 + ... + x**n\n",
        "    ____     _____      _____\n",
        "     2       3            n\n",
        "\n",
        "'''\n",
        "\n",
        "from sympy import Symbol, pprint, init_printing\n",
        "\n",
        "def print_series(n):\n",
        "  # Initialize printing system with reverse order for terms\n",
        "  init_printing(order = 'rev-lex')\n",
        "\n",
        "  # Create a symbol x\n",
        "  x = Symbol('x')\n",
        "  # Initialize the series with the first term\n",
        "  series = x\n",
        "  # Add subsequent terms to the series\n",
        "  for i in range(2, n+1):\n",
        "    series = series + (x**i)/i\n",
        "  # Pretty print the resulting series\n",
        "  pprint(series)\n",
        "\n",
        "\n",
        "if __name__ == '__main__':\n",
        "  # Prompt the user to enter the number of terms\n",
        "  n = input('Enter the number of terms you want to print in the series: ')\n",
        "  # Call the print_series function with the user's input (converted to an integer)\n",
        "  print_series(int(n))"
      ],
      "metadata": {
        "colab": {
          "base_uri": "https://localhost:8080/"
        },
        "id": "zz_9Ihr2Up9m",
        "outputId": "3405d91f-3e21-466b-a729-73f24751215e"
      },
      "execution_count": 22,
      "outputs": [
        {
          "output_type": "stream",
          "name": "stdout",
          "text": [
            "Enter the number of terms you want to print in the series: 7\n",
            "     2    3    4    5    6    7\n",
            "    x    x    x    x    x    x \n",
            "x + ── + ── + ── + ── + ── + ──\n",
            "    2    3    4    5    6    7 \n"
          ]
        }
      ]
    },
    {
      "cell_type": "code",
      "source": [
        "# This cell contains comments explaining the logic of the series calculation in the previous cell.\n",
        "# i = 2, series = x + x**2 / 2\n",
        "# i = 3, series = x + x**2/2 + x**3/3"
      ],
      "metadata": {
        "id": "D7xtYNl9WJy6"
      },
      "execution_count": 23,
      "outputs": []
    },
    {
      "cell_type": "markdown",
      "source": [
        "# **Substituting in Values**"
      ],
      "metadata": {
        "id": "IY13or8uW1Zz"
      }
    },
    {
      "cell_type": "code",
      "source": [
        "# Define symbolic variables x and y\n",
        "x = Symbol('x')\n",
        "y = Symbol('y')\n",
        "\n",
        "# Create a symbolic expression and simplify it\n",
        "x*x + x*y + x*y + y*y"
      ],
      "metadata": {
        "colab": {
          "base_uri": "https://localhost:8080/",
          "height": 38
        },
        "id": "wGL1MOpDezyb",
        "outputId": "905a87dc-288a-454a-87ce-be4036efd385"
      },
      "execution_count": 24,
      "outputs": [
        {
          "output_type": "execute_result",
          "data": {
            "text/plain": [
              " 2            2\n",
              "y  + 2⋅x⋅y + x "
            ],
            "text/latex": "$\\displaystyle y^{2} + 2 x y + x^{2}$"
          },
          "metadata": {},
          "execution_count": 24
        }
      ]
    },
    {
      "cell_type": "code",
      "source": [
        "# Define the symbolic expression\n",
        "expr = x*x + x*y + x*y + y*y\n",
        "# Substitute specific values for x (1) and y (2) into the expression\n",
        "res = expr.subs({x:1, y:2})\n",
        "# Display the result of the substitution (the evaluated value of the expression)\n",
        "res"
      ],
      "metadata": {
        "colab": {
          "base_uri": "https://localhost:8080/",
          "height": 37
        },
        "id": "Uw2G_OYqe1XW",
        "outputId": "1578c539-268a-416a-b87c-34a161b93dd1"
      },
      "execution_count": 25,
      "outputs": [
        {
          "output_type": "execute_result",
          "data": {
            "text/plain": [
              "9"
            ],
            "text/latex": "$\\displaystyle 9$"
          },
          "metadata": {},
          "execution_count": 25
        }
      ]
    },
    {
      "cell_type": "code",
      "source": [
        "# Substitute the expression (1 - y) for x in the symbolic expression\n",
        "expr.subs({x:1-y})\n",
        "# Manually write out the expected result of the substitution to compare\n",
        "y**2 + 2*y*(-y + 1) + (-y + 1)**2"
      ],
      "metadata": {
        "colab": {
          "base_uri": "https://localhost:8080/",
          "height": 39
        },
        "id": "szb9PMbRe1Uf",
        "outputId": "3655f6f7-4767-4787-a456-6137696ffd2e"
      },
      "execution_count": 26,
      "outputs": [
        {
          "output_type": "execute_result",
          "data": {
            "text/plain": [
              "       2                  2\n",
              "(1 - y)  + 2⋅y⋅(1 - y) + y "
            ],
            "text/latex": "$\\displaystyle \\left(1 - y\\right)^{2} + 2 y \\left(1 - y\\right) + y^{2}$"
          },
          "metadata": {},
          "execution_count": 26
        }
      ]
    },
    {
      "cell_type": "code",
      "source": [
        "from random import sample\n",
        "# Define a sample Python dictionary\n",
        "sampledict = {'key1': 5, 'key2': 20}\n",
        "\n",
        "# Access and display the value associated with the key 'key1'\n",
        "sampledict['key1']"
      ],
      "metadata": {
        "colab": {
          "base_uri": "https://localhost:8080/",
          "height": 37
        },
        "id": "Mm7fk50Ze0ta",
        "outputId": "db44133e-e47d-4ec5-f9fc-c17191aa683b"
      },
      "execution_count": 27,
      "outputs": [
        {
          "output_type": "execute_result",
          "data": {
            "text/plain": [
              "5"
            ],
            "text/latex": "$\\displaystyle 5$"
          },
          "metadata": {},
          "execution_count": 27
        }
      ]
    },
    {
      "cell_type": "code",
      "source": [
        "# Substitute the expression (1 - y) for x in the symbolic expression and store the result\n",
        "expr_subs = expr.subs({x:1-y})\n",
        "# Import the simplify function from sympy\n",
        "from sympy import simplify\n",
        "# Simplify the substituted expression and display the result\n",
        "simplify(expr_subs)"
      ],
      "metadata": {
        "colab": {
          "base_uri": "https://localhost:8080/",
          "height": 37
        },
        "id": "ydMzmGwhe0qu",
        "outputId": "4c154aef-57ad-4ca0-c882-dc44bb4d6cf7"
      },
      "execution_count": 28,
      "outputs": [
        {
          "output_type": "execute_result",
          "data": {
            "text/plain": [
              "1"
            ],
            "text/latex": "$\\displaystyle 1$"
          },
          "metadata": {},
          "execution_count": 28
        }
      ]
    },
    {
      "cell_type": "markdown",
      "source": [
        "**Calculating the value of a Series**"
      ],
      "metadata": {
        "id": "7G6xnXEPgafv"
      }
    },
    {
      "cell_type": "code",
      "source": [
        "'''\n",
        "Print the series:\n",
        "x + x**2 + x**3 + ... + x**n\n",
        "     ____  _____      _____\n",
        "      2      3          n\n",
        "'''\n",
        "\n",
        "from sympy import Symbol, pprint, init_printing"
      ],
      "metadata": {
        "id": "Xkv1ABJNe0n3"
      },
      "execution_count": 29,
      "outputs": []
    },
    {
      "cell_type": "code",
      "source": [
        "# Define a function to print a series and evaluate it at a given value of x\n",
        "def print_series(n, x_value):\n",
        "  # Initialize printing system with reverse order for terms\n",
        "  init_printing(order = 'rev-lex')\n",
        "\n",
        "  # Create a symbol x\n",
        "  x = Symbol('x')\n",
        "  # Initialize the series with the first term\n",
        "  series = x\n",
        "  # Add subsequent terms to the series\n",
        "  for i in range(2, n+1):\n",
        "    series = series + (x**i)/i\n",
        "  # Pretty print the resulting series\n",
        "  pprint(series)\n",
        "\n",
        "  # Evaluate the series at the given x_value by substituting the value for x\n",
        "  series_value = series.subs(x, x_value)\n",
        "  # Print the value of the series at the specified x_value\n",
        "  print('Value of the series at {0}: {1}'.format(x_value, series_value))"
      ],
      "metadata": {
        "id": "DMrlc_oKe0lM"
      },
      "execution_count": 30,
      "outputs": []
    },
    {
      "cell_type": "code",
      "source": [
        "# This block will be executed when the script is run directly\n",
        "if __name__ == '__main__':\n",
        "  # Prompt the user to enter the number of terms for the series\n",
        "  n = input('Enter the number of terms you want to print in the series: ')\n",
        "  # Prompt the user to enter the value of x to evaluate the series\n",
        "  x_value = input('Enter the value of x at which you want to evaluate the series: ')\n",
        "  # Call the print_series function with the user's inputs (converted to integer and float)\n",
        "  print_series(int(n), float(x_value))"
      ],
      "metadata": {
        "colab": {
          "base_uri": "https://localhost:8080/"
        },
        "id": "fFlTAJKaky8_",
        "outputId": "6da6ce79-df89-48e6-a079-325ec320e558"
      },
      "execution_count": 31,
      "outputs": [
        {
          "output_type": "stream",
          "name": "stdout",
          "text": [
            "Enter the number of terms you want to print in the series: 7\n",
            "Enter the value of x at which you want to evaluate the series: 1.9\n",
            "     2    3    4    5    6    7\n",
            "    x    x    x    x    x    x \n",
            "x + ── + ── + ── + ── + ── + ──\n",
            "    2    3    4    5    6    7 \n",
            "Value of the series at 1.9: 34.8121327714286\n"
          ]
        }
      ]
    },
    {
      "cell_type": "markdown",
      "source": [
        "# **Converting Strings to Mathematical Expressions**"
      ],
      "metadata": {
        "id": "hbDgrqahlL-7"
      }
    },
    {
      "cell_type": "code",
      "source": [
        "from sympy import sympify\n",
        "# Prompt the user to enter a mathematical expression\n",
        "expr = input('Enter a mathematical expression: ')\n",
        "# Convert the input string to a SymPy expression\n",
        "expr = sympify(expr)"
      ],
      "metadata": {
        "colab": {
          "base_uri": "https://localhost:8080/"
        },
        "id": "2P9s_3tf6gAj",
        "outputId": "c23dde15-2530-4c26-8195-7ee187801e9d"
      },
      "execution_count": 34,
      "outputs": [
        {
          "name": "stdout",
          "output_type": "stream",
          "text": [
            "Enter a mathematical expression: x**2 + 3*x + x**3 + 2*x\n"
          ]
        }
      ]
    },
    {
      "cell_type": "code",
      "source": [
        "# Multiply the symbolic expression by 2\n",
        "2*expr"
      ],
      "metadata": {
        "colab": {
          "base_uri": "https://localhost:8080/",
          "height": 38
        },
        "id": "vbwELL0i7Ll4",
        "outputId": "796f7bf8-25a3-4d15-f5fa-2497273a3ace"
      },
      "execution_count": 33,
      "outputs": [
        {
          "output_type": "execute_result",
          "data": {
            "text/plain": [
              "          2      3\n",
              "10⋅x + 2⋅x  + 2⋅x "
            ],
            "text/latex": "$\\displaystyle 10 x + 2 x^{2} + 2 x^{3}$"
          },
          "metadata": {},
          "execution_count": 33
        }
      ]
    },
    {
      "cell_type": "code",
      "source": [
        "from sympy import sympify\n",
        "from sympy.core.sympify import SympifyError\n",
        "\n",
        "# Prompt the user to enter a mathematical expression\n",
        "expr = input('Enter a mathematical expression: ')\n",
        "# Attempt to convert the input string to a SymPy expression\n",
        "try:\n",
        "  expr = sympify(expr)\n",
        "except SympifyError:\n",
        "  # Handle the case where the input is not a valid mathematical expression\n",
        "  print('Invalid input')\n",
        "else:\n",
        "  # If the conversion is successful, print the expression\n",
        "  expr"
      ],
      "metadata": {
        "colab": {
          "base_uri": "https://localhost:8080/",
          "height": 553
        },
        "id": "jLOfvTAp7Rz3",
        "outputId": "20aa658f-f4f4-4b2f-d2b7-9b75b521b0d9"
      },
      "execution_count": 35,
      "outputs": [
        {
          "name": "stdout",
          "output_type": "stream",
          "text": [
            "Enter a mathematical expression: x**2 + 3*x + x**3 + 2x\n"
          ]
        },
        {
          "output_type": "error",
          "ename": "SympifyError",
          "evalue": "Sympify of expression 'could not parse 'x**2 + 3*x + x**3 + 2x'' failed, because of exception being raised:\nSyntaxError: invalid syntax (<string>, line 1)",
          "traceback": [
            "\u001b[0;31m---------------------------------------------------------------------------\u001b[0m",
            "\u001b[0;31mValueError\u001b[0m                                Traceback (most recent call last)",
            "\u001b[0;31mValueError\u001b[0m: Error from parse_expr with transformed code: \"Symbol ('x' )**Integer (2 )+Integer (3 )*Symbol ('x' )+Symbol ('x' )**Integer (3 )+Integer (2 )Symbol ('x' )\"",
            "\nThe above exception was the direct cause of the following exception:\n",
            "\u001b[0;31mSyntaxError\u001b[0m                               Traceback (most recent call last)",
            "\u001b[0;32m/usr/local/lib/python3.11/dist-packages/sympy/core/sympify.py\u001b[0m in \u001b[0;36msympify\u001b[0;34m(a, locals, convert_xor, strict, rational, evaluate)\u001b[0m\n\u001b[1;32m    480\u001b[0m         \u001b[0ma\u001b[0m \u001b[0;34m=\u001b[0m \u001b[0ma\u001b[0m\u001b[0;34m.\u001b[0m\u001b[0mreplace\u001b[0m\u001b[0;34m(\u001b[0m\u001b[0;34m'\\n'\u001b[0m\u001b[0;34m,\u001b[0m \u001b[0;34m''\u001b[0m\u001b[0;34m)\u001b[0m\u001b[0;34m\u001b[0m\u001b[0;34m\u001b[0m\u001b[0m\n\u001b[0;32m--> 481\u001b[0;31m         \u001b[0mexpr\u001b[0m \u001b[0;34m=\u001b[0m \u001b[0mparse_expr\u001b[0m\u001b[0;34m(\u001b[0m\u001b[0ma\u001b[0m\u001b[0;34m,\u001b[0m \u001b[0mlocal_dict\u001b[0m\u001b[0;34m=\u001b[0m\u001b[0mlocals\u001b[0m\u001b[0;34m,\u001b[0m \u001b[0mtransformations\u001b[0m\u001b[0;34m=\u001b[0m\u001b[0mtransformations\u001b[0m\u001b[0;34m,\u001b[0m \u001b[0mevaluate\u001b[0m\u001b[0;34m=\u001b[0m\u001b[0mevaluate\u001b[0m\u001b[0;34m)\u001b[0m\u001b[0;34m\u001b[0m\u001b[0;34m\u001b[0m\u001b[0m\n\u001b[0m\u001b[1;32m    482\u001b[0m     \u001b[0;32mexcept\u001b[0m \u001b[0;34m(\u001b[0m\u001b[0mTokenError\u001b[0m\u001b[0;34m,\u001b[0m \u001b[0mSyntaxError\u001b[0m\u001b[0;34m)\u001b[0m \u001b[0;32mas\u001b[0m \u001b[0mexc\u001b[0m\u001b[0;34m:\u001b[0m\u001b[0;34m\u001b[0m\u001b[0;34m\u001b[0m\u001b[0m\n",
            "\u001b[0;32m/usr/local/lib/python3.11/dist-packages/sympy/parsing/sympy_parser.py\u001b[0m in \u001b[0;36mparse_expr\u001b[0;34m(s, local_dict, transformations, global_dict, evaluate)\u001b[0m\n\u001b[1;32m   1089\u001b[0m             \u001b[0mlocal_dict\u001b[0m\u001b[0;34m[\u001b[0m\u001b[0mi\u001b[0m\u001b[0;34m]\u001b[0m \u001b[0;34m=\u001b[0m \u001b[0mnull\u001b[0m\u001b[0;34m\u001b[0m\u001b[0;34m\u001b[0m\u001b[0m\n\u001b[0;32m-> 1090\u001b[0;31m         \u001b[0;32mraise\u001b[0m \u001b[0me\u001b[0m \u001b[0;32mfrom\u001b[0m \u001b[0mValueError\u001b[0m\u001b[0;34m(\u001b[0m\u001b[0;34mf\"Error from parse_expr with transformed code: {code!r}\"\u001b[0m\u001b[0;34m)\u001b[0m\u001b[0;34m\u001b[0m\u001b[0;34m\u001b[0m\u001b[0m\n\u001b[0m\u001b[1;32m   1091\u001b[0m \u001b[0;34m\u001b[0m\u001b[0m\n",
            "\u001b[0;32m/usr/local/lib/python3.11/dist-packages/sympy/parsing/sympy_parser.py\u001b[0m in \u001b[0;36mparse_expr\u001b[0;34m(s, local_dict, transformations, global_dict, evaluate)\u001b[0m\n\u001b[1;32m   1080\u001b[0m     \u001b[0;32mtry\u001b[0m\u001b[0;34m:\u001b[0m\u001b[0;34m\u001b[0m\u001b[0;34m\u001b[0m\u001b[0m\n\u001b[0;32m-> 1081\u001b[0;31m         \u001b[0mrv\u001b[0m \u001b[0;34m=\u001b[0m \u001b[0meval_expr\u001b[0m\u001b[0;34m(\u001b[0m\u001b[0mcode\u001b[0m\u001b[0;34m,\u001b[0m \u001b[0mlocal_dict\u001b[0m\u001b[0;34m,\u001b[0m \u001b[0mglobal_dict\u001b[0m\u001b[0;34m)\u001b[0m\u001b[0;34m\u001b[0m\u001b[0;34m\u001b[0m\u001b[0m\n\u001b[0m\u001b[1;32m   1082\u001b[0m         \u001b[0;31m# restore neutral definitions for names\u001b[0m\u001b[0;34m\u001b[0m\u001b[0;34m\u001b[0m\u001b[0m\n",
            "\u001b[0;32m/usr/local/lib/python3.11/dist-packages/sympy/parsing/sympy_parser.py\u001b[0m in \u001b[0;36meval_expr\u001b[0;34m(code, local_dict, global_dict)\u001b[0m\n\u001b[1;32m    908\u001b[0m     \"\"\"\n\u001b[0;32m--> 909\u001b[0;31m     expr = eval(\n\u001b[0m\u001b[1;32m    910\u001b[0m         code, global_dict, local_dict)  # take local objects in preference\n",
            "\u001b[0;31mSyntaxError\u001b[0m: invalid syntax (<string>, line 1)",
            "\nDuring handling of the above exception, another exception occurred:\n",
            "\u001b[0;31mSympifyError\u001b[0m                              Traceback (most recent call last)",
            "\u001b[0;32m/tmp/ipython-input-35-2858348818.py\u001b[0m in \u001b[0;36m<cell line: 0>\u001b[0;34m()\u001b[0m\n\u001b[1;32m      1\u001b[0m \u001b[0mexpr\u001b[0m \u001b[0;34m=\u001b[0m \u001b[0minput\u001b[0m\u001b[0;34m(\u001b[0m\u001b[0;34m'Enter a mathematical expression: '\u001b[0m\u001b[0;34m)\u001b[0m\u001b[0;34m\u001b[0m\u001b[0;34m\u001b[0m\u001b[0m\n\u001b[0;32m----> 2\u001b[0;31m \u001b[0mexpr\u001b[0m \u001b[0;34m=\u001b[0m \u001b[0msympify\u001b[0m\u001b[0;34m(\u001b[0m\u001b[0mexpr\u001b[0m\u001b[0;34m)\u001b[0m\u001b[0;34m\u001b[0m\u001b[0;34m\u001b[0m\u001b[0m\n\u001b[0m\u001b[1;32m      3\u001b[0m \u001b[0mexpr\u001b[0m\u001b[0;34m\u001b[0m\u001b[0;34m\u001b[0m\u001b[0m\n",
            "\u001b[0;32m/usr/local/lib/python3.11/dist-packages/sympy/core/sympify.py\u001b[0m in \u001b[0;36msympify\u001b[0;34m(a, locals, convert_xor, strict, rational, evaluate)\u001b[0m\n\u001b[1;32m    481\u001b[0m         \u001b[0mexpr\u001b[0m \u001b[0;34m=\u001b[0m \u001b[0mparse_expr\u001b[0m\u001b[0;34m(\u001b[0m\u001b[0ma\u001b[0m\u001b[0;34m,\u001b[0m \u001b[0mlocal_dict\u001b[0m\u001b[0;34m=\u001b[0m\u001b[0mlocals\u001b[0m\u001b[0;34m,\u001b[0m \u001b[0mtransformations\u001b[0m\u001b[0;34m=\u001b[0m\u001b[0mtransformations\u001b[0m\u001b[0;34m,\u001b[0m \u001b[0mevaluate\u001b[0m\u001b[0;34m=\u001b[0m\u001b[0mevaluate\u001b[0m\u001b[0;34m)\u001b[0m\u001b[0;34m\u001b[0m\u001b[0;34m\u001b[0m\u001b[0m\n\u001b[1;32m    482\u001b[0m     \u001b[0;32mexcept\u001b[0m \u001b[0;34m(\u001b[0m\u001b[0mTokenError\u001b[0m\u001b[0;34m,\u001b[0m \u001b[0mSyntaxError\u001b[0m\u001b[0;34m)\u001b[0m \u001b[0;32mas\u001b[0m \u001b[0mexc\u001b[0m\u001b[0;34m:\u001b[0m\u001b[0;34m\u001b[0m\u001b[0;34m\u001b[0m\u001b[0m\n\u001b[0;32m--> 483\u001b[0;31m         \u001b[0;32mraise\u001b[0m \u001b[0mSympifyError\u001b[0m\u001b[0;34m(\u001b[0m\u001b[0;34m'could not parse %r'\u001b[0m \u001b[0;34m%\u001b[0m \u001b[0ma\u001b[0m\u001b[0;34m,\u001b[0m \u001b[0mexc\u001b[0m\u001b[0;34m)\u001b[0m\u001b[0;34m\u001b[0m\u001b[0;34m\u001b[0m\u001b[0m\n\u001b[0m\u001b[1;32m    484\u001b[0m \u001b[0;34m\u001b[0m\u001b[0m\n\u001b[1;32m    485\u001b[0m     \u001b[0;32mreturn\u001b[0m \u001b[0mexpr\u001b[0m\u001b[0;34m\u001b[0m\u001b[0;34m\u001b[0m\u001b[0m\n",
            "\u001b[0;31mSympifyError\u001b[0m: Sympify of expression 'could not parse 'x**2 + 3*x + x**3 + 2x'' failed, because of exception being raised:\nSyntaxError: invalid syntax (<string>, line 1)"
          ]
        }
      ]
    },
    {
      "cell_type": "code",
      "source": [
        "from sympy import sympify\n",
        "from sympy.core.sympify import SympifyError\n",
        "expr = input('Enter a mathematical expression: ')\n",
        "try:\n",
        "  expr = sympify(expr)\n",
        "except SympifyError:\n",
        "  print('Invalid input')\n",
        "else:\n",
        "  print('Input is a valid mathematical expression')"
      ],
      "metadata": {
        "colab": {
          "base_uri": "https://localhost:8080/"
        },
        "id": "mzQCne4V7ixW",
        "outputId": "7e981289-45b2-4f18-e668-1acffa140b14"
      },
      "execution_count": 37,
      "outputs": [
        {
          "output_type": "stream",
          "name": "stdout",
          "text": [
            "Enter a mathematical expression: x**2 + 3*x + x**3 + 2*x\n",
            "Input is a valid mathematical expression\n"
          ]
        }
      ]
    },
    {
      "cell_type": "markdown",
      "source": [
        "# **Expression Multiplier**"
      ],
      "metadata": {
        "id": "2iAQtJPB8LPj"
      }
    },
    {
      "cell_type": "code",
      "source": [
        "'''\n",
        "Product of two expressions\n",
        "\n",
        "'''"
      ],
      "metadata": {
        "colab": {
          "base_uri": "https://localhost:8080/",
          "height": 36
        },
        "id": "MNvhHs3a8Q3O",
        "outputId": "1d2a95bf-b27b-4465-8ad9-9cb9d6eb7cc1"
      },
      "execution_count": 39,
      "outputs": [
        {
          "output_type": "execute_result",
          "data": {
            "text/plain": [
              "'\\nProduct of two expressions\\n\\n'"
            ],
            "application/vnd.google.colaboratory.intrinsic+json": {
              "type": "string"
            }
          },
          "metadata": {},
          "execution_count": 39
        }
      ]
    },
    {
      "cell_type": "code",
      "source": [
        "from sympy import expand, sympify\n",
        "from sympy.core.sympify import SympifyError"
      ],
      "metadata": {
        "id": "JhzdO54n8fWt"
      },
      "execution_count": 38,
      "outputs": []
    },
    {
      "cell_type": "code",
      "source": [
        "def product(expr1, expr2):\n",
        "  # Expand the product of the two expressions\n",
        "  prod = expand(expr1 * expr2)\n",
        "  return prod"
      ],
      "metadata": {
        "id": "W1FbLGmD8s9t"
      },
      "execution_count": 40,
      "outputs": []
    },
    {
      "cell_type": "code",
      "source": [
        "if __name__=='__main__':\n",
        "\n",
        "  # Prompt the user to enter the first mathematical expression\n",
        "  expr1 = input('Enter the first mathematical expression: ')\n",
        "  # Prompt the user to enter the second mathematical expression\n",
        "  expr2 = input('Enter the second mathematical expression: ')\n",
        "\n",
        "  try:\n",
        "    expr1 = sympify(expr1)\n",
        "    expr2 = sympify(expr2)\n",
        "  except SympifyError:\n",
        "    print('Invalid input')\n",
        "  else:\n",
        "    prod = product(expr1, expr2)\n",
        "    print('Product of the two expressions: ')\n",
        "    print(prod)\n",
        "\n",
        "\n",
        "'''\n",
        "first output:\n",
        "\n",
        "Enter the first mathematical expression: x**2 + x*2 + x\n",
        "Enter the second mathematical expression: x**3 + x*3 + x\n",
        "Product of the two expressions:\n",
        "x**5 + 3*x**4 + 4*x**3 + 12*x**2\n",
        "'''\n",
        "\n",
        "'''\n",
        "second output:\n",
        "\n",
        "Enter the first mathematical expression: x*y+x\n",
        "Enter the second mathematical expression: x*x+y\n",
        "Product of the two expressions:\n",
        "x**3*y + x**3 + x*y**2 + x*y\n",
        "'''"
      ],
      "metadata": {
        "colab": {
          "base_uri": "https://localhost:8080/",
          "height": 109
        },
        "id": "ILT7lZ6V8_3n",
        "outputId": "b3a80d08-1301-45ea-c8f5-d0f39724936e"
      },
      "execution_count": 45,
      "outputs": [
        {
          "output_type": "stream",
          "name": "stdout",
          "text": [
            "Enter the first mathematical expression: x**2 + x*2 + x\n",
            "Enter the second mathematical expression: x**3 + x*3 + x\n",
            "Product of the two expressions: \n",
            "x**5 + 3*x**4 + 4*x**3 + 12*x**2\n"
          ]
        },
        {
          "output_type": "execute_result",
          "data": {
            "text/plain": [
              "'\\nsecond output:\\n\\nEnter the first mathematical expression: x*y+x\\nEnter the second mathematical expression: x*x+y\\nProduct of the two expressions: \\nx**3*y + x**3 + x*y**2 + x*y\\n'"
            ],
            "application/vnd.google.colaboratory.intrinsic+json": {
              "type": "string"
            }
          },
          "metadata": {},
          "execution_count": 45
        }
      ]
    },
    {
      "cell_type": "markdown",
      "source": [
        "# **Solving Equations**\n",
        "\n"
      ],
      "metadata": {
        "id": "oLHbTC0WAK32"
      }
    },
    {
      "cell_type": "code",
      "source": [
        "from sympy import Symbol, solve\n",
        "\n",
        "# Define a symbolic variable x\n",
        "x = Symbol('x')\n",
        "\n",
        "# Display the symbolic variable x\n",
        "x"
      ],
      "metadata": {
        "colab": {
          "base_uri": "https://localhost:8080/",
          "height": 38
        },
        "id": "9gEFUeIQATDS",
        "outputId": "7bdc4e18-6e7d-4fcf-a8ec-5e544c9aa82e"
      },
      "execution_count": 48,
      "outputs": [
        {
          "output_type": "execute_result",
          "data": {
            "text/plain": [
              "x"
            ],
            "text/latex": "$\\displaystyle x$"
          },
          "metadata": {},
          "execution_count": 48
        }
      ]
    },
    {
      "cell_type": "code",
      "source": [
        "# Define a symbolic expression\n",
        "expr = x - 5 - 7\n",
        "# Display the expression\n",
        "expr"
      ],
      "metadata": {
        "colab": {
          "base_uri": "https://localhost:8080/",
          "height": 38
        },
        "id": "E4ILv0QVAfuy",
        "outputId": "054c6908-af98-446f-9f9f-35344f6c66f8"
      },
      "execution_count": 55,
      "outputs": [
        {
          "output_type": "execute_result",
          "data": {
            "text/plain": [
              "-12 + x"
            ],
            "text/latex": "$\\displaystyle -12 + x$"
          },
          "metadata": {},
          "execution_count": 55
        }
      ]
    },
    {
      "cell_type": "code",
      "source": [
        "# Solve the expression (equation set to 0) for x\n",
        "solve(expr)"
      ],
      "metadata": {
        "colab": {
          "base_uri": "https://localhost:8080/",
          "height": 37
        },
        "id": "5Bby6dwXATMt",
        "outputId": "abbeb799-c580-4df0-af8a-b39735e98862"
      },
      "execution_count": 56,
      "outputs": [
        {
          "output_type": "execute_result",
          "data": {
            "text/plain": [
              "[12]"
            ],
            "text/latex": "$\\displaystyle \\left[ 12\\right]$"
          },
          "metadata": {},
          "execution_count": 56
        }
      ]
    },
    {
      "cell_type": "markdown",
      "source": [
        "#**Solving Quadratic Equations**"
      ],
      "metadata": {
        "id": "NiFXsPf-Amku"
      }
    },
    {
      "cell_type": "code",
      "source": [
        "from sympy import solve\n",
        "\n",
        "# Define a symbolic variable x\n",
        "x = Symbol('x')\n",
        "\n",
        "# Display the symbolic variable x\n",
        "x"
      ],
      "metadata": {
        "colab": {
          "base_uri": "https://localhost:8080/",
          "height": 38
        },
        "id": "PvuZe-T-AtyC",
        "outputId": "8ca5ae2e-3432-46ca-bc0f-f323332eaf6e"
      },
      "execution_count": 51,
      "outputs": [
        {
          "output_type": "execute_result",
          "data": {
            "text/plain": [
              "x"
            ],
            "text/latex": "$\\displaystyle x$"
          },
          "metadata": {},
          "execution_count": 51
        }
      ]
    },
    {
      "cell_type": "code",
      "source": [
        "# Define a quadratic expression\n",
        "expr = x**2 + 5*x + 4\n",
        "\n",
        "# Display the expression\n",
        "expr"
      ],
      "metadata": {
        "colab": {
          "base_uri": "https://localhost:8080/",
          "height": 38
        },
        "id": "8yS_XDrLA4gj",
        "outputId": "68cd17bb-dcd9-42d6-e9b0-f7e60704af9a"
      },
      "execution_count": 52,
      "outputs": [
        {
          "output_type": "execute_result",
          "data": {
            "text/plain": [
              "           2\n",
              "4 + 5⋅x + x "
            ],
            "text/latex": "$\\displaystyle 4 + 5 x + x^{2}$"
          },
          "metadata": {},
          "execution_count": 52
        }
      ]
    },
    {
      "cell_type": "code",
      "source": [
        "# Solve the quadratic expression for x and return the solutions as a dictionary\n",
        "solve(expr, dict=True)"
      ],
      "metadata": {
        "colab": {
          "base_uri": "https://localhost:8080/",
          "height": 38
        },
        "id": "voO-bjDEA_XK",
        "outputId": "a2bec169-f28d-4c31-bb07-6ff66c13554c"
      },
      "execution_count": 53,
      "outputs": [
        {
          "output_type": "execute_result",
          "data": {
            "text/plain": [
              "[{x: -4}, {x: -1}]"
            ],
            "text/latex": "$\\displaystyle \\left[ \\left\\{ x : -4\\right\\}, \\  \\left\\{ x : -1\\right\\}\\right]$"
          },
          "metadata": {},
          "execution_count": 53
        }
      ]
    },
    {
      "cell_type": "code",
      "source": [
        "# Define a symbolic variable x\n",
        "x = Symbol('x')\n",
        "# Define a quadratic expression with complex roots\n",
        "expr = x**2 + x + 1\n",
        "# Display the expression\n",
        "expr"
      ],
      "metadata": {
        "colab": {
          "base_uri": "https://localhost:8080/",
          "height": 38
        },
        "id": "797NTpikBOVx",
        "outputId": "da9ae349-8ea1-4f2d-ccd0-df65c8636f11"
      },
      "execution_count": 58,
      "outputs": [
        {
          "output_type": "execute_result",
          "data": {
            "text/plain": [
              "         2\n",
              "1 + x + x "
            ],
            "text/latex": "$\\displaystyle 1 + x + x^{2}$"
          },
          "metadata": {},
          "execution_count": 58
        }
      ]
    },
    {
      "cell_type": "code",
      "source": [
        "# Solve the quadratic expression for x and return the solutions as a dictionary (including complex roots)\n",
        "solve(expr, dict=True)"
      ],
      "metadata": {
        "colab": {
          "base_uri": "https://localhost:8080/",
          "height": 68
        },
        "id": "pasV1fBOBfhy",
        "outputId": "7a10d6dd-ae06-44d0-fc06-20c9553ae63a"
      },
      "execution_count": 59,
      "outputs": [
        {
          "output_type": "execute_result",
          "data": {
            "text/plain": [
              "⎡⎧     √3⋅ⅈ   1⎫  ⎧   √3⋅ⅈ   1⎫⎤\n",
              "⎢⎨x: - ──── - ─⎬, ⎨x: ──── - ─⎬⎥\n",
              "⎣⎩      2     2⎭  ⎩    2     2⎭⎦"
            ],
            "text/latex": "$\\displaystyle \\left[ \\left\\{ x : - \\frac{\\sqrt{3} i}{2} - \\frac{1}{2}\\right\\}, \\  \\left\\{ x : \\frac{\\sqrt{3} i}{2} - \\frac{1}{2}\\right\\}\\right]$"
          },
          "metadata": {},
          "execution_count": 59
        }
      ]
    },
    {
      "cell_type": "markdown",
      "source": [
        "# **Solving for One Variable in Terms of Others**"
      ],
      "metadata": {
        "id": "Sb5r9EPzBzdU"
      }
    },
    {
      "cell_type": "code",
      "source": [
        "# Define symbolic variables x, a, b, and c\n",
        "x = Symbol('x')\n",
        "a = Symbol('a')\n",
        "b = Symbol('b')\n",
        "c = Symbol('c')\n",
        "\n",
        "# Define a symbolic expression representing a general quadratic equation\n",
        "expr = a*x*x + b*x + c\n",
        "# Display the expression\n",
        "expr"
      ],
      "metadata": {
        "colab": {
          "base_uri": "https://localhost:8080/",
          "height": 38
        },
        "id": "H0O26QmVB7xQ",
        "outputId": "4073dd16-69c4-4936-dc90-e980a8a53f1d"
      },
      "execution_count": 62,
      "outputs": [
        {
          "output_type": "execute_result",
          "data": {
            "text/plain": [
              "             2\n",
              "c + b⋅x + a⋅x "
            ],
            "text/latex": "$\\displaystyle c + b x + a x^{2}$"
          },
          "metadata": {},
          "execution_count": 62
        }
      ]
    },
    {
      "cell_type": "code",
      "source": [
        "# Solve the general quadratic equation for x in terms of a, b, and c, and return the solutions as a dictionary\n",
        "solve(expr, x, dict=True)"
      ],
      "metadata": {
        "colab": {
          "base_uri": "https://localhost:8080/",
          "height": 68
        },
        "id": "R1LAY2JxCS2Y",
        "outputId": "0fd5ad8b-20ec-48cb-9d7e-e2199997449f"
      },
      "execution_count": 63,
      "outputs": [
        {
          "output_type": "execute_result",
          "data": {
            "text/plain": [
              "⎡⎧        ____________    ⎫  ⎧      ____________    ⎫⎤\n",
              "⎢⎪       ╱  2             ⎪  ⎪     ╱  2             ⎪⎥\n",
              "⎢⎨   - ╲╱  b  - 4⋅a⋅c  - b⎬  ⎨   ╲╱  b  - 4⋅a⋅c  - b⎬⎥\n",
              "⎢⎪x: ─────────────────────⎪, ⎪x: ───────────────────⎪⎥\n",
              "⎣⎩            2⋅a         ⎭  ⎩           2⋅a        ⎭⎦"
            ],
            "text/latex": "$\\displaystyle \\left[ \\left\\{ x : \\frac{- \\sqrt{b^{2} - 4 a c} - b}{2 a}\\right\\}, \\  \\left\\{ x : \\frac{\\sqrt{b^{2} - 4 a c} - b}{2 a}\\right\\}\\right]$"
          },
          "metadata": {},
          "execution_count": 63
        }
      ]
    },
    {
      "cell_type": "code",
      "source": [
        "from sympy import Symbol, solve, pprint\n",
        "# Define symbolic variables for displacement (s), initial velocity (u), time (t), and acceleration (a)\n",
        "s = Symbol('s')\n",
        "u = Symbol('u')\n",
        "t = Symbol('t')\n",
        "a = Symbol('a')\n",
        "\n",
        "# Define a symbolic expression representing a kinematic equation (s = ut + 1/2 * a * t^2) rearranged to equal zero\n",
        "expr = u*t + (1/2)*a*t*t - s\n",
        "# Display the expression\n",
        "expr"
      ],
      "metadata": {
        "colab": {
          "base_uri": "https://localhost:8080/",
          "height": 38
        },
        "id": "8ZXwACRlClfk",
        "outputId": "c377fcd9-cb6e-451f-dee8-3614f62fef58"
      },
      "execution_count": 66,
      "outputs": [
        {
          "output_type": "execute_result",
          "data": {
            "text/plain": [
              "                 2\n",
              "t⋅u - s + 0.5⋅a⋅t "
            ],
            "text/latex": "$\\displaystyle t u - s + 0.5 a t^{2}$"
          },
          "metadata": {},
          "execution_count": 66
        }
      ]
    },
    {
      "cell_type": "code",
      "source": [
        "# Solve the kinematic equation for time (t) and return the solutions as a dictionary\n",
        "t_expr = solve(expr,t, dict=True)\n",
        "# Pretty print the solutions for t\n",
        "pprint(t_expr)"
      ],
      "metadata": {
        "colab": {
          "base_uri": "https://localhost:8080/"
        },
        "id": "hCQ0rOXDCyhx",
        "outputId": "b6522e47-da04-42e7-ffbc-5f78dc691b8c"
      },
      "execution_count": 68,
      "outputs": [
        {
          "output_type": "stream",
          "name": "stdout",
          "text": [
            "⎡⎧                        ______________    ⎫  ⎧                      ________ ↪\n",
            "⎢⎪                       ╱      2           ⎪  ⎪                     ╱      2  ↪\n",
            "⎢⎨   - 1.4142135623731⋅╲╱  0.5⋅u  + a⋅s  - u⎬  ⎨   1.4142135623731⋅╲╱  0.5⋅u   ↪\n",
            "⎢⎪t: ───────────────────────────────────────⎪, ⎪t: ─────────────────────────── ↪\n",
            "⎣⎩                      a                   ⎭  ⎩                     a         ↪\n",
            "\n",
            "↪ ______    ⎫⎤\n",
            "↪           ⎪⎥\n",
            "↪ + a⋅s  - u⎬⎥\n",
            "↪ ──────────⎪⎥\n",
            "↪           ⎭⎦\n"
          ]
        }
      ]
    }
  ]
}