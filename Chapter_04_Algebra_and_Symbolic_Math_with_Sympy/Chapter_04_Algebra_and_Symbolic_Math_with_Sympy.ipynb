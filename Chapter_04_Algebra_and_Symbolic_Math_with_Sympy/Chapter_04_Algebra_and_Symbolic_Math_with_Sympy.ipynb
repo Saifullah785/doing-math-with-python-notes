{
  "nbformat": 4,
  "nbformat_minor": 0,
  "metadata": {
    "colab": {
      "provenance": [],
      "authorship_tag": "ABX9TyM1qYsyXvBp+XzHa71LBjUd",
      "include_colab_link": true
    },
    "kernelspec": {
      "name": "python3",
      "display_name": "Python 3"
    },
    "language_info": {
      "name": "python"
    }
  },
  "cells": [
    {
      "cell_type": "markdown",
      "metadata": {
        "id": "view-in-github",
        "colab_type": "text"
      },
      "source": [
        "<a href=\"https://colab.research.google.com/github/Saifullah785/doing-math-with-python-notes/blob/main/Chapter_04_Algebra_and_Symbolic_Math_with_Sympy/Chapter_04_Algebra_and_Symbolic_Math_with_Sympy.ipynb\" target=\"_parent\"><img src=\"https://colab.research.google.com/assets/colab-badge.svg\" alt=\"Open In Colab\"/></a>"
      ]
    },
    {
      "cell_type": "markdown",
      "source": [
        "# **Algebra_and_Symbolic_Math_with_Sympy**\n",
        "\n",
        "**Defining Symbols and Symbolic Operations**"
      ],
      "metadata": {
        "id": "hM_swKDDyGly"
      }
    },
    {
      "cell_type": "code",
      "execution_count": null,
      "metadata": {
        "id": "71NerlDqxC4w",
        "colab": {
          "base_uri": "https://localhost:8080/"
        },
        "outputId": "f993ec73-831f-4748-f5c3-3ecd75d034b3"
      },
      "outputs": [
        {
          "output_type": "execute_result",
          "data": {
            "text/plain": [
              "3"
            ]
          },
          "metadata": {},
          "execution_count": 3
        }
      ],
      "source": [
        "# Assign the value 1 to the variable x\n",
        "x = 1\n",
        "\n",
        "# Calculate x + x + 1, which is 1 + 1 + 1 = 3\n",
        "x + x + 1"
      ]
    },
    {
      "cell_type": "code",
      "source": [
        "# Import the Symbol class from the sympy library\n",
        "from sympy import *\n",
        "\n",
        "# Define a symbolic variable x\n",
        "x = Symbol('x')\n",
        "\n",
        "# Display the symbolic variable x\n",
        "x"
      ],
      "metadata": {
        "colab": {
          "base_uri": "https://localhost:8080/",
          "height": 38
        },
        "id": "xCyqF2fHQqam",
        "outputId": "2b0f0c36-67d9-4a29-cbeb-01e15083dbd6"
      },
      "execution_count": null,
      "outputs": [
        {
          "output_type": "execute_result",
          "data": {
            "text/plain": [
              "x"
            ],
            "text/latex": "$\\displaystyle x$"
          },
          "metadata": {},
          "execution_count": 4
        }
      ]
    },
    {
      "cell_type": "code",
      "source": [
        "# Import the sympy library\n",
        "from sympy import *\n",
        "\n",
        "# Define a symbolic variable x\n",
        "x = Symbol('x')\n",
        "\n",
        "# Perform symbolic addition: x + x + 1\n",
        "x + x + 1"
      ],
      "metadata": {
        "colab": {
          "base_uri": "https://localhost:8080/",
          "height": 38
        },
        "id": "r8GrO12eQxyc",
        "outputId": "aa172ad5-e45e-4507-ab11-36f8560a04fb"
      },
      "execution_count": null,
      "outputs": [
        {
          "output_type": "execute_result",
          "data": {
            "text/plain": [
              "2*x + 1"
            ],
            "text/latex": "$\\displaystyle 2 x + 1$"
          },
          "metadata": {},
          "execution_count": 5
        }
      ]
    },
    {
      "cell_type": "code",
      "source": [
        "# Define a symbolic variable named 'a' but representing the symbol 'x'\n",
        "a = Symbol ('x')\n",
        "\n",
        "# Perform symbolic addition using the 'a' variable\n",
        "a + a + 1"
      ],
      "metadata": {
        "colab": {
          "base_uri": "https://localhost:8080/",
          "height": 38
        },
        "id": "53rMzahrQxvg",
        "outputId": "be74d5d8-7a30-4faa-e002-10b95efd9cfc"
      },
      "execution_count": null,
      "outputs": [
        {
          "output_type": "execute_result",
          "data": {
            "text/plain": [
              "2*x + 1"
            ],
            "text/latex": "$\\displaystyle 2 x + 1$"
          },
          "metadata": {},
          "execution_count": 6
        }
      ]
    },
    {
      "cell_type": "code",
      "source": [
        "# Define a symbolic variable x\n",
        "x = Symbol('x')\n",
        "# Access and display the name of the symbolic variable x\n",
        "x.name"
      ],
      "metadata": {
        "colab": {
          "base_uri": "https://localhost:8080/",
          "height": 36
        },
        "id": "Uf711s-aRhCP",
        "outputId": "0f6c7344-115a-4281-e27e-f45bc7910e2c"
      },
      "execution_count": null,
      "outputs": [
        {
          "output_type": "execute_result",
          "data": {
            "text/plain": [
              "'x'"
            ],
            "application/vnd.google.colaboratory.intrinsic+json": {
              "type": "string"
            }
          },
          "metadata": {},
          "execution_count": 7
        }
      ]
    },
    {
      "cell_type": "code",
      "source": [
        "# Define a symbolic variable 'a' representing the symbol 'x'\n",
        "a = Symbol('x')\n",
        "# Access and display the name of the symbolic variable 'a'\n",
        "a.name"
      ],
      "metadata": {
        "colab": {
          "base_uri": "https://localhost:8080/",
          "height": 36
        },
        "id": "Zi6tUucaQxsp",
        "outputId": "a94a37ba-c367-4f16-8c75-1f582794d9be"
      },
      "execution_count": null,
      "outputs": [
        {
          "output_type": "execute_result",
          "data": {
            "text/plain": [
              "'x'"
            ],
            "application/vnd.google.colaboratory.intrinsic+json": {
              "type": "string"
            }
          },
          "metadata": {},
          "execution_count": 8
        }
      ]
    },
    {
      "cell_type": "code",
      "source": [
        "# Import the Symbol class from sympy\n",
        "from sympy import Symbol\n",
        "\n",
        "# Define three symbolic variables: x, y, and z individually\n",
        "x = Symbol('x')\n",
        "y = Symbol('y')\n",
        "z = Symbol('z')"
      ],
      "metadata": {
        "id": "FtVDrbzbQxpt"
      },
      "execution_count": null,
      "outputs": []
    },
    {
      "cell_type": "code",
      "source": [
        "# Import the symbols function from sympy\n",
        "from sympy import symbols\n",
        "\n",
        "# Define multiple symbolic variables (x, y, and z) in a single line using the symbols function\n",
        "x, y, z = symbols('x, y, z')"
      ],
      "metadata": {
        "id": "Brk-JiVoRxa3"
      },
      "execution_count": null,
      "outputs": []
    },
    {
      "cell_type": "code",
      "source": [
        "# Import the symbols function from sympy\n",
        "from sympy import symbols\n",
        "\n",
        "# Define symbolic variables x, y, and z individually\n",
        "x = symbols('x')\n",
        "y = symbols('y')\n",
        "z = symbols('z')\n",
        "\n",
        "# Create a symbolic expression by adding x*y to x*y\n",
        "s = x*y + x*y\n",
        "# Display the simplified symbolic expression\n",
        "s"
      ],
      "metadata": {
        "colab": {
          "base_uri": "https://localhost:8080/",
          "height": 38
        },
        "id": "z_o2NBMDRxXy",
        "outputId": "3f958121-90d5-4dc4-e983-5447d4eb3688"
      },
      "execution_count": null,
      "outputs": [
        {
          "output_type": "execute_result",
          "data": {
            "text/plain": [
              "2*x*y"
            ],
            "text/latex": "$\\displaystyle 2 x y$"
          },
          "metadata": {},
          "execution_count": 11
        }
      ]
    },
    {
      "cell_type": "code",
      "source": [
        "# Create a symbolic expression by multiplying x with the sum of x and x\n",
        "p = x*(x + x)\n",
        "# Display the simplified symbolic expression\n",
        "p"
      ],
      "metadata": {
        "colab": {
          "base_uri": "https://localhost:8080/",
          "height": 38
        },
        "id": "e2ozlCz1RxU6",
        "outputId": "569d13ea-3925-44cd-ae31-44dd5a8afeaf"
      },
      "execution_count": null,
      "outputs": [
        {
          "output_type": "execute_result",
          "data": {
            "text/plain": [
              "2*x**2"
            ],
            "text/latex": "$\\displaystyle 2 x^{2}$"
          },
          "metadata": {},
          "execution_count": 12
        }
      ]
    },
    {
      "cell_type": "code",
      "source": [
        "# Create a symbolic expression by multiplying (x + 2) and (x + 3)\n",
        "p = (x + 2)*(x + 3)\n",
        "# Display the symbolic expression (it remains unexpanded by default)\n",
        "p"
      ],
      "metadata": {
        "colab": {
          "base_uri": "https://localhost:8080/",
          "height": 38
        },
        "id": "Uco1Nc4RRxLq",
        "outputId": "d207bb97-f336-409a-f532-732229506501"
      },
      "execution_count": null,
      "outputs": [
        {
          "output_type": "execute_result",
          "data": {
            "text/plain": [
              "(x + 2)*(x + 3)"
            ],
            "text/latex": "$\\displaystyle \\left(x + 2\\right) \\left(x + 3\\right)$"
          },
          "metadata": {},
          "execution_count": 13
        }
      ]
    },
    {
      "cell_type": "markdown",
      "source": [
        "# **Working with Expressions**\n",
        "\n",
        "**Factorizing and Expanding Expressions**"
      ],
      "metadata": {
        "id": "VxG6_GxYStlM"
      }
    },
    {
      "cell_type": "code",
      "source": [
        "# Import the Symbol class from sympy\n",
        "from sympy import Symbol\n",
        "\n",
        "# Define symbolic variables x and y\n",
        "x = Symbol('x')\n",
        "y = Symbol('y')"
      ],
      "metadata": {
        "id": "9E2TQaDrRxGS"
      },
      "execution_count": null,
      "outputs": []
    },
    {
      "cell_type": "code",
      "source": [
        "# Import the factor function from sympy\n",
        "from sympy import factor\n",
        "# Define a symbolic expression: x squared minus y squared\n",
        "expr = x**2 - y**2\n",
        "# Factorize the expression and display the result\n",
        "factor(expr)"
      ],
      "metadata": {
        "colab": {
          "base_uri": "https://localhost:8080/",
          "height": 38
        },
        "id": "3wpNV6QYRxDm",
        "outputId": "f61e83e2-68f6-4da0-f83f-5c72522706c4"
      },
      "execution_count": null,
      "outputs": [
        {
          "output_type": "execute_result",
          "data": {
            "text/plain": [
              "(x - y)*(x + y)"
            ],
            "text/latex": "$\\displaystyle \\left(x - y\\right) \\left(x + y\\right)$"
          },
          "metadata": {},
          "execution_count": 15
        }
      ]
    },
    {
      "cell_type": "code",
      "source": [
        "# Factorize the expression x**2 - y**2 and store the result\n",
        "factors = factor(expr)\n",
        "# Expand the factored expression back to its original form and display it\n",
        "expand(factors)"
      ],
      "metadata": {
        "colab": {
          "base_uri": "https://localhost:8080/",
          "height": 38
        },
        "id": "as3wokYuQxmh",
        "outputId": "fdff9bd6-6944-4cf4-971b-8faf7b359c10"
      },
      "execution_count": null,
      "outputs": [
        {
          "output_type": "execute_result",
          "data": {
            "text/plain": [
              "x**2 - y**2"
            ],
            "text/latex": "$\\displaystyle x^{2} - y^{2}$"
          },
          "metadata": {},
          "execution_count": 16
        }
      ]
    },
    {
      "cell_type": "code",
      "source": [
        "# Define a symbolic expression representing a cubic expansion\n",
        "expr = x**3 + 3*x**2*y + 3*x*y**2 + y**3\n",
        "# Factorize the expression and store the result\n",
        "factors = factor(expr)\n",
        "# Display the factored expression\n",
        "factors"
      ],
      "metadata": {
        "colab": {
          "base_uri": "https://localhost:8080/",
          "height": 39
        },
        "id": "YrcScwYKTSvP",
        "outputId": "6ec0bb75-0a0a-46c2-b020-8bb12048931a"
      },
      "execution_count": null,
      "outputs": [
        {
          "output_type": "execute_result",
          "data": {
            "text/plain": [
              "(x + y)**3"
            ],
            "text/latex": "$\\displaystyle \\left(x + y\\right)^{3}$"
          },
          "metadata": {},
          "execution_count": 17
        }
      ]
    },
    {
      "cell_type": "code",
      "source": [
        "# Expand the factored expression (x + y)**3 back to its original form\n",
        "expand(factors)"
      ],
      "metadata": {
        "colab": {
          "base_uri": "https://localhost:8080/",
          "height": 38
        },
        "id": "1dXhVNFMTbmV",
        "outputId": "f098b41a-f1d4-4921-943a-b60ef85c30d2"
      },
      "execution_count": null,
      "outputs": [
        {
          "output_type": "execute_result",
          "data": {
            "text/plain": [
              "x**3 + 3*x**2*y + 3*x*y**2 + y**3"
            ],
            "text/latex": "$\\displaystyle x^{3} + 3 x^{2} y + 3 x y^{2} + y^{3}$"
          },
          "metadata": {},
          "execution_count": 18
        }
      ]
    },
    {
      "cell_type": "code",
      "source": [
        "# Define a simple symbolic expression\n",
        "expr = x + y + x*y\n",
        "# Expand the expression (although in this case, it doesn't change)\n",
        "expand(expr)"
      ],
      "metadata": {
        "colab": {
          "base_uri": "https://localhost:8080/",
          "height": 38
        },
        "id": "gQUwGjLwTpZu",
        "outputId": "ba872ccd-1d45-4aaf-88cd-00fac896cbb6"
      },
      "execution_count": null,
      "outputs": [
        {
          "output_type": "execute_result",
          "data": {
            "text/plain": [
              "x*y + x + y"
            ],
            "text/latex": "$\\displaystyle x y + x + y$"
          },
          "metadata": {},
          "execution_count": 19
        }
      ]
    },
    {
      "cell_type": "markdown",
      "source": [
        "**Pretty Printing**"
      ],
      "metadata": {
        "id": "A0DPPL36T4IG"
      }
    },
    {
      "cell_type": "code",
      "source": [
        "# Define a symbolic expression representing a perfect square trinomial\n",
        "expr = x*x + 2*x*y + y*y\n",
        "# Display the expression using standard output\n",
        "expr"
      ],
      "metadata": {
        "colab": {
          "base_uri": "https://localhost:8080/",
          "height": 38
        },
        "id": "hXkWTNP1T6Ym",
        "outputId": "229be6a3-0016-479c-d121-5f0291eed527"
      },
      "execution_count": null,
      "outputs": [
        {
          "output_type": "execute_result",
          "data": {
            "text/plain": [
              "x**2 + 2*x*y + y**2"
            ],
            "text/latex": "$\\displaystyle x^{2} + 2 x y + y^{2}$"
          },
          "metadata": {},
          "execution_count": 20
        }
      ]
    },
    {
      "cell_type": "code",
      "source": [
        "# Import the pprint function for pretty printing\n",
        "from sympy import pprint\n",
        "\n",
        "# Pretty print the symbolic expression\n",
        "pprint(expr)"
      ],
      "metadata": {
        "colab": {
          "base_uri": "https://localhost:8080/"
        },
        "id": "Pei6wDdJUDSA",
        "outputId": "327a01d2-7951-4c01-d1ba-07cd7a23ada6"
      },
      "execution_count": null,
      "outputs": [
        {
          "output_type": "stream",
          "name": "stdout",
          "text": [
            " 2            2\n",
            "x  + 2⋅x⋅y + y \n"
          ]
        }
      ]
    },
    {
      "cell_type": "code",
      "source": [
        "# Define a new symbolic expression\n",
        "expr = 1 + 2*x + 2 *x**2\n",
        "# Pretty print the expression using the default printing order\n",
        "pprint(expr)"
      ],
      "metadata": {
        "colab": {
          "base_uri": "https://localhost:8080/"
        },
        "id": "KvcKsJp9UK89",
        "outputId": "6edf5ef8-524f-4c41-b1e0-cb8422685ec1"
      },
      "execution_count": null,
      "outputs": [
        {
          "output_type": "stream",
          "name": "stdout",
          "text": [
            "   2          \n",
            "2⋅x  + 2⋅x + 1\n"
          ]
        }
      ]
    },
    {
      "cell_type": "code",
      "source": [
        "# Import the init_printing function\n",
        "from sympy import init_printing\n",
        "\n",
        "# Initialize the printing system to order terms in reverse lexicographical order\n",
        "init_printing(order = 'rev-lex')\n",
        "\n",
        "# Pretty print the expression with the new printing order\n",
        "pprint(expr)"
      ],
      "metadata": {
        "colab": {
          "base_uri": "https://localhost:8080/"
        },
        "id": "egoIGi4oUXpR",
        "outputId": "c5f1c247-abd8-4c59-fdb8-a5f9a8233601"
      },
      "execution_count": null,
      "outputs": [
        {
          "output_type": "stream",
          "name": "stdout",
          "text": [
            "             2\n",
            "1 + 2⋅x + 2⋅x \n"
          ]
        }
      ]
    },
    {
      "cell_type": "code",
      "source": [
        "'''\n",
        "print the series:\n",
        "x + x**2 + x**3 + ... + x**n\n",
        "    ____     _____      _____\n",
        "     2       3            n\n",
        "\n",
        "'''\n",
        "\n",
        "from sympy import Symbol, pprint, init_printing\n",
        "\n",
        "def print_series(n):\n",
        "  # Initialize printing system with reverse order for terms\n",
        "  init_printing(order = 'rev-lex')\n",
        "\n",
        "  # Create a symbol x\n",
        "  x = Symbol('x')\n",
        "  # Initialize the series with the first term\n",
        "  series = x\n",
        "  # Add subsequent terms to the series\n",
        "  for i in range(2, n+1):\n",
        "    series = series + (x**i)/i\n",
        "  # Pretty print the resulting series\n",
        "  pprint(series)\n",
        "\n",
        "\n",
        "if __name__ == '__main__':\n",
        "  # Prompt the user to enter the number of terms\n",
        "  n = input('Enter the number of terms you want to print in the series: ')\n",
        "  # Call the print_series function with the user's input (converted to an integer)\n",
        "  print_series(int(n))"
      ],
      "metadata": {
        "colab": {
          "base_uri": "https://localhost:8080/"
        },
        "id": "zz_9Ihr2Up9m",
        "outputId": "8ff038b9-4fe1-47fe-ea08-442bb52c816c"
      },
      "execution_count": null,
      "outputs": [
        {
          "output_type": "stream",
          "name": "stdout",
          "text": [
            "Enter the number of terms you want to print in the series: 5\n",
            "     2    3    4    5\n",
            "    x    x    x    x \n",
            "x + ── + ── + ── + ──\n",
            "    2    3    4    5 \n"
          ]
        }
      ]
    },
    {
      "cell_type": "code",
      "source": [
        "# This cell contains comments explaining the logic of the series calculation in the previous cell.\n",
        "# i = 2, series = x + x**2 / 2\n",
        "# i = 3, series = x + x**2/2 + x**3/3"
      ],
      "metadata": {
        "id": "D7xtYNl9WJy6"
      },
      "execution_count": null,
      "outputs": []
    },
    {
      "cell_type": "markdown",
      "source": [
        "# **Substituting in Values**"
      ],
      "metadata": {
        "id": "IY13or8uW1Zz"
      }
    },
    {
      "cell_type": "code",
      "source": [
        "# Define symbolic variables x and y\n",
        "x = Symbol('x')\n",
        "y = Symbol('y')\n",
        "\n",
        "# Create a symbolic expression and simplify it\n",
        "x*x + x*y + x*y + y*y"
      ],
      "metadata": {
        "colab": {
          "base_uri": "https://localhost:8080/",
          "height": 38
        },
        "id": "wGL1MOpDezyb",
        "outputId": "2eb6a9f6-a0fc-49ff-aa20-2b694fb771f2"
      },
      "execution_count": null,
      "outputs": [
        {
          "output_type": "execute_result",
          "data": {
            "text/plain": [
              " 2            2\n",
              "y  + 2⋅x⋅y + x "
            ],
            "text/latex": "$\\displaystyle y^{2} + 2 x y + x^{2}$"
          },
          "metadata": {},
          "execution_count": 26
        }
      ]
    },
    {
      "cell_type": "code",
      "source": [
        "# Define the symbolic expression\n",
        "expr = x*x + x*y + x*y + y*y\n",
        "# Substitute specific values for x (1) and y (2) into the expression\n",
        "res = expr.subs({x:1, y:2})\n",
        "# Display the result of the substitution (the evaluated value of the expression)\n",
        "res"
      ],
      "metadata": {
        "colab": {
          "base_uri": "https://localhost:8080/",
          "height": 37
        },
        "id": "Uw2G_OYqe1XW",
        "outputId": "fe4a35f5-8f35-48e1-ee56-01632f0c4e0e"
      },
      "execution_count": null,
      "outputs": [
        {
          "output_type": "execute_result",
          "data": {
            "text/plain": [
              "9"
            ],
            "text/latex": "$\\displaystyle 9$"
          },
          "metadata": {},
          "execution_count": 27
        }
      ]
    },
    {
      "cell_type": "code",
      "source": [
        "# Substitute the expression (1 - y) for x in the symbolic expression\n",
        "expr.subs({x:1-y})\n",
        "# Manually write out the expected result of the substitution to compare\n",
        "y**2 + 2*y*(-y + 1) + (-y + 1)**2"
      ],
      "metadata": {
        "colab": {
          "base_uri": "https://localhost:8080/",
          "height": 39
        },
        "id": "szb9PMbRe1Uf",
        "outputId": "69aa9937-4998-42b9-a26f-6e59d17d5eff"
      },
      "execution_count": null,
      "outputs": [
        {
          "output_type": "execute_result",
          "data": {
            "text/plain": [
              "       2                  2\n",
              "(1 - y)  + 2⋅y⋅(1 - y) + y "
            ],
            "text/latex": "$\\displaystyle \\left(1 - y\\right)^{2} + 2 y \\left(1 - y\\right) + y^{2}$"
          },
          "metadata": {},
          "execution_count": 28
        }
      ]
    },
    {
      "cell_type": "code",
      "source": [
        "from random import sample\n",
        "# Define a sample Python dictionary\n",
        "sampledict = {'key1': 5, 'key2': 20}\n",
        "\n",
        "# Access and display the value associated with the key 'key1'\n",
        "sampledict['key1']"
      ],
      "metadata": {
        "colab": {
          "base_uri": "https://localhost:8080/",
          "height": 37
        },
        "id": "Mm7fk50Ze0ta",
        "outputId": "19ab92ba-30d6-4b08-fad3-20b5100774bb"
      },
      "execution_count": null,
      "outputs": [
        {
          "output_type": "execute_result",
          "data": {
            "text/plain": [
              "5"
            ],
            "text/latex": "$\\displaystyle 5$"
          },
          "metadata": {},
          "execution_count": 29
        }
      ]
    },
    {
      "cell_type": "code",
      "source": [
        "# Substitute the expression (1 - y) for x in the symbolic expression and store the result\n",
        "expr_subs = expr.subs({x:1-y})\n",
        "# Import the simplify function from sympy\n",
        "from sympy import simplify\n",
        "# Simplify the substituted expression and display the result\n",
        "simplify(expr_subs)"
      ],
      "metadata": {
        "colab": {
          "base_uri": "https://localhost:8080/",
          "height": 37
        },
        "id": "ydMzmGwhe0qu",
        "outputId": "1842917f-fa4e-4c3c-c057-cf678e948f8e"
      },
      "execution_count": null,
      "outputs": [
        {
          "output_type": "execute_result",
          "data": {
            "text/plain": [
              "1"
            ],
            "text/latex": "$\\displaystyle 1$"
          },
          "metadata": {},
          "execution_count": 30
        }
      ]
    },
    {
      "cell_type": "markdown",
      "source": [
        "**Calculating the value of a Series**"
      ],
      "metadata": {
        "id": "7G6xnXEPgafv"
      }
    },
    {
      "cell_type": "code",
      "source": [
        "'''\n",
        "Print the series:\n",
        "x + x**2 + x**3 + ... + x**n\n",
        "     ____  _____      _____\n",
        "      2      3          n\n",
        "'''\n",
        "\n",
        "from sympy import Symbol, pprint, init_printing"
      ],
      "metadata": {
        "id": "Xkv1ABJNe0n3"
      },
      "execution_count": null,
      "outputs": []
    },
    {
      "cell_type": "code",
      "source": [
        "# Define a function to print a series and evaluate it at a given value of x\n",
        "def print_series(n, x_value):\n",
        "  # Initialize printing system with reverse order for terms\n",
        "  init_printing(order = 'rev-lex')\n",
        "\n",
        "  # Create a symbol x\n",
        "  x = Symbol('x')\n",
        "  # Initialize the series with the first term\n",
        "  series = x\n",
        "  # Add subsequent terms to the series\n",
        "  for i in range(2, n+1):\n",
        "    series = series + (x**i)/i\n",
        "  # Pretty print the resulting series\n",
        "  pprint(series)\n",
        "\n",
        "  # Evaluate the series at the given x_value by substituting the value for x\n",
        "  series_value = series.subs(x, x_value)\n",
        "  # Print the value of the series at the specified x_value\n",
        "  print('Value of the series at {0}: {1}'.format(x_value, series_value))"
      ],
      "metadata": {
        "id": "DMrlc_oKe0lM"
      },
      "execution_count": null,
      "outputs": []
    },
    {
      "cell_type": "code",
      "source": [
        "# This block will be executed when the script is run directly\n",
        "if __name__ == '__main__':\n",
        "  # Prompt the user to enter the number of terms for the series\n",
        "  n = input('Enter the number of terms you want to print in the series: ')\n",
        "  # Prompt the user to enter the value of x to evaluate the series\n",
        "  x_value = input('Enter the value of x at which you want to evaluate the series: ')\n",
        "  # Call the print_series function with the user's inputs (converted to integer and float)\n",
        "  print_series(int(n), float(x_value))"
      ],
      "metadata": {
        "colab": {
          "base_uri": "https://localhost:8080/"
        },
        "id": "fFlTAJKaky8_",
        "outputId": "353fa057-9c5f-4b40-ab79-c8b38adad873"
      },
      "execution_count": null,
      "outputs": [
        {
          "output_type": "stream",
          "name": "stdout",
          "text": [
            "Enter the number of terms you want to print in the series: 5\n",
            "Enter the value of x at which you want to evaluate the series: 1.5\n",
            "     2    3    4    5\n",
            "    x    x    x    x \n",
            "x + ── + ── + ── + ──\n",
            "    2    3    4    5 \n",
            "Value of the series at 1.5: 6.53437500000000\n"
          ]
        }
      ]
    },
    {
      "cell_type": "markdown",
      "source": [
        "# **Converting Strings to Mathematical Expressions**"
      ],
      "metadata": {
        "id": "hbDgrqahlL-7"
      }
    },
    {
      "cell_type": "code",
      "source": [
        "from sympy import sympify\n",
        "# Prompt the user to enter a mathematical expression\n",
        "expr = input('Enter a mathematical expression: ')\n",
        "# Convert the input string to a SymPy expression\n",
        "expr = sympify(expr)"
      ],
      "metadata": {
        "colab": {
          "base_uri": "https://localhost:8080/"
        },
        "id": "2P9s_3tf6gAj",
        "outputId": "5b8a0278-aea4-47a7-c3cb-a577923321a9"
      },
      "execution_count": null,
      "outputs": [
        {
          "name": "stdout",
          "output_type": "stream",
          "text": [
            "Enter a mathematical expression:  x**2 + x*2 + x\n"
          ]
        }
      ]
    },
    {
      "cell_type": "code",
      "source": [
        "# Multiply the symbolic expression by 2\n",
        "2*expr"
      ],
      "metadata": {
        "colab": {
          "base_uri": "https://localhost:8080/",
          "height": 38
        },
        "id": "vbwELL0i7Ll4",
        "outputId": "f3130e4c-0376-401b-f8f4-2df1371a9273"
      },
      "execution_count": null,
      "outputs": [
        {
          "output_type": "execute_result",
          "data": {
            "text/plain": [
              "         2\n",
              "6⋅x + 2⋅x "
            ],
            "text/latex": "$\\displaystyle 6 x + 2 x^{2}$"
          },
          "metadata": {},
          "execution_count": 35
        }
      ]
    },
    {
      "cell_type": "code",
      "source": [
        "from sympy import sympify\n",
        "from sympy.core.sympify import SympifyError\n",
        "\n",
        "# Prompt the user to enter a mathematical expression\n",
        "expr = input('Enter a mathematical expression: ')\n",
        "# Attempt to convert the input string to a SymPy expression\n",
        "try:\n",
        "  expr = sympify(expr)\n",
        "except SympifyError:\n",
        "  # Handle the case where the input is not a valid mathematical expression\n",
        "  print('Invalid input')\n",
        "else:\n",
        "  # If the conversion is successful, print the expression\n",
        "  expr"
      ],
      "metadata": {
        "colab": {
          "base_uri": "https://localhost:8080/"
        },
        "id": "jLOfvTAp7Rz3",
        "outputId": "c20a4712-401f-4c7e-d5f6-8e347a180711"
      },
      "execution_count": null,
      "outputs": [
        {
          "name": "stdout",
          "output_type": "stream",
          "text": [
            "Enter a mathematical expression: x**3 + x*3 + x\n"
          ]
        }
      ]
    },
    {
      "cell_type": "code",
      "source": [
        "from sympy import sympify\n",
        "from sympy.core.sympify import SympifyError\n",
        "expr = input('Enter a mathematical expression: ')\n",
        "try:\n",
        "  expr = sympify(expr)\n",
        "except SympifyError:\n",
        "  print('Invalid input')\n",
        "else:\n",
        "  print('Input is a valid mathematical expression')"
      ],
      "metadata": {
        "colab": {
          "base_uri": "https://localhost:8080/"
        },
        "id": "mzQCne4V7ixW",
        "outputId": "0c0e13f0-2c23-44a8-d875-d394728e13e1"
      },
      "execution_count": null,
      "outputs": [
        {
          "output_type": "stream",
          "name": "stdout",
          "text": [
            "Enter a mathematical expression: x**3 + x*3 + x\n",
            "Input is a valid mathematical expression\n"
          ]
        }
      ]
    },
    {
      "cell_type": "markdown",
      "source": [
        "# **Expression Multiplier**"
      ],
      "metadata": {
        "id": "2iAQtJPB8LPj"
      }
    },
    {
      "cell_type": "code",
      "source": [
        "'''\n",
        "Product of two expressions\n",
        "\n",
        "'''"
      ],
      "metadata": {
        "colab": {
          "base_uri": "https://localhost:8080/",
          "height": 36
        },
        "id": "MNvhHs3a8Q3O",
        "outputId": "7320fc71-ba5c-4281-f705-cbc1c3014337"
      },
      "execution_count": null,
      "outputs": [
        {
          "output_type": "execute_result",
          "data": {
            "text/plain": [
              "'\\nProduct of two expressions\\n\\n'"
            ],
            "application/vnd.google.colaboratory.intrinsic+json": {
              "type": "string"
            }
          },
          "metadata": {},
          "execution_count": 38
        }
      ]
    },
    {
      "cell_type": "code",
      "source": [
        "from sympy import expand, sympify\n",
        "from sympy.core.sympify import SympifyError"
      ],
      "metadata": {
        "id": "JhzdO54n8fWt"
      },
      "execution_count": null,
      "outputs": []
    },
    {
      "cell_type": "code",
      "source": [
        "def product(expr1, expr2):\n",
        "  # Expand the product of the two expressions\n",
        "  prod = expand(expr1 * expr2)\n",
        "  return prod"
      ],
      "metadata": {
        "id": "W1FbLGmD8s9t"
      },
      "execution_count": null,
      "outputs": []
    },
    {
      "cell_type": "code",
      "source": [
        "if __name__=='__main__':\n",
        "\n",
        "  # Prompt the user to enter the first mathematical expression\n",
        "  expr1 = input('Enter the first mathematical expression: ')\n",
        "  # Prompt the user to enter the second mathematical expression\n",
        "  expr2 = input('Enter the second mathematical expression: ')\n",
        "\n",
        "  try:\n",
        "    expr1 = sympify(expr1)\n",
        "    expr2 = sympify(expr2)\n",
        "  except SympifyError:\n",
        "    print('Invalid input')\n",
        "  else:\n",
        "    prod = product(expr1, expr2)\n",
        "    print('Product of the two expressions: ')\n",
        "    print(prod)\n",
        "\n",
        "\n",
        "'''\n",
        "first output:\n",
        "\n",
        "Enter the first mathematical expression: x**2 + x*2 + x\n",
        "Enter the second mathematical expression: x**3 + x*3 + x\n",
        "Product of the two expressions:\n",
        "x**5 + 3*x**4 + 4*x**3 + 12*x**2\n",
        "'''\n",
        "\n",
        "'''\n",
        "second output:\n",
        "\n",
        "Enter the first mathematical expression: x*y+x\n",
        "Enter the second mathematical expression: x*x+y\n",
        "Product of the two expressions:\n",
        "x**3*y + x**3 + x*y**2 + x*y\n",
        "'''"
      ],
      "metadata": {
        "colab": {
          "base_uri": "https://localhost:8080/",
          "height": 127
        },
        "id": "ILT7lZ6V8_3n",
        "outputId": "d0b18cf1-7e63-4973-a859-527516998d57"
      },
      "execution_count": null,
      "outputs": [
        {
          "output_type": "stream",
          "name": "stdout",
          "text": [
            "Enter the first mathematical expression: x*y+x\n",
            "Enter the second mathematical expression: x*x+y\n",
            "Product of the two expressions: \n",
            "x**3*y + x**3 + x*y**2 + x*y\n"
          ]
        },
        {
          "output_type": "execute_result",
          "data": {
            "text/plain": [
              "'\\nsecond output:\\n\\nEnter the first mathematical expression: x*y+x\\nEnter the second mathematical expression: x*x+y\\nProduct of the two expressions:\\nx**3*y + x**3 + x*y**2 + x*y\\n'"
            ],
            "application/vnd.google.colaboratory.intrinsic+json": {
              "type": "string"
            }
          },
          "metadata": {},
          "execution_count": 41
        }
      ]
    },
    {
      "cell_type": "markdown",
      "source": [
        "# **Solving Equations**\n",
        "\n"
      ],
      "metadata": {
        "id": "oLHbTC0WAK32"
      }
    },
    {
      "cell_type": "code",
      "source": [
        "from sympy import Symbol, solve\n",
        "\n",
        "# Define a symbolic variable x\n",
        "x = Symbol('x')\n",
        "\n",
        "# Display the symbolic variable x\n",
        "x"
      ],
      "metadata": {
        "colab": {
          "base_uri": "https://localhost:8080/",
          "height": 38
        },
        "id": "9gEFUeIQATDS",
        "outputId": "87dd1178-9f55-4f19-a755-a97d527e5a0d"
      },
      "execution_count": null,
      "outputs": [
        {
          "output_type": "execute_result",
          "data": {
            "text/plain": [
              "x"
            ],
            "text/latex": "$\\displaystyle x$"
          },
          "metadata": {},
          "execution_count": 42
        }
      ]
    },
    {
      "cell_type": "code",
      "source": [
        "# Define a symbolic expression\n",
        "expr = x - 5 - 7\n",
        "# Display the expression\n",
        "expr"
      ],
      "metadata": {
        "colab": {
          "base_uri": "https://localhost:8080/",
          "height": 38
        },
        "id": "E4ILv0QVAfuy",
        "outputId": "aa2c0e71-f518-4710-e246-b64515b16471"
      },
      "execution_count": null,
      "outputs": [
        {
          "output_type": "execute_result",
          "data": {
            "text/plain": [
              "-12 + x"
            ],
            "text/latex": "$\\displaystyle -12 + x$"
          },
          "metadata": {},
          "execution_count": 70
        }
      ]
    },
    {
      "cell_type": "code",
      "source": [
        "# Solve the expression (equation set to 0) for x\n",
        "solve(expr)"
      ],
      "metadata": {
        "colab": {
          "base_uri": "https://localhost:8080/",
          "height": 37
        },
        "id": "5Bby6dwXATMt",
        "outputId": "0d827c46-9f62-4e4c-ed84-efc9f2f9b4a9"
      },
      "execution_count": null,
      "outputs": [
        {
          "output_type": "execute_result",
          "data": {
            "text/plain": [
              "[12]"
            ],
            "text/latex": "$\\displaystyle \\left[ 12\\right]$"
          },
          "metadata": {},
          "execution_count": 71
        }
      ]
    },
    {
      "cell_type": "markdown",
      "source": [
        "#**Solving Quadratic Equations**"
      ],
      "metadata": {
        "id": "NiFXsPf-Amku"
      }
    },
    {
      "cell_type": "code",
      "source": [
        "from sympy import solve\n",
        "\n",
        "# Define a symbolic variable x\n",
        "x = Symbol('x')\n",
        "\n",
        "# Display the symbolic variable x\n",
        "x"
      ],
      "metadata": {
        "colab": {
          "base_uri": "https://localhost:8080/",
          "height": 38
        },
        "id": "PvuZe-T-AtyC",
        "outputId": "d979d704-88fc-400a-b8ec-3788813553e7"
      },
      "execution_count": null,
      "outputs": [
        {
          "output_type": "execute_result",
          "data": {
            "text/plain": [
              "x"
            ],
            "text/latex": "$\\displaystyle x$"
          },
          "metadata": {},
          "execution_count": 45
        }
      ]
    },
    {
      "cell_type": "code",
      "source": [
        "# Define a quadratic expression\n",
        "expr = x**2 + 5*x + 4\n",
        "\n",
        "# Display the expression\n",
        "expr"
      ],
      "metadata": {
        "colab": {
          "base_uri": "https://localhost:8080/",
          "height": 38
        },
        "id": "8yS_XDrLA4gj",
        "outputId": "92a10797-dc4c-481c-8639-b7cfd979bb0b"
      },
      "execution_count": null,
      "outputs": [
        {
          "output_type": "execute_result",
          "data": {
            "text/plain": [
              "           2\n",
              "4 + 5⋅x + x "
            ],
            "text/latex": "$\\displaystyle 4 + 5 x + x^{2}$"
          },
          "metadata": {},
          "execution_count": 46
        }
      ]
    },
    {
      "cell_type": "code",
      "source": [
        "# Solve the quadratic expression for x and return the solutions as a dictionary\n",
        "solve(expr, dict=True)"
      ],
      "metadata": {
        "colab": {
          "base_uri": "https://localhost:8080/",
          "height": 38
        },
        "id": "voO-bjDEA_XK",
        "outputId": "bbe704fc-9270-44aa-f7f3-e4ce97db5012"
      },
      "execution_count": null,
      "outputs": [
        {
          "output_type": "execute_result",
          "data": {
            "text/plain": [
              "[{x: -4}, {x: -1}]"
            ],
            "text/latex": "$\\displaystyle \\left[ \\left\\{ x : -4\\right\\}, \\  \\left\\{ x : -1\\right\\}\\right]$"
          },
          "metadata": {},
          "execution_count": 47
        }
      ]
    },
    {
      "cell_type": "code",
      "source": [
        "# Define a symbolic variable x\n",
        "x = Symbol('x')\n",
        "# Define a quadratic expression with complex roots\n",
        "expr = x**2 + x + 1\n",
        "# Display the expression\n",
        "expr"
      ],
      "metadata": {
        "colab": {
          "base_uri": "https://localhost:8080/",
          "height": 38
        },
        "id": "797NTpikBOVx",
        "outputId": "5bb18ed6-8b34-4624-bdb2-89189d7ad785"
      },
      "execution_count": null,
      "outputs": [
        {
          "output_type": "execute_result",
          "data": {
            "text/plain": [
              "         2\n",
              "1 + x + x "
            ],
            "text/latex": "$\\displaystyle 1 + x + x^{2}$"
          },
          "metadata": {},
          "execution_count": 72
        }
      ]
    },
    {
      "cell_type": "code",
      "source": [
        "# Solve the quadratic expression for x and return the solutions as a dictionary (including complex roots)\n",
        "solve(expr, dict=True)"
      ],
      "metadata": {
        "colab": {
          "base_uri": "https://localhost:8080/",
          "height": 68
        },
        "id": "pasV1fBOBfhy",
        "outputId": "c4a065b7-b8f0-4784-e80f-114a6f3fd101"
      },
      "execution_count": null,
      "outputs": [
        {
          "output_type": "execute_result",
          "data": {
            "text/plain": [
              "⎡⎧     √3⋅ⅈ   1⎫  ⎧   √3⋅ⅈ   1⎫⎤\n",
              "⎢⎨x: - ──── - ─⎬, ⎨x: ──── - ─⎬⎥\n",
              "⎣⎩      2     2⎭  ⎩    2     2⎭⎦"
            ],
            "text/latex": "$\\displaystyle \\left[ \\left\\{ x : - \\frac{\\sqrt{3} i}{2} - \\frac{1}{2}\\right\\}, \\  \\left\\{ x : \\frac{\\sqrt{3} i}{2} - \\frac{1}{2}\\right\\}\\right]$"
          },
          "metadata": {},
          "execution_count": 73
        }
      ]
    },
    {
      "cell_type": "markdown",
      "source": [
        "# **Solving for One Variable in Terms of Others**"
      ],
      "metadata": {
        "id": "Sb5r9EPzBzdU"
      }
    },
    {
      "cell_type": "code",
      "source": [
        "# Define symbolic variables x, a, b, and c\n",
        "x = Symbol('x')\n",
        "a = Symbol('a')\n",
        "b = Symbol('b')\n",
        "c = Symbol('c')\n",
        "\n",
        "# Define a symbolic expression representing a general quadratic equation\n",
        "expr = a*x*x + b*x + c\n",
        "# Display the expression\n",
        "expr"
      ],
      "metadata": {
        "colab": {
          "base_uri": "https://localhost:8080/",
          "height": 38
        },
        "id": "H0O26QmVB7xQ",
        "outputId": "2bd4e901-b5dc-4d8e-eb7d-14299a6dd998"
      },
      "execution_count": null,
      "outputs": [
        {
          "output_type": "execute_result",
          "data": {
            "text/plain": [
              "             2\n",
              "c + b⋅x + a⋅x "
            ],
            "text/latex": "$\\displaystyle c + b x + a x^{2}$"
          },
          "metadata": {},
          "execution_count": 74
        }
      ]
    },
    {
      "cell_type": "code",
      "source": [
        "# Solve the general quadratic equation for x in terms of a, b, and c, and return the solutions as a dictionary\n",
        "solve(expr, x, dict=True)"
      ],
      "metadata": {
        "colab": {
          "base_uri": "https://localhost:8080/",
          "height": 68
        },
        "id": "R1LAY2JxCS2Y",
        "outputId": "5a4ba2a9-b604-4d59-badf-8f6a8ecf9990"
      },
      "execution_count": null,
      "outputs": [
        {
          "output_type": "execute_result",
          "data": {
            "text/plain": [
              "⎡⎧        ____________    ⎫  ⎧      ____________    ⎫⎤\n",
              "⎢⎪       ╱  2             ⎪  ⎪     ╱  2             ⎪⎥\n",
              "⎢⎨   - ╲╱  b  - 4⋅a⋅c  - b⎬  ⎨   ╲╱  b  - 4⋅a⋅c  - b⎬⎥\n",
              "⎢⎪x: ─────────────────────⎪, ⎪x: ───────────────────⎪⎥\n",
              "⎣⎩            2⋅a         ⎭  ⎩           2⋅a        ⎭⎦"
            ],
            "text/latex": "$\\displaystyle \\left[ \\left\\{ x : \\frac{- \\sqrt{b^{2} - 4 a c} - b}{2 a}\\right\\}, \\  \\left\\{ x : \\frac{\\sqrt{b^{2} - 4 a c} - b}{2 a}\\right\\}\\right]$"
          },
          "metadata": {},
          "execution_count": 75
        }
      ]
    },
    {
      "cell_type": "code",
      "source": [
        "from sympy import Symbol, solve, pprint\n",
        "# Define symbolic variables for displacement (s), initial velocity (u), time (t), and acceleration (a)\n",
        "s = Symbol('s')\n",
        "u = Symbol('u')\n",
        "t = Symbol('t')\n",
        "a = Symbol('a')\n",
        "\n",
        "# Define a symbolic expression representing a kinematic equation (s = ut + 1/2 * a * t^2) rearranged to equal zero\n",
        "expr = u*t + (1/2)*a*t*t - s\n",
        "# Display the expression\n",
        "expr"
      ],
      "metadata": {
        "colab": {
          "base_uri": "https://localhost:8080/",
          "height": 38
        },
        "id": "8ZXwACRlClfk",
        "outputId": "28553ba9-ae41-4cb3-f03b-d6135535ce10"
      },
      "execution_count": null,
      "outputs": [
        {
          "output_type": "execute_result",
          "data": {
            "text/plain": [
              "                 2\n",
              "t⋅u - s + 0.5⋅a⋅t "
            ],
            "text/latex": "$\\displaystyle t u - s + 0.5 a t^{2}$"
          },
          "metadata": {},
          "execution_count": 52
        }
      ]
    },
    {
      "cell_type": "code",
      "source": [
        "# Solve the kinematic equation for time (t) and return the solutions as a dictionary\n",
        "t_expr = solve(expr,t, dict=True)\n",
        "# Pretty print the solutions for t\n",
        "pprint(t_expr)"
      ],
      "metadata": {
        "colab": {
          "base_uri": "https://localhost:8080/"
        },
        "id": "hCQ0rOXDCyhx",
        "outputId": "1c43a165-1914-43d7-9835-e1a55a39c090"
      },
      "execution_count": null,
      "outputs": [
        {
          "output_type": "stream",
          "name": "stdout",
          "text": [
            "⎡⎧                        ______________    ⎫  ⎧                      ________ ↪\n",
            "⎢⎪                       ╱      2           ⎪  ⎪                     ╱      2  ↪\n",
            "⎢⎨   - 1.4142135623731⋅╲╱  0.5⋅u  + a⋅s  - u⎬  ⎨   1.4142135623731⋅╲╱  0.5⋅u   ↪\n",
            "⎢⎪t: ───────────────────────────────────────⎪, ⎪t: ─────────────────────────── ↪\n",
            "⎣⎩                      a                   ⎭  ⎩                     a         ↪\n",
            "\n",
            "↪ ______    ⎫⎤\n",
            "↪           ⎪⎥\n",
            "↪ + a⋅s  - u⎬⎥\n",
            "↪ ──────────⎪⎥\n",
            "↪           ⎭⎦\n"
          ]
        }
      ]
    },
    {
      "cell_type": "markdown",
      "source": [
        "# **Solving a System of Linear Equations**"
      ],
      "metadata": {
        "id": "AjqjrVFJWPAy"
      }
    },
    {
      "cell_type": "code",
      "source": [
        "# Import Symbol and solve from sympy\n",
        "from sympy import Symbol, solve\n",
        "\n",
        "# Define symbolic variables x and y for the system of equations\n",
        "x = Symbol('x')\n",
        "y = Symbol('y')\n",
        "\n",
        "# Define the first equation\n",
        "expr1 = 2*x + 3*y - 6\n",
        "# Define the second equation\n",
        "expr2 = 3*x + 2*y - 12"
      ],
      "metadata": {
        "id": "1ZEX66V-Wdxb"
      },
      "execution_count": null,
      "outputs": []
    },
    {
      "cell_type": "code",
      "source": [
        "# Solve the system of linear equations defined by expr1 and expr2 for x and y, returning the solution as a dictionary\n",
        "solve((expr1, expr2), dict=True)"
      ],
      "metadata": {
        "colab": {
          "base_uri": "https://localhost:8080/",
          "height": 58
        },
        "id": "PuXJPFBFWpKf",
        "outputId": "98ef47a0-8e15-4760-9cf9-676bce6c4418"
      },
      "execution_count": null,
      "outputs": [
        {
          "output_type": "execute_result",
          "data": {
            "text/plain": [
              "[{x: 24/5, y: -6/5}]"
            ],
            "text/latex": "$\\displaystyle \\left[ \\left\\{ x : \\frac{24}{5}, \\  y : - \\frac{6}{5}\\right\\}\\right]$"
          },
          "metadata": {},
          "execution_count": 77
        }
      ]
    },
    {
      "cell_type": "code",
      "source": [
        "# Solve the system of linear equations and store the solution in the 'soln' variable\n",
        "soln = solve((expr1, expr2), dict=True)\n",
        "# Extract the first (and in this case, only) solution from the list of solutions\n",
        "soln = soln[0]"
      ],
      "metadata": {
        "id": "1phVnlVdXMFj"
      },
      "execution_count": null,
      "outputs": []
    },
    {
      "cell_type": "code",
      "source": [
        "# Substitute the solution for x and y from 'soln' into the first expression (expr1) to verify the solution\n",
        "expr1.subs({x:soln[x], y:soln[y]})"
      ],
      "metadata": {
        "colab": {
          "base_uri": "https://localhost:8080/",
          "height": 37
        },
        "id": "VYL1C9tmXUu2",
        "outputId": "9b0b1b67-7c5a-4101-ba66-b61b6bfa9cd2"
      },
      "execution_count": null,
      "outputs": [
        {
          "output_type": "execute_result",
          "data": {
            "text/plain": [
              "0"
            ],
            "text/latex": "$\\displaystyle 0$"
          },
          "metadata": {},
          "execution_count": 79
        }
      ]
    },
    {
      "cell_type": "code",
      "source": [
        "# Substitute the solution for x and y from 'soln' into the second expression (expr2) to verify the solution\n",
        "expr2.subs({x:soln[x], y:soln[y]})"
      ],
      "metadata": {
        "colab": {
          "base_uri": "https://localhost:8080/",
          "height": 37
        },
        "id": "hfwDY4heXfrV",
        "outputId": "9188c4f0-b674-49d9-9409-34aa0aadf7de"
      },
      "execution_count": null,
      "outputs": [
        {
          "output_type": "execute_result",
          "data": {
            "text/plain": [
              "0"
            ],
            "text/latex": "$\\displaystyle 0$"
          },
          "metadata": {},
          "execution_count": 80
        }
      ]
    },
    {
      "cell_type": "markdown",
      "source": [
        "# **Plotting Using SymPy**"
      ],
      "metadata": {
        "id": "9HK25P-bXpkS"
      }
    },
    {
      "cell_type": "code",
      "source": [
        "# Import the plot function from sympy.plotting and the Symbol class from sympy\n",
        "from sympy.plotting import plot\n",
        "from sympy import Symbol\n",
        "\n",
        "# Define a symbolic variable x\n",
        "x = Symbol('x')\n",
        "\n",
        "# Plot the expression 2*x + 3 with default range\n",
        "plot(2*x+3)"
      ],
      "metadata": {
        "colab": {
          "base_uri": "https://localhost:8080/",
          "height": 505
        },
        "id": "DlchJNRlXt_p",
        "outputId": "28d8045c-7b5c-4710-f55d-80d058cda502"
      },
      "execution_count": null,
      "outputs": [
        {
          "output_type": "display_data",
          "data": {
            "text/plain": [
              "<Figure size 640x480 with 1 Axes>"
            ],
            "image/png": "[encoded data removed]"
          },
          "metadata": {}
        },
        {
          "output_type": "execute_result",
          "data": {
            "text/plain": [
              "<sympy.plotting.backends.matplotlibbackend.matplotlib.MatplotlibBackend at 0x7d5959015550>"
            ]
          },
          "metadata": {},
          "execution_count": 81
        }
      ]
    },
    {
      "cell_type": "code",
      "source": [
        "# Plot the expression 2*x + 3 with a specified range for x from -5 to 5\n",
        "plot((2*x +3), (x, -5, 5))"
      ],
      "metadata": {
        "colab": {
          "base_uri": "https://localhost:8080/",
          "height": 504
        },
        "id": "ESdY-w8WX_A3",
        "outputId": "e415dac6-097e-43c0-bd5e-7c0e46047f1f"
      },
      "execution_count": null,
      "outputs": [
        {
          "output_type": "display_data",
          "data": {
            "text/plain": [
              "<Figure size 640x480 with 1 Axes>"
            ],
            "image/png": "[encoded data removed]"
          },
          "metadata": {}
        },
        {
          "output_type": "execute_result",
          "data": {
            "text/plain": [
              "<sympy.plotting.backends.matplotlibbackend.matplotlib.MatplotlibBackend at 0x7d595857de10>"
            ]
          },
          "metadata": {},
          "execution_count": 82
        }
      ]
    },
    {
      "cell_type": "code",
      "source": [
        "# Plot the expression 2*x + 3 with a specified range for x and add a title and axis labels\n",
        "plot(2*x + 3, (x, -5, 5), title='A Line', xlabel='x', ylabel= '2x+3')"
      ],
      "metadata": {
        "colab": {
          "base_uri": "https://localhost:8080/",
          "height": 504
        },
        "id": "HvfsqO16YI8z",
        "outputId": "143c34c5-ad10-45d0-9de0-7912ae9e88e8"
      },
      "execution_count": null,
      "outputs": [
        {
          "output_type": "display_data",
          "data": {
            "text/plain": [
              "<Figure size 640x480 with 1 Axes>"
            ],
            "image/png": "[encoded data removed]"
          },
          "metadata": {}
        },
        {
          "output_type": "execute_result",
          "data": {
            "text/plain": [
              "<sympy.plotting.backends.matplotlibbackend.matplotlib.MatplotlibBackend at 0x7d5957c4aa50>"
            ]
          },
          "metadata": {},
          "execution_count": 83
        }
      ]
    },
    {
      "cell_type": "code",
      "source": [
        "# Create a plot object for the expression 2*x + 3 with specified range, title, and labels, but do not display it immediately\n",
        "p = plot(2*x + 3, (x, -5, 5), title='A Line', xlabel='x', ylabel= '2x+3', show=False)"
      ],
      "metadata": {
        "id": "Le23qLo_Yon6"
      },
      "execution_count": null,
      "outputs": []
    },
    {
      "cell_type": "code",
      "source": [
        "# Save the plot object 'p' to a file named 'line.png'\n",
        "p.save('line.png')"
      ],
      "metadata": {
        "colab": {
          "base_uri": "https://localhost:8080/",
          "height": 429
        },
        "id": "awj61C-HZF6u",
        "outputId": "0c0f30b7-ba50-4d62-9013-27522df33a15"
      },
      "execution_count": null,
      "outputs": [
        {
          "output_type": "display_data",
          "data": {
            "text/plain": [
              "<Figure size 640x480 with 1 Axes>"
            ],
            "image/png": "[encoded data removed]"
          },
          "metadata": {}
        }
      ]
    },
    {
      "cell_type": "markdown",
      "source": [
        "# **Plotting Expressions Input by the User**"
      ],
      "metadata": {
        "id": "9ewhFHR7MRth"
      }
    },
    {
      "cell_type": "code",
      "source": [
        "from sympy import sympify, Symbol, solve\n",
        "\n",
        "# Prompt the user to enter a mathematical expression\n",
        "expr  = input('Enter an expression: ')\n",
        "\n",
        "# Convert the input string to a SymPy expression\n",
        "expr = sympify(expr)\n",
        "\n",
        "# Define a symbolic variable y\n",
        "y  = Symbol('y')\n",
        "\n",
        "# Solve the expression for y\n",
        "solve(expr, y)"
      ],
      "metadata": {
        "colab": {
          "base_uri": "https://localhost:8080/"
        },
        "id": "YV2WNs2GMZvG",
        "outputId": "fe3b4223-a385-4d57-b25c-cce678966f7e"
      },
      "execution_count": 2,
      "outputs": [
        {
          "name": "stdout",
          "output_type": "stream",
          "text": [
            "Enter an expression: 2*x + 3*y - 6\n"
          ]
        },
        {
          "output_type": "execute_result",
          "data": {
            "text/plain": [
              "[2 - 2*x/3]"
            ]
          },
          "metadata": {},
          "execution_count": 2
        }
      ]
    },
    {
      "cell_type": "code",
      "source": [
        "# Solve the expression for y and store the solution\n",
        "solution = solve(expr, 'y')\n",
        "# Extract the first solution for y\n",
        "expr_y = solution[0]\n",
        "# Display the expression with y isolated\n",
        "expr_y"
      ],
      "metadata": {
        "colab": {
          "base_uri": "https://localhost:8080/",
          "height": 51
        },
        "id": "IhbYnZ25M-hs",
        "outputId": "21033f5d-c407-4924-ce35-ce0f29e8873d"
      },
      "execution_count": 3,
      "outputs": [
        {
          "output_type": "execute_result",
          "data": {
            "text/plain": [
              "2 - 2*x/3"
            ],
            "text/latex": "$\\displaystyle 2 - \\frac{2 x}{3}$"
          },
          "metadata": {},
          "execution_count": 3
        }
      ]
    },
    {
      "cell_type": "code",
      "source": [
        "'''\n",
        "Plot the graph of an input expression\n",
        "\n",
        "'''\n",
        "from sympy import Symbol, sympify, solve\n",
        "from sympy.plotting import plot\n",
        "from sympy.core.sympify import SympifyError # Import SympifyError to handle invalid input\n",
        "\n",
        "def plot_expression(expr):\n",
        "  # Define y as a symbolic variable\n",
        "  y = Symbol('y')\n",
        "  # Solve the expression for y in terms of x\n",
        "  solution = solve(expr, 'y')\n",
        "  # Get the first solution for y\n",
        "  expr_y = solution[0]\n",
        "  # Plot the expression with y isolated\n",
        "  plot(expr_y)\n",
        "\n",
        "  # return expr_y # This line is commented out as it is not used in the current logic\n",
        "\n",
        "if __name__ == '__main__':\n",
        "  # Prompt the user to enter a mathematical expression in terms of x and y\n",
        "  expr = input('Enter your expression in terms of x and y: ')\n",
        "  try:\n",
        "    # Attempt to convert the input string to a SymPy expression\n",
        "    expr = sympify(expr)\n",
        "  except SympifyError:\n",
        "    # Handle the case where the input is not a valid mathematical expression\n",
        "    print('Invalid input')\n",
        "  else:\n",
        "    # If the conversion is successful, call the plot_expression function\n",
        "    plot_expression(expr)"
      ],
      "metadata": {
        "colab": {
          "base_uri": "https://localhost:8080/",
          "height": 505
        },
        "id": "q2MBmul2UCUc",
        "outputId": "ff2317ca-f2f2-4c27-b8b4-b49f4cd29952"
      },
      "execution_count": 4,
      "outputs": [
        {
          "name": "stdout",
          "output_type": "stream",
          "text": [
            "Enter your expression in terms of x and y: 2*x + 3*y - 6\n"
          ]
        },
        {
          "output_type": "display_data",
          "data": {
            "text/plain": [
              "<Figure size 640x480 with 1 Axes>"
            ],
            "image/png": "[encoded data removed]"
          },
          "metadata": {}
        }
      ]
    },
    {
      "cell_type": "markdown",
      "source": [
        "# **Plotting Multiple Functions**"
      ],
      "metadata": {
        "id": "eY-LRlCmVSNx"
      }
    },
    {
      "cell_type": "code",
      "source": [
        "from sympy.plotting import plot\n",
        "from sympy import Symbol\n",
        "\n",
        "# Define a symbolic variable x\n",
        "x = Symbol('x')\n",
        "\n",
        "# Plot two expressions on the same graph with default range\n",
        "plot(2*x+3, 3*x+1)"
      ],
      "metadata": {
        "colab": {
          "base_uri": "https://localhost:8080/",
          "height": 505
        },
        "id": "5FrpjCyDVUGw",
        "outputId": "e80cc15c-c21a-4f7f-c348-aae96009a711"
      },
      "execution_count": 6,
      "outputs": [
        {
          "output_type": "display_data",
          "data": {
            "text/plain": [
              "<Figure size 640x480 with 1 Axes>"
            ],
            "image/png": "[encoded data removed]"
          },
          "metadata": {}
        },
        {
          "output_type": "execute_result",
          "data": {
            "text/plain": [
              "<sympy.plotting.backends.matplotlibbackend.matplotlib.MatplotlibBackend at 0x7c89c0cee690>"
            ]
          },
          "metadata": {},
          "execution_count": 6
        }
      ]
    },
    {
      "cell_type": "code",
      "source": [
        "from sympy.plotting import plot\n",
        "from sympy import Symbol\n",
        "\n",
        "# Define a symbolic variable x\n",
        "x = Symbol('x')\n",
        "\n",
        "# Create a plot object for two expressions, enable legend, and set show=False to avoid immediate display\n",
        "p= plot(2*x+3, 3*x+1, legend=True, show=False)\n",
        "\n",
        "# Set the line color for the first expression (index 0) to blue\n",
        "p[0].line_color = 'b'\n",
        "# Set the line color for the second expression (index 1) to red\n",
        "p[1].line_color = 'r'\n",
        "\n",
        "# Display the plot with the specified line colors\n",
        "p.show()"
      ],
      "metadata": {
        "colab": {
          "base_uri": "https://localhost:8080/",
          "height": 487
        },
        "id": "fMCLW3cqV_sI",
        "outputId": "e05e41c8-a6db-483d-ce96-4c8188096607"
      },
      "execution_count": 9,
      "outputs": [
        {
          "output_type": "display_data",
          "data": {
            "text/plain": [
              "<Figure size 640x480 with 1 Axes>"
            ],
            "image/png": "[encoded data removed]"
          },
          "metadata": {}
        }
      ]
    }
  ]
}