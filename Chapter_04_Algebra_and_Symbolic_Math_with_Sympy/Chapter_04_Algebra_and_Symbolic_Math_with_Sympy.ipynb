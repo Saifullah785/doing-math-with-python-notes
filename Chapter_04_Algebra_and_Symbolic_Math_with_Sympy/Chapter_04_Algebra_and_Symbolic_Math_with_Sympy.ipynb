{
  "nbformat": 4,
  "nbformat_minor": 0,
  "metadata": {
    "colab": {
      "provenance": [],
      "authorship_tag": "ABX9TyPhkDov24z+bsNbLhikRU1L",
      "include_colab_link": true
    },
    "kernelspec": {
      "name": "python3",
      "display_name": "Python 3"
    },
    "language_info": {
      "name": "python"
    }
  },
  "cells": [
    {
      "cell_type": "markdown",
      "metadata": {
        "id": "view-in-github",
        "colab_type": "text"
      },
      "source": [
        "<a href=\"https://colab.research.google.com/github/Saifullah785/doing-math-with-python-notes/blob/main/Chapter_04_Algebra_and_Symbolic_Math_with_Sympy/Chapter_04_Algebra_and_Symbolic_Math_with_Sympy.ipynb\" target=\"_parent\"><img src=\"https://colab.research.google.com/assets/colab-badge.svg\" alt=\"Open In Colab\"/></a>"
      ]
    },
    {
      "cell_type": "markdown",
      "source": [
        "# **Algebra_and_Symbolic_Math_with_Sympy**\n",
        "\n",
        "**Defining Symbols and Symbolic Operations**"
      ],
      "metadata": {
        "id": "hM_swKDDyGly"
      }
    },
    {
      "cell_type": "code",
      "execution_count": 42,
      "metadata": {
        "id": "71NerlDqxC4w",
        "colab": {
          "base_uri": "https://localhost:8080/",
          "height": 37
        },
        "outputId": "9dda7989-fa79-4c80-fa14-4c47071b700b"
      },
      "outputs": [
        {
          "output_type": "execute_result",
          "data": {
            "text/plain": [
              "3"
            ],
            "text/latex": "$\\displaystyle 3$"
          },
          "metadata": {},
          "execution_count": 42
        }
      ],
      "source": [
        "# Assign the value 1 to the variable x\n",
        "x = 1\n",
        "\n",
        "# Calculate x + x + 1, which is 1 + 1 + 1 = 3\n",
        "x + x + 1"
      ]
    },
    {
      "cell_type": "code",
      "source": [
        "# Import the Symbol class from the sympy library\n",
        "from sympy import *\n",
        "\n",
        "# Define a symbolic variable x\n",
        "x = Symbol('x')\n",
        "\n",
        "# Display the symbolic variable x\n",
        "x"
      ],
      "metadata": {
        "colab": {
          "base_uri": "https://localhost:8080/",
          "height": 38
        },
        "id": "xCyqF2fHQqam",
        "outputId": "1cce7c6b-2b9e-45e7-ea68-7bc0678d4752"
      },
      "execution_count": 43,
      "outputs": [
        {
          "output_type": "execute_result",
          "data": {
            "text/plain": [
              "x"
            ],
            "text/latex": "$\\displaystyle x$"
          },
          "metadata": {},
          "execution_count": 43
        }
      ]
    },
    {
      "cell_type": "code",
      "source": [
        "# Import the sympy library\n",
        "from sympy import *\n",
        "\n",
        "# Define a symbolic variable x\n",
        "x = Symbol('x')\n",
        "\n",
        "# Perform symbolic addition: x + x + 1\n",
        "x + x + 1"
      ],
      "metadata": {
        "colab": {
          "base_uri": "https://localhost:8080/",
          "height": 38
        },
        "id": "r8GrO12eQxyc",
        "outputId": "7b01ec1c-04fb-44ba-98d0-f00bd44e1723"
      },
      "execution_count": 44,
      "outputs": [
        {
          "output_type": "execute_result",
          "data": {
            "text/plain": [
              "1 + 2⋅x"
            ],
            "text/latex": "$\\displaystyle 1 + 2 x$"
          },
          "metadata": {},
          "execution_count": 44
        }
      ]
    },
    {
      "cell_type": "code",
      "source": [
        "# Define a symbolic variable named 'a' but representing the symbol 'x'\n",
        "a = Symbol ('x')\n",
        "\n",
        "# Perform symbolic addition using the 'a' variable\n",
        "a + a + 1"
      ],
      "metadata": {
        "colab": {
          "base_uri": "https://localhost:8080/",
          "height": 38
        },
        "id": "53rMzahrQxvg",
        "outputId": "4177f6ee-c758-47f9-ef17-262f6464306d"
      },
      "execution_count": 45,
      "outputs": [
        {
          "output_type": "execute_result",
          "data": {
            "text/plain": [
              "1 + 2⋅x"
            ],
            "text/latex": "$\\displaystyle 1 + 2 x$"
          },
          "metadata": {},
          "execution_count": 45
        }
      ]
    },
    {
      "cell_type": "code",
      "source": [
        "# Define a symbolic variable x\n",
        "x = Symbol('x')\n",
        "# Access and display the name of the symbolic variable x\n",
        "x.name"
      ],
      "metadata": {
        "colab": {
          "base_uri": "https://localhost:8080/",
          "height": 36
        },
        "id": "Uf711s-aRhCP",
        "outputId": "8fbc19c2-4fbd-4e7b-96e2-062680fb600f"
      },
      "execution_count": 46,
      "outputs": [
        {
          "output_type": "execute_result",
          "data": {
            "text/plain": [
              "'x'"
            ],
            "application/vnd.google.colaboratory.intrinsic+json": {
              "type": "string"
            }
          },
          "metadata": {},
          "execution_count": 46
        }
      ]
    },
    {
      "cell_type": "code",
      "source": [
        "# Define a symbolic variable 'a' representing the symbol 'x'\n",
        "a = Symbol('x')\n",
        "# Access and display the name of the symbolic variable 'a'\n",
        "a.name"
      ],
      "metadata": {
        "colab": {
          "base_uri": "https://localhost:8080/",
          "height": 36
        },
        "id": "Zi6tUucaQxsp",
        "outputId": "58664d19-f718-4b76-fbf1-c2d3331d67d0"
      },
      "execution_count": 47,
      "outputs": [
        {
          "output_type": "execute_result",
          "data": {
            "text/plain": [
              "'x'"
            ],
            "application/vnd.google.colaboratory.intrinsic+json": {
              "type": "string"
            }
          },
          "metadata": {},
          "execution_count": 47
        }
      ]
    },
    {
      "cell_type": "code",
      "source": [
        "# Import the Symbol class from sympy\n",
        "from sympy import Symbol\n",
        "\n",
        "# Define three symbolic variables: x, y, and z individually\n",
        "x = Symbol('x')\n",
        "y = Symbol('y')\n",
        "z = Symbol('z')"
      ],
      "metadata": {
        "id": "FtVDrbzbQxpt"
      },
      "execution_count": 48,
      "outputs": []
    },
    {
      "cell_type": "code",
      "source": [
        "# Import the symbols function from sympy\n",
        "from sympy import symbols\n",
        "\n",
        "# Define multiple symbolic variables (x, y, and z) in a single line using the symbols function\n",
        "x, y, z = symbols('x, y, z')"
      ],
      "metadata": {
        "id": "Brk-JiVoRxa3"
      },
      "execution_count": 49,
      "outputs": []
    },
    {
      "cell_type": "code",
      "source": [
        "# Import the symbols function from sympy\n",
        "from sympy import symbols\n",
        "\n",
        "# Define symbolic variables x, y, and z individually\n",
        "x = symbols('x')\n",
        "y = symbols('y')\n",
        "z = symbols('z')\n",
        "\n",
        "# Create a symbolic expression by adding x*y to x*y\n",
        "s = x*y + x*y\n",
        "# Display the simplified symbolic expression\n",
        "s"
      ],
      "metadata": {
        "colab": {
          "base_uri": "https://localhost:8080/",
          "height": 38
        },
        "id": "z_o2NBMDRxXy",
        "outputId": "b5c9760b-202f-41f8-bf50-d9db390e691c"
      },
      "execution_count": 50,
      "outputs": [
        {
          "output_type": "execute_result",
          "data": {
            "text/plain": [
              "2⋅x⋅y"
            ],
            "text/latex": "$\\displaystyle 2 x y$"
          },
          "metadata": {},
          "execution_count": 50
        }
      ]
    },
    {
      "cell_type": "code",
      "source": [
        "# Create a symbolic expression by multiplying x with the sum of x and x\n",
        "p = x*(x + x)\n",
        "# Display the simplified symbolic expression\n",
        "p"
      ],
      "metadata": {
        "colab": {
          "base_uri": "https://localhost:8080/",
          "height": 38
        },
        "id": "e2ozlCz1RxU6",
        "outputId": "f880d758-0752-4058-b164-19de1e71727b"
      },
      "execution_count": 51,
      "outputs": [
        {
          "output_type": "execute_result",
          "data": {
            "text/plain": [
              "   2\n",
              "2⋅x "
            ],
            "text/latex": "$\\displaystyle 2 x^{2}$"
          },
          "metadata": {},
          "execution_count": 51
        }
      ]
    },
    {
      "cell_type": "code",
      "source": [
        "# Create a symbolic expression by multiplying (x + 2) and (x + 3)\n",
        "p = (x + 2)*(x + 3)\n",
        "# Display the symbolic expression (it remains unexpanded by default)\n",
        "p"
      ],
      "metadata": {
        "colab": {
          "base_uri": "https://localhost:8080/",
          "height": 38
        },
        "id": "Uco1Nc4RRxLq",
        "outputId": "af6bbd85-3a41-4ecc-f4b1-290b07b34c8f"
      },
      "execution_count": 52,
      "outputs": [
        {
          "output_type": "execute_result",
          "data": {
            "text/plain": [
              "(2 + x)⋅(3 + x)"
            ],
            "text/latex": "$\\displaystyle \\left(2 + x\\right) \\left(3 + x\\right)$"
          },
          "metadata": {},
          "execution_count": 52
        }
      ]
    },
    {
      "cell_type": "markdown",
      "source": [
        "# **Working with Expressions**\n",
        "\n",
        "**Factorizing and Expanding Expressions**"
      ],
      "metadata": {
        "id": "VxG6_GxYStlM"
      }
    },
    {
      "cell_type": "code",
      "source": [
        "# Import the Symbol class from sympy\n",
        "from sympy import Symbol\n",
        "\n",
        "# Define symbolic variables x and y\n",
        "x = Symbol('x')\n",
        "y = Symbol('y')"
      ],
      "metadata": {
        "id": "9E2TQaDrRxGS"
      },
      "execution_count": 53,
      "outputs": []
    },
    {
      "cell_type": "code",
      "source": [
        "# Import the factor function from sympy\n",
        "from sympy import factor\n",
        "# Define a symbolic expression: x squared minus y squared\n",
        "expr = x**2 - y**2\n",
        "# Factorize the expression and display the result\n",
        "factor(expr)"
      ],
      "metadata": {
        "colab": {
          "base_uri": "https://localhost:8080/",
          "height": 38
        },
        "id": "3wpNV6QYRxDm",
        "outputId": "9ca1c36a-0952-408f-ce46-cf294bcb65c3"
      },
      "execution_count": 54,
      "outputs": [
        {
          "output_type": "execute_result",
          "data": {
            "text/plain": [
              "(-y + x)⋅(y + x)"
            ],
            "text/latex": "$\\displaystyle \\left(- y + x\\right) \\left(y + x\\right)$"
          },
          "metadata": {},
          "execution_count": 54
        }
      ]
    },
    {
      "cell_type": "code",
      "source": [
        "# Factorize the expression x**2 - y**2 and store the result\n",
        "factors = factor(expr)\n",
        "# Expand the factored expression back to its original form and display it\n",
        "expand(factors)"
      ],
      "metadata": {
        "colab": {
          "base_uri": "https://localhost:8080/",
          "height": 38
        },
        "id": "as3wokYuQxmh",
        "outputId": "a35ecc31-6cad-4190-d84e-14c22792971b"
      },
      "execution_count": 55,
      "outputs": [
        {
          "output_type": "execute_result",
          "data": {
            "text/plain": [
              "   2    2\n",
              "- y  + x "
            ],
            "text/latex": "$\\displaystyle - y^{2} + x^{2}$"
          },
          "metadata": {},
          "execution_count": 55
        }
      ]
    },
    {
      "cell_type": "code",
      "source": [
        "# Define a symbolic expression representing a cubic expansion\n",
        "expr = x**3 + 3*x**2*y + 3*x*y**2 + y**3\n",
        "# Factorize the expression and store the result\n",
        "factors = factor(expr)\n",
        "# Display the factored expression\n",
        "factors"
      ],
      "metadata": {
        "colab": {
          "base_uri": "https://localhost:8080/",
          "height": 39
        },
        "id": "YrcScwYKTSvP",
        "outputId": "9beb1fca-91f5-4502-8a82-f355b501d26d"
      },
      "execution_count": 56,
      "outputs": [
        {
          "output_type": "execute_result",
          "data": {
            "text/plain": [
              "       3\n",
              "(y + x) "
            ],
            "text/latex": "$\\displaystyle \\left(y + x\\right)^{3}$"
          },
          "metadata": {},
          "execution_count": 56
        }
      ]
    },
    {
      "cell_type": "code",
      "source": [
        "# Expand the factored expression (x + y)**3 back to its original form\n",
        "expand(factors)"
      ],
      "metadata": {
        "colab": {
          "base_uri": "https://localhost:8080/",
          "height": 38
        },
        "id": "1dXhVNFMTbmV",
        "outputId": "fd9ed261-c97b-49bd-d160-3152b557a07a"
      },
      "execution_count": 57,
      "outputs": [
        {
          "output_type": "execute_result",
          "data": {
            "text/plain": [
              " 3        2      2      3\n",
              "y  + 3⋅x⋅y  + 3⋅x ⋅y + x "
            ],
            "text/latex": "$\\displaystyle y^{3} + 3 x y^{2} + 3 x^{2} y + x^{3}$"
          },
          "metadata": {},
          "execution_count": 57
        }
      ]
    },
    {
      "cell_type": "code",
      "source": [
        "# Define a simple symbolic expression\n",
        "expr = x + y + x*y\n",
        "# Expand the expression (although in this case, it doesn't change)\n",
        "expand(expr)"
      ],
      "metadata": {
        "colab": {
          "base_uri": "https://localhost:8080/",
          "height": 38
        },
        "id": "gQUwGjLwTpZu",
        "outputId": "e99ffd6f-4cf9-4b19-8af1-716571201c0a"
      },
      "execution_count": 58,
      "outputs": [
        {
          "output_type": "execute_result",
          "data": {
            "text/plain": [
              "y + x + x⋅y"
            ],
            "text/latex": "$\\displaystyle y + x + x y$"
          },
          "metadata": {},
          "execution_count": 58
        }
      ]
    },
    {
      "cell_type": "markdown",
      "source": [
        "**Pretty Printing**"
      ],
      "metadata": {
        "id": "A0DPPL36T4IG"
      }
    },
    {
      "cell_type": "code",
      "source": [
        "# Define a symbolic expression representing a perfect square trinomial\n",
        "expr = x*x + 2*x*y + y*y\n",
        "# Display the expression using standard output\n",
        "expr"
      ],
      "metadata": {
        "colab": {
          "base_uri": "https://localhost:8080/",
          "height": 38
        },
        "id": "hXkWTNP1T6Ym",
        "outputId": "ccc0de81-b7ef-4dd7-a607-ac597af6d6df"
      },
      "execution_count": 59,
      "outputs": [
        {
          "output_type": "execute_result",
          "data": {
            "text/plain": [
              " 2            2\n",
              "y  + 2⋅x⋅y + x "
            ],
            "text/latex": "$\\displaystyle y^{2} + 2 x y + x^{2}$"
          },
          "metadata": {},
          "execution_count": 59
        }
      ]
    },
    {
      "cell_type": "code",
      "source": [
        "# Import the pprint function for pretty printing\n",
        "from sympy import pprint\n",
        "\n",
        "# Pretty print the symbolic expression\n",
        "pprint(expr)"
      ],
      "metadata": {
        "colab": {
          "base_uri": "https://localhost:8080/"
        },
        "id": "Pei6wDdJUDSA",
        "outputId": "25e54cf7-e116-4f2a-99bc-3e487cbba0ba"
      },
      "execution_count": 60,
      "outputs": [
        {
          "output_type": "stream",
          "name": "stdout",
          "text": [
            " 2            2\n",
            "y  + 2⋅x⋅y + x \n"
          ]
        }
      ]
    },
    {
      "cell_type": "code",
      "source": [
        "# Define a new symbolic expression\n",
        "expr = 1 + 2*x + 2 *x**2\n",
        "# Pretty print the expression using the default printing order\n",
        "pprint(expr)"
      ],
      "metadata": {
        "colab": {
          "base_uri": "https://localhost:8080/"
        },
        "id": "KvcKsJp9UK89",
        "outputId": "9b2506aa-f22f-4a58-8100-c7ef297d405d"
      },
      "execution_count": 61,
      "outputs": [
        {
          "output_type": "stream",
          "name": "stdout",
          "text": [
            "             2\n",
            "1 + 2⋅x + 2⋅x \n"
          ]
        }
      ]
    },
    {
      "cell_type": "code",
      "source": [
        "# Import the init_printing function\n",
        "from sympy import init_printing\n",
        "\n",
        "# Initialize the printing system to order terms in reverse lexicographical order\n",
        "init_printing(order = 'rev-lex')\n",
        "\n",
        "# Pretty print the expression with the new printing order\n",
        "pprint(expr)"
      ],
      "metadata": {
        "colab": {
          "base_uri": "https://localhost:8080/"
        },
        "id": "egoIGi4oUXpR",
        "outputId": "e686d9e5-7cfa-4eda-ab18-5d5fb7e97907"
      },
      "execution_count": 62,
      "outputs": [
        {
          "output_type": "stream",
          "name": "stdout",
          "text": [
            "             2\n",
            "1 + 2⋅x + 2⋅x \n"
          ]
        }
      ]
    },
    {
      "cell_type": "code",
      "source": [
        "'''\n",
        "print the series:\n",
        "x + x**2 + x**3 + ... + x**n\n",
        "    ____     _____      _____\n",
        "     2       3            n\n",
        "\n",
        "'''\n",
        "\n",
        "from sympy import Symbol, pprint, init_printing\n",
        "\n",
        "def print_series(n):\n",
        "  # Initialize printing system with reverse order for terms\n",
        "  init_printing(order = 'rev-lex')\n",
        "\n",
        "  # Create a symbol x\n",
        "  x = Symbol('x')\n",
        "  # Initialize the series with the first term\n",
        "  series = x\n",
        "  # Add subsequent terms to the series\n",
        "  for i in range(2, n+1):\n",
        "    series = series + (x**i)/i\n",
        "  # Pretty print the resulting series\n",
        "  pprint(series)\n",
        "\n",
        "\n",
        "if __name__ == '__main__':\n",
        "  # Prompt the user to enter the number of terms\n",
        "  n = input('Enter the number of terms you want to print in the series: ')\n",
        "  # Call the print_series function with the user's input (converted to an integer)\n",
        "  print_series(int(n))"
      ],
      "metadata": {
        "colab": {
          "base_uri": "https://localhost:8080/"
        },
        "id": "zz_9Ihr2Up9m",
        "outputId": "b3216628-86d5-42bb-9834-88e440cae2c3"
      },
      "execution_count": 63,
      "outputs": [
        {
          "output_type": "stream",
          "name": "stdout",
          "text": [
            "Enter the number of terms you want to print in the series: 8\n",
            "     2    3    4    5    6    7    8\n",
            "    x    x    x    x    x    x    x \n",
            "x + ── + ── + ── + ── + ── + ── + ──\n",
            "    2    3    4    5    6    7    8 \n"
          ]
        }
      ]
    },
    {
      "cell_type": "code",
      "source": [
        "# This cell contains comments explaining the logic of the series calculation in the previous cell.\n",
        "# i = 2, series = x + x**2 / 2\n",
        "# i = 3, series = x + x**2/2 + x**3/3"
      ],
      "metadata": {
        "id": "D7xtYNl9WJy6"
      },
      "execution_count": 64,
      "outputs": []
    },
    {
      "cell_type": "markdown",
      "source": [
        "# **Substituting in Values**"
      ],
      "metadata": {
        "id": "IY13or8uW1Zz"
      }
    },
    {
      "cell_type": "code",
      "source": [
        "# Define symbolic variables x and y\n",
        "x = Symbol('x')\n",
        "y = Symbol('y')\n",
        "\n",
        "# Create a symbolic expression and simplify it\n",
        "x*x + x*y + x*y + y*y"
      ],
      "metadata": {
        "colab": {
          "base_uri": "https://localhost:8080/",
          "height": 38
        },
        "id": "wGL1MOpDezyb",
        "outputId": "1c7d4aaf-749b-4a34-f6b6-923d0f483b9e"
      },
      "execution_count": 65,
      "outputs": [
        {
          "output_type": "execute_result",
          "data": {
            "text/plain": [
              " 2            2\n",
              "y  + 2⋅x⋅y + x "
            ],
            "text/latex": "$\\displaystyle y^{2} + 2 x y + x^{2}$"
          },
          "metadata": {},
          "execution_count": 65
        }
      ]
    },
    {
      "cell_type": "code",
      "source": [
        "# Define the symbolic expression\n",
        "expr = x*x + x*y + x*y + y*y\n",
        "# Substitute specific values for x (1) and y (2) into the expression\n",
        "res = expr.subs({x:1, y:2})\n",
        "# Display the result of the substitution (the evaluated value of the expression)\n",
        "res"
      ],
      "metadata": {
        "colab": {
          "base_uri": "https://localhost:8080/",
          "height": 37
        },
        "id": "Uw2G_OYqe1XW",
        "outputId": "ea4e2fc2-ef32-4b17-9423-8f0013be272e"
      },
      "execution_count": 66,
      "outputs": [
        {
          "output_type": "execute_result",
          "data": {
            "text/plain": [
              "9"
            ],
            "text/latex": "$\\displaystyle 9$"
          },
          "metadata": {},
          "execution_count": 66
        }
      ]
    },
    {
      "cell_type": "code",
      "source": [
        "# Substitute the expression (1 - y) for x in the symbolic expression\n",
        "expr.subs({x:1-y})\n",
        "# Manually write out the expected result of the substitution to compare\n",
        "y**2 + 2*y*(-y + 1) + (-y + 1)**2"
      ],
      "metadata": {
        "colab": {
          "base_uri": "https://localhost:8080/",
          "height": 39
        },
        "id": "szb9PMbRe1Uf",
        "outputId": "0d142f86-ac5d-4f2e-9f8f-ace05759328b"
      },
      "execution_count": 67,
      "outputs": [
        {
          "output_type": "execute_result",
          "data": {
            "text/plain": [
              "       2                  2\n",
              "(1 - y)  + 2⋅y⋅(1 - y) + y "
            ],
            "text/latex": "$\\displaystyle \\left(1 - y\\right)^{2} + 2 y \\left(1 - y\\right) + y^{2}$"
          },
          "metadata": {},
          "execution_count": 67
        }
      ]
    },
    {
      "cell_type": "code",
      "source": [
        "from random import sample\n",
        "# Define a sample Python dictionary\n",
        "sampledict = {'key1': 5, 'key2': 20}\n",
        "\n",
        "# Access and display the value associated with the key 'key1'\n",
        "sampledict['key1']"
      ],
      "metadata": {
        "colab": {
          "base_uri": "https://localhost:8080/",
          "height": 37
        },
        "id": "Mm7fk50Ze0ta",
        "outputId": "1b281840-e427-4229-985e-d800ea7f2cb8"
      },
      "execution_count": 68,
      "outputs": [
        {
          "output_type": "execute_result",
          "data": {
            "text/plain": [
              "5"
            ],
            "text/latex": "$\\displaystyle 5$"
          },
          "metadata": {},
          "execution_count": 68
        }
      ]
    },
    {
      "cell_type": "code",
      "source": [
        "# Substitute the expression (1 - y) for x in the symbolic expression and store the result\n",
        "expr_subs = expr.subs({x:1-y})\n",
        "# Import the simplify function from sympy\n",
        "from sympy import simplify\n",
        "# Simplify the substituted expression and display the result\n",
        "simplify(expr_subs)"
      ],
      "metadata": {
        "colab": {
          "base_uri": "https://localhost:8080/",
          "height": 37
        },
        "id": "ydMzmGwhe0qu",
        "outputId": "2b6b2ae1-70d9-4562-bf80-4d71c95fc16c"
      },
      "execution_count": 69,
      "outputs": [
        {
          "output_type": "execute_result",
          "data": {
            "text/plain": [
              "1"
            ],
            "text/latex": "$\\displaystyle 1$"
          },
          "metadata": {},
          "execution_count": 69
        }
      ]
    },
    {
      "cell_type": "markdown",
      "source": [
        "**Calculating the value of a Series**"
      ],
      "metadata": {
        "id": "7G6xnXEPgafv"
      }
    },
    {
      "cell_type": "code",
      "source": [
        "'''\n",
        "Print the series:\n",
        "x + x**2 + x**3 + ... + x**n\n",
        "     ____  _____      _____\n",
        "      2      3          n\n",
        "'''\n",
        "\n",
        "from sympy import Symbol, pprint, init_printing"
      ],
      "metadata": {
        "id": "Xkv1ABJNe0n3"
      },
      "execution_count": 70,
      "outputs": []
    },
    {
      "cell_type": "code",
      "source": [
        "# Define a function to print a series and evaluate it at a given value of x\n",
        "def print_series(n, x_value):\n",
        "  # Initialize printing system with reverse order for terms\n",
        "  init_printing(order = 'rev-lex')\n",
        "\n",
        "  # Create a symbol x\n",
        "  x = Symbol('x')\n",
        "  # Initialize the series with the first term\n",
        "  series = x\n",
        "  # Add subsequent terms to the series\n",
        "  for i in range(2, n+1):\n",
        "    series = series + (x**i)/i\n",
        "  # Pretty print the resulting series\n",
        "  pprint(series)\n",
        "\n",
        "  # Evaluate the series at the given x_value by substituting the value for x\n",
        "  series_value = series.subs(x, x_value)\n",
        "  # Print the value of the series at the specified x_value\n",
        "  print('Value of the series at {0}: {1}'.format(x_value, series_value))"
      ],
      "metadata": {
        "id": "DMrlc_oKe0lM"
      },
      "execution_count": 71,
      "outputs": []
    },
    {
      "cell_type": "code",
      "source": [
        "# This block will be executed when the script is run directly\n",
        "if __name__ == '__main__':\n",
        "  # Prompt the user to enter the number of terms for the series\n",
        "  n = input('Enter the number of terms you want to print in the series: ')\n",
        "  # Prompt the user to enter the value of x to evaluate the series\n",
        "  x_value = input('Enter the value of x at which you want to evaluate the series: ')\n",
        "  # Call the print_series function with the user's inputs (converted to integer and float)\n",
        "  print_series(int(n), float(x_value))"
      ],
      "metadata": {
        "colab": {
          "base_uri": "https://localhost:8080/"
        },
        "id": "fFlTAJKaky8_",
        "outputId": "6b03b049-b6e9-4cd5-9db4-ae382a8b2460"
      },
      "execution_count": 72,
      "outputs": [
        {
          "output_type": "stream",
          "name": "stdout",
          "text": [
            "Enter the number of terms you want to print in the series: 7\n",
            "Enter the value of x at which you want to evaluate the series: 1.9\n",
            "     2    3    4    5    6    7\n",
            "    x    x    x    x    x    x \n",
            "x + ── + ── + ── + ── + ── + ──\n",
            "    2    3    4    5    6    7 \n",
            "Value of the series at 1.9: 34.8121327714286\n"
          ]
        }
      ]
    },
    {
      "cell_type": "markdown",
      "source": [
        "# **Converting Strings to Mathematical Expressions**"
      ],
      "metadata": {
        "id": "hbDgrqahlL-7"
      }
    }
  ]
}