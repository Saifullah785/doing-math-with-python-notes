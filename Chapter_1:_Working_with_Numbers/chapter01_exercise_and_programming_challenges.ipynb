{
  "nbformat": 4,
  "nbformat_minor": 0,
  "metadata": {
    "colab": {
      "provenance": [],
      "authorship_tag": "ABX9TyPJ7sSPNKDHTkRRtxo85cHk",
      "include_colab_link": true
    },
    "kernelspec": {
      "name": "python3",
      "display_name": "Python 3"
    },
    "language_info": {
      "name": "python"
    }
  },
  "cells": [
    {
      "cell_type": "markdown",
      "metadata": {
        "id": "view-in-github",
        "colab_type": "text"
      },
      "source": [
        "<a href=\"https://colab.research.google.com/github/Saifullah785/doing-math-with-python-notes/blob/main/Chapter_1%3A_Working_with_Numbers/chapter01_exercise_and_programming_challenges.ipynb\" target=\"_parent\"><img src=\"https://colab.research.google.com/assets/colab-badge.svg\" alt=\"Open In Colab\"/></a>"
      ]
    },
    {
      "cell_type": "markdown",
      "source": [
        "# **Programming Challenges**"
      ],
      "metadata": {
        "id": "YGNBxkl6-_-Y"
      }
    },
    {
      "cell_type": "code",
      "execution_count": 2,
      "metadata": {
        "colab": {
          "base_uri": "https://localhost:8080/"
        },
        "id": "haRo1-zr9YlO",
        "outputId": "0d2e5b44-c325-4de3-e264-8968c4b6030b"
      },
      "outputs": [
        {
          "output_type": "stream",
          "name": "stdout",
          "text": [
            "Enter first fraction: 3/4\n",
            "Enter second fraction: 1/4\n",
            "Operation to perform - Add, Subtract, Multiply, Divide: Add\n",
            "Result of Addition: 1\n"
          ]
        }
      ],
      "source": [
        "'''\n",
        "This program performs basic arithmetic operations on fractions.\n",
        "It takes two fractions and an operation (Add) as input and prints the result.\n",
        "'''\n",
        "from fractions import Fraction\n",
        "\n",
        "def add(a, b):\n",
        "  print('Result of Addition: {0}'.format(a+b))\n",
        "\n",
        "if __name__ == '__main__':\n",
        "  a = Fraction(input('Enter first fraction: '))\n",
        "  b = Fraction(input('Enter second fraction: '))\n",
        "  op = input('Operation to perform - Add, Subtract, Multiply, Divide: ')\n",
        "  if op == 'Add':\n",
        "    add(a, b)"
      ]
    },
    {
      "cell_type": "code",
      "source": [
        "'''\n",
        "This program demonstrates a simple loop that continues to execute a function\n",
        "and asks the user if they want to exit after each iteration.\n",
        "'''\n",
        "def fun():\n",
        "  print('I am in an endless loop')\n",
        "\n",
        "if __name__ == '__main__':\n",
        "  while True:\n",
        "\n",
        "    fun()\n",
        "    answer = input('Do you want to exit? (y) for yes: ')\n",
        "    if answer == 'y':\n",
        "      break"
      ],
      "metadata": {
        "colab": {
          "base_uri": "https://localhost:8080/"
        },
        "id": "igLfnZmeCWA_",
        "outputId": "b679692d-8db3-421d-fd8d-c1426ee3cb0c"
      },
      "execution_count": 4,
      "outputs": [
        {
          "name": "stdout",
          "output_type": "stream",
          "text": [
            "I am in an endless loop\n",
            "Do you want to exit? (y) for yes: n\n",
            "I am in an endless loop\n",
            "Do you want to exit? (y) for yes: n\n",
            "I am in an endless loop\n",
            "Do you want to exit? (y) for yes: m\n",
            "I am in an endless loop\n",
            "Do you want to exit? (y) for yes: y\n"
          ]
        }
      ]
    },
    {
      "cell_type": "code",
      "source": [
        "'''\n",
        "This program prints a multiplication table for a given number.\n",
        "It allows the user to enter a number and then prints its multiplication table up to 10.\n",
        "The user can choose to exit the program after each table is printed.\n",
        "'''\n",
        "def multi_table(a):\n",
        "  for i in range(1, 11):\n",
        "    print('{0} x {1} = {2}'.format(a, i, a*i))\n",
        "\n",
        "\n",
        "if __name__ == '__main__':\n",
        "  while True:\n",
        "    a = int(input('Enter a number: '))\n",
        "    multi_table(a)\n",
        "    answer = input('Do you want to exit? (y) for yes: ')\n",
        "    if answer == 'y':\n",
        "      break"
      ],
      "metadata": {
        "colab": {
          "base_uri": "https://localhost:8080/"
        },
        "id": "LJmSU5ZlDA_-",
        "outputId": "302a443a-1e90-4fd2-b8a3-546190874230"
      },
      "execution_count": 6,
      "outputs": [
        {
          "name": "stdout",
          "output_type": "stream",
          "text": [
            "Enter a number: 4\n",
            "4 x 1 = 4\n",
            "4 x 2 = 8\n",
            "4 x 3 = 12\n",
            "4 x 4 = 16\n",
            "4 x 5 = 20\n",
            "4 x 6 = 24\n",
            "4 x 7 = 28\n",
            "4 x 8 = 32\n",
            "4 x 9 = 36\n",
            "4 x 10 = 40\n",
            "Do you want to exit? (y) for yes: 6\n",
            "Enter a number: 8\n",
            "8 x 1 = 8\n",
            "8 x 2 = 16\n",
            "8 x 3 = 24\n",
            "8 x 4 = 32\n",
            "8 x 5 = 40\n",
            "8 x 6 = 48\n",
            "8 x 7 = 56\n",
            "8 x 8 = 64\n",
            "8 x 9 = 72\n",
            "8 x 10 = 80\n",
            "Do you want to exit? (y) for yes: y\n"
          ]
        }
      ]
    },
    {
      "cell_type": "code",
      "source": [
        "'''\n",
        "This program is an enhanced multiplication table printer.\n",
        "It takes a number and the desired number of multiples as input from the user\n",
        "and prints the multiplication table up to that many multiples.\n",
        "It also includes basic error handling for invalid input.\n",
        "'''\n",
        "\n",
        "def multi_table(a, n):\n",
        "    for i in range(1, n+1):\n",
        "        print('{0} x {1} = {2}'.format(a, i, a*i))\n",
        "\n",
        "if __name__ == '__main__':\n",
        "    try:\n",
        "        a = float(input('Enter a number: '))\n",
        "        n = float(input('Enter the number of multiples: '))\n",
        "        if not n.is_integer() or n < 0:\n",
        "            print('The number of multiples should be a positive integer')\n",
        "        else:\n",
        "            multi_table(a, int(n))\n",
        "    except ValueError:\n",
        "        print('You entered an invalid input')"
      ],
      "metadata": {
        "colab": {
          "base_uri": "https://localhost:8080/"
        },
        "id": "WR7_oay_ELI_",
        "outputId": "ec8e11f0-a4a6-4a28-bdb9-f79fa19b2f51"
      },
      "execution_count": 7,
      "outputs": [
        {
          "output_type": "stream",
          "name": "stdout",
          "text": [
            "Enter a number: 4\n",
            "Enter the number of multiples: 2\n",
            "4.0 x 1 = 4.0\n",
            "4.0 x 2 = 8.0\n"
          ]
        }
      ]
    }
  ]
}