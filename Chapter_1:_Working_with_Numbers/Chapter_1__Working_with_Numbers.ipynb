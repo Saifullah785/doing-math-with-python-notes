{
  "nbformat": 4,
  "nbformat_minor": 0,
  "metadata": {
    "colab": {
      "provenance": [],
      "authorship_tag": "ABX9TyOczJhRYuDUjGB+pIeDpvxJ",
      "include_colab_link": true
    },
    "kernelspec": {
      "name": "python3",
      "display_name": "Python 3"
    },
    "language_info": {
      "name": "python"
    }
  },
  "cells": [
    {
      "cell_type": "markdown",
      "metadata": {
        "id": "view-in-github",
        "colab_type": "text"
      },
      "source": [
        "<a href=\"https://colab.research.google.com/github/Saifullah785/doing-math-with-python-notes/blob/main/Chapter_1%3A_Working_with_Numbers/Chapter_1__Working_with_Numbers.ipynb\" target=\"_parent\"><img src=\"https://colab.research.google.com/assets/colab-badge.svg\" alt=\"Open In Colab\"/></a>"
      ]
    },
    {
      "cell_type": "markdown",
      "source": [
        "# **Basic Mathematical Operations**\n",
        "\n",
        "- subtract numbers using the addition (+) and substraction (-) operators for example:"
      ],
      "metadata": {
        "id": "UsvB9TeLSoIJ"
      }
    },
    {
      "cell_type": "code",
      "execution_count": 101,
      "metadata": {
        "colab": {
          "base_uri": "https://localhost:8080/"
        },
        "id": "a_CYnMTEFGy5",
        "outputId": "6eff528b-d00b-4328-8f28-5ba94d8e4ef0"
      },
      "outputs": [
        {
          "output_type": "execute_result",
          "data": {
            "text/plain": [
              "3"
            ]
          },
          "metadata": {},
          "execution_count": 101
        }
      ],
      "source": [
        "# Perform basic addition of two integers\n",
        "1+2"
      ]
    },
    {
      "cell_type": "code",
      "source": [
        "# Perform basic addition of an integer and a float\n",
        "1+3.5"
      ],
      "metadata": {
        "colab": {
          "base_uri": "https://localhost:8080/"
        },
        "id": "_asHw_NHSKEP",
        "outputId": "e47551f2-9da2-4d32-c796-1f8a9d9f804f"
      },
      "execution_count": 102,
      "outputs": [
        {
          "output_type": "execute_result",
          "data": {
            "text/plain": [
              "4.5"
            ]
          },
          "metadata": {},
          "execution_count": 102
        }
      ]
    },
    {
      "cell_type": "code",
      "source": [
        "# Perform basic addition of a negative integer and a float\n",
        "-1 + 2.5"
      ],
      "metadata": {
        "colab": {
          "base_uri": "https://localhost:8080/"
        },
        "id": "4jo8_D4gSLNx",
        "outputId": "22098b58-97c0-4c7b-90a7-f97c6c472a74"
      },
      "execution_count": 103,
      "outputs": [
        {
          "output_type": "execute_result",
          "data": {
            "text/plain": [
              "1.5"
            ]
          },
          "metadata": {},
          "execution_count": 103
        }
      ]
    },
    {
      "cell_type": "code",
      "source": [
        "# Perform basic subtraction of two integers\n",
        "100 - 45"
      ],
      "metadata": {
        "colab": {
          "base_uri": "https://localhost:8080/"
        },
        "id": "7cjNi0ikSLLH",
        "outputId": "2710fa8d-29e2-467a-8681-b2fb1e363bd4"
      },
      "execution_count": 104,
      "outputs": [
        {
          "output_type": "execute_result",
          "data": {
            "text/plain": [
              "55"
            ]
          },
          "metadata": {},
          "execution_count": 104
        }
      ]
    },
    {
      "cell_type": "code",
      "source": [
        "# Perform basic addition of a negative float and an integer\n",
        "-1.1 + 5"
      ],
      "metadata": {
        "colab": {
          "base_uri": "https://localhost:8080/"
        },
        "id": "on8emdTqSLH7",
        "outputId": "d2e2cf4f-a887-481e-a085-2ebec5dc7fa5"
      },
      "execution_count": 105,
      "outputs": [
        {
          "output_type": "execute_result",
          "data": {
            "text/plain": [
              "3.9"
            ]
          },
          "metadata": {},
          "execution_count": 105
        }
      ]
    },
    {
      "cell_type": "code",
      "source": [
        "# Perform basic multiplication of two integers\n",
        "3 * 2"
      ],
      "metadata": {
        "colab": {
          "base_uri": "https://localhost:8080/"
        },
        "id": "u1gJvyVgSLFa",
        "outputId": "3e661aaf-14ee-4b19-f0c1-4ca0a414178a"
      },
      "execution_count": 106,
      "outputs": [
        {
          "output_type": "execute_result",
          "data": {
            "text/plain": [
              "6"
            ]
          },
          "metadata": {},
          "execution_count": 106
        }
      ]
    },
    {
      "cell_type": "markdown",
      "source": [
        "- To multiply, use the multiplication (*) operator:"
      ],
      "metadata": {
        "id": "UeL6IyRPS7ev"
      }
    },
    {
      "cell_type": "code",
      "source": [
        "# Perform basic multiplication of two floats\n",
        "3.5 * 1.5"
      ],
      "metadata": {
        "colab": {
          "base_uri": "https://localhost:8080/"
        },
        "id": "mN_PSHIWSLCp",
        "outputId": "af5385e3-e006-413e-cae9-205c640f7244"
      },
      "execution_count": 107,
      "outputs": [
        {
          "output_type": "execute_result",
          "data": {
            "text/plain": [
              "5.25"
            ]
          },
          "metadata": {},
          "execution_count": 107
        }
      ]
    },
    {
      "cell_type": "code",
      "source": [
        "# Perform basic multiplication of two floats\n",
        "3.5 * 1.5"
      ],
      "metadata": {
        "colab": {
          "base_uri": "https://localhost:8080/"
        },
        "id": "U6M_SDz0SK_u",
        "outputId": "f1f2acc0-9034-401f-ce62-52371d2c834e"
      },
      "execution_count": 108,
      "outputs": [
        {
          "output_type": "execute_result",
          "data": {
            "text/plain": [
              "5.25"
            ]
          },
          "metadata": {},
          "execution_count": 108
        }
      ]
    },
    {
      "cell_type": "markdown",
      "source": [
        "- To divide, use the division (/) operator:"
      ],
      "metadata": {
        "id": "KbnNSK_7TRQh"
      }
    },
    {
      "cell_type": "code",
      "source": [
        "# Perform basic division of two integers resulting in a float\n",
        "3 / 2"
      ],
      "metadata": {
        "colab": {
          "base_uri": "https://localhost:8080/"
        },
        "id": "rCfR-9-fTrtZ",
        "outputId": "1b0f917f-fef1-4070-c704-1c42bad42e00"
      },
      "execution_count": 109,
      "outputs": [
        {
          "output_type": "execute_result",
          "data": {
            "text/plain": [
              "1.5"
            ]
          },
          "metadata": {},
          "execution_count": 109
        }
      ]
    },
    {
      "cell_type": "code",
      "source": [
        "# Perform basic division of two integers resulting in a float\n",
        "4 / 2"
      ],
      "metadata": {
        "colab": {
          "base_uri": "https://localhost:8080/"
        },
        "id": "HrlNGRJCTvUf",
        "outputId": "a0d0fa97-c52e-4694-bb9e-4888cd5ba782"
      },
      "execution_count": 110,
      "outputs": [
        {
          "output_type": "execute_result",
          "data": {
            "text/plain": [
              "2.0"
            ]
          },
          "metadata": {},
          "execution_count": 110
        }
      ]
    },
    {
      "cell_type": "markdown",
      "source": [
        "- floor division (//) operator:"
      ],
      "metadata": {
        "id": "vm_TCg-ZSDi4"
      }
    },
    {
      "cell_type": "code",
      "source": [
        "# Perform floor division of two integers (discards the fractional part)\n",
        "3 // 2"
      ],
      "metadata": {
        "colab": {
          "base_uri": "https://localhost:8080/"
        },
        "id": "8wdCvtyEULp-",
        "outputId": "6af8bb1e-667b-479a-945b-6dac4fbbc8f0"
      },
      "execution_count": 111,
      "outputs": [
        {
          "output_type": "execute_result",
          "data": {
            "text/plain": [
              "1"
            ]
          },
          "metadata": {},
          "execution_count": 111
        }
      ]
    },
    {
      "cell_type": "code",
      "source": [
        "# Perform floor division of a negative integer and a positive integer\n",
        "-3 // 2"
      ],
      "metadata": {
        "colab": {
          "base_uri": "https://localhost:8080/"
        },
        "id": "YcyeM5MvUfXB",
        "outputId": "ce9efac1-45fa-4743-ab7d-20e610a134ea"
      },
      "execution_count": 112,
      "outputs": [
        {
          "output_type": "execute_result",
          "data": {
            "text/plain": [
              "-2"
            ]
          },
          "metadata": {},
          "execution_count": 112
        }
      ]
    },
    {
      "cell_type": "code",
      "source": [
        "# Perform modulo operation (returns the remainder of the division)\n",
        "9 % 2"
      ],
      "metadata": {
        "colab": {
          "base_uri": "https://localhost:8080/"
        },
        "id": "xJauwTMKUmqH",
        "outputId": "fed59da0-54f4-4645-f02e-ca6ec6412905"
      },
      "execution_count": 113,
      "outputs": [
        {
          "output_type": "execute_result",
          "data": {
            "text/plain": [
              "1"
            ]
          },
          "metadata": {},
          "execution_count": 113
        }
      ]
    },
    {
      "cell_type": "code",
      "source": [
        "# Perform exponentiation (2 raised to the power of 2)\n",
        "2 ** 2"
      ],
      "metadata": {
        "colab": {
          "base_uri": "https://localhost:8080/"
        },
        "id": "2OhK1sqaUs1n",
        "outputId": "e99c4a15-d119-4d84-eb16-fda4248a00c3"
      },
      "execution_count": 114,
      "outputs": [
        {
          "output_type": "execute_result",
          "data": {
            "text/plain": [
              "4"
            ]
          },
          "metadata": {},
          "execution_count": 114
        }
      ]
    },
    {
      "cell_type": "code",
      "source": [
        "# Perform exponentiation (2 raised to the power of 10)\n",
        "2 ** 10"
      ],
      "metadata": {
        "colab": {
          "base_uri": "https://localhost:8080/"
        },
        "id": "p7cCR8_8U1C5",
        "outputId": "db9e4310-acdc-459d-d716-cf96f817a600"
      },
      "execution_count": 115,
      "outputs": [
        {
          "output_type": "execute_result",
          "data": {
            "text/plain": [
              "1024"
            ]
          },
          "metadata": {},
          "execution_count": 115
        }
      ]
    },
    {
      "cell_type": "code",
      "source": [
        "# Perform exponentiation (1 raised to the power of 10)\n",
        "1 **10"
      ],
      "metadata": {
        "colab": {
          "base_uri": "https://localhost:8080/"
        },
        "id": "A2yhMFUzU4ja",
        "outputId": "8db9bade-8039-445a-d674-cc3f98a0e3b7"
      },
      "execution_count": 116,
      "outputs": [
        {
          "output_type": "execute_result",
          "data": {
            "text/plain": [
              "1"
            ]
          },
          "metadata": {},
          "execution_count": 116
        }
      ]
    },
    {
      "cell_type": "code",
      "source": [
        "# Calculate the cube root of 8 using exponentiation\n",
        "8 ** (1/3)"
      ],
      "metadata": {
        "colab": {
          "base_uri": "https://localhost:8080/"
        },
        "id": "34IRV6DeU6mc",
        "outputId": "df171012-629a-4c84-a868-335c143c8bab"
      },
      "execution_count": 117,
      "outputs": [
        {
          "output_type": "execute_result",
          "data": {
            "text/plain": [
              "2.0"
            ]
          },
          "metadata": {},
          "execution_count": 117
        }
      ]
    },
    {
      "cell_type": "code",
      "source": [
        "# Demonstrate order of operations (multiplication before addition)\n",
        "5 + 5 * 5"
      ],
      "metadata": {
        "colab": {
          "base_uri": "https://localhost:8080/"
        },
        "id": "NKAuomCDVJuA",
        "outputId": "579a6cb4-5993-461d-b590-5c213ee3cbac"
      },
      "execution_count": 118,
      "outputs": [
        {
          "output_type": "execute_result",
          "data": {
            "text/plain": [
              "30"
            ]
          },
          "metadata": {},
          "execution_count": 118
        }
      ]
    },
    {
      "cell_type": "code",
      "source": [
        "# Demonstrate order of operations with parentheses (addition before multiplication)\n",
        "(5 + 5) * 5"
      ],
      "metadata": {
        "colab": {
          "base_uri": "https://localhost:8080/"
        },
        "id": "eLwxks1BVOYu",
        "outputId": "647634d4-08cd-48bc-dc89-6935686f040c"
      },
      "execution_count": 119,
      "outputs": [
        {
          "output_type": "execute_result",
          "data": {
            "text/plain": [
              "50"
            ]
          },
          "metadata": {},
          "execution_count": 119
        }
      ]
    },
    {
      "cell_type": "markdown",
      "source": [
        "# **Label: Attaching Names to Numbers**"
      ],
      "metadata": {
        "id": "j4ssGKwPWkF2"
      }
    },
    {
      "cell_type": "code",
      "source": [
        "# Assign an integer value to a variable 'a' and then perform addition\n",
        "a = 3\n",
        "\n",
        "a + 1"
      ],
      "metadata": {
        "colab": {
          "base_uri": "https://localhost:8080/"
        },
        "id": "AcR_Jm7FWzue",
        "outputId": "6ca9914b-530e-4bd8-b2d7-e968a60ec91c"
      },
      "execution_count": 120,
      "outputs": [
        {
          "output_type": "execute_result",
          "data": {
            "text/plain": [
              "4"
            ]
          },
          "metadata": {},
          "execution_count": 120
        }
      ]
    },
    {
      "cell_type": "code",
      "source": [
        "# Reassign an integer value to variable 'a' and perform addition\n",
        "a = 5\n",
        "\n",
        "a + 1"
      ],
      "metadata": {
        "colab": {
          "base_uri": "https://localhost:8080/"
        },
        "id": "boMiHWvHW6vf",
        "outputId": "92000238-45a8-4a2b-c3a0-1e81658cbfa5"
      },
      "execution_count": 121,
      "outputs": [
        {
          "output_type": "execute_result",
          "data": {
            "text/plain": [
              "6"
            ]
          },
          "metadata": {},
          "execution_count": 121
        }
      ]
    },
    {
      "cell_type": "markdown",
      "source": [
        "# **Different Kinds of Numbers**"
      ],
      "metadata": {
        "id": "ghqPFi5AXFgf"
      }
    },
    {
      "cell_type": "code",
      "source": [
        "# Check the data type of an integer\n",
        "type (3)"
      ],
      "metadata": {
        "colab": {
          "base_uri": "https://localhost:8080/"
        },
        "id": "a1IpUmKRXLsu",
        "outputId": "f6c4be03-c1e5-4e49-d719-a3dc6e464802"
      },
      "execution_count": 122,
      "outputs": [
        {
          "output_type": "execute_result",
          "data": {
            "text/plain": [
              "int"
            ]
          },
          "metadata": {},
          "execution_count": 122
        }
      ]
    },
    {
      "cell_type": "code",
      "source": [
        "# Check the data type of a float\n",
        "type(3.5)"
      ],
      "metadata": {
        "colab": {
          "base_uri": "https://localhost:8080/"
        },
        "id": "otwWGVtCXOLb",
        "outputId": "2991c513-d1dc-4d7c-f19d-80845bb21798"
      },
      "execution_count": 123,
      "outputs": [
        {
          "output_type": "execute_result",
          "data": {
            "text/plain": [
              "float"
            ]
          },
          "metadata": {},
          "execution_count": 123
        }
      ]
    },
    {
      "cell_type": "code",
      "source": [
        "# Check the data type of a float\n",
        "type(3.0)"
      ],
      "metadata": {
        "colab": {
          "base_uri": "https://localhost:8080/"
        },
        "id": "fYZjWyMwXSQP",
        "outputId": "2f3ac6ac-d8d5-4b4c-f0af-b0ca7d61f123"
      },
      "execution_count": 124,
      "outputs": [
        {
          "output_type": "execute_result",
          "data": {
            "text/plain": [
              "float"
            ]
          },
          "metadata": {},
          "execution_count": 124
        }
      ]
    },
    {
      "cell_type": "code",
      "source": [
        "# Convert a float to an integer (truncates the decimal part)\n",
        "int(3.8)"
      ],
      "metadata": {
        "colab": {
          "base_uri": "https://localhost:8080/"
        },
        "id": "j8uXjbHvXa-D",
        "outputId": "1a8c29fe-461b-4eca-9c25-b7fc5f7d4a2e"
      },
      "execution_count": 125,
      "outputs": [
        {
          "output_type": "execute_result",
          "data": {
            "text/plain": [
              "3"
            ]
          },
          "metadata": {},
          "execution_count": 125
        }
      ]
    },
    {
      "cell_type": "code",
      "source": [
        "# Convert a float to an integer\n",
        "int(3.0)"
      ],
      "metadata": {
        "colab": {
          "base_uri": "https://localhost:8080/"
        },
        "id": "p1Yryn26Xd6w",
        "outputId": "5918943e-9f29-47c8-9c75-19ff6f91b4cd"
      },
      "execution_count": 126,
      "outputs": [
        {
          "output_type": "execute_result",
          "data": {
            "text/plain": [
              "3"
            ]
          },
          "metadata": {},
          "execution_count": 126
        }
      ]
    },
    {
      "cell_type": "code",
      "source": [
        "# Convert an integer to a float\n",
        "float(3)"
      ],
      "metadata": {
        "colab": {
          "base_uri": "https://localhost:8080/"
        },
        "id": "EeMg_beUXlY1",
        "outputId": "1ac534dc-2c23-4b00-e0c5-8c1daaee501c"
      },
      "execution_count": 127,
      "outputs": [
        {
          "output_type": "execute_result",
          "data": {
            "text/plain": [
              "3.0"
            ]
          },
          "metadata": {},
          "execution_count": 127
        }
      ]
    },
    {
      "cell_type": "markdown",
      "source": [
        "# **Working with Fractions**"
      ],
      "metadata": {
        "id": "-_14ehr2XqEh"
      }
    },
    {
      "cell_type": "code",
      "source": [
        "# Import the Fraction class and create a Fraction object\n",
        "from fractions import Fraction\n",
        "\n",
        "f = Fraction(3, 4)\n",
        "f"
      ],
      "metadata": {
        "colab": {
          "base_uri": "https://localhost:8080/"
        },
        "id": "MuoPOI69XvIW",
        "outputId": "fd91eb89-1b88-47af-ebf6-41f4b7a5f419"
      },
      "execution_count": 128,
      "outputs": [
        {
          "output_type": "execute_result",
          "data": {
            "text/plain": [
              "Fraction(3, 4)"
            ]
          },
          "metadata": {},
          "execution_count": 128
        }
      ]
    },
    {
      "cell_type": "code",
      "source": [
        "# Perform addition with a Fraction, an integer, and a float (result is float)\n",
        "Fraction (3, 4) + 1 + 1.5"
      ],
      "metadata": {
        "colab": {
          "base_uri": "https://localhost:8080/"
        },
        "id": "acPYRxomX0dX",
        "outputId": "79077fdc-eff8-41c6-a7c6-6be60faedc5e"
      },
      "execution_count": 129,
      "outputs": [
        {
          "output_type": "execute_result",
          "data": {
            "text/plain": [
              "3.25"
            ]
          },
          "metadata": {},
          "execution_count": 129
        }
      ]
    },
    {
      "cell_type": "code",
      "source": [
        "# Perform addition with Fractions and an integer (result is a Fraction)\n",
        "Fraction (3, 4) + 1 + Fraction (1/4)"
      ],
      "metadata": {
        "colab": {
          "base_uri": "https://localhost:8080/"
        },
        "id": "SEpqnwVqYElc",
        "outputId": "196ea22c-75e9-4410-c41e-52197aad51a0"
      },
      "execution_count": 130,
      "outputs": [
        {
          "output_type": "execute_result",
          "data": {
            "text/plain": [
              "Fraction(2, 1)"
            ]
          },
          "metadata": {},
          "execution_count": 130
        }
      ]
    },
    {
      "cell_type": "markdown",
      "source": [
        "# **Complex Numbers**"
      ],
      "metadata": {
        "id": "Oro0Hx0wYOzv"
      }
    },
    {
      "cell_type": "code",
      "source": [
        "# Create a complex number and check its data type\n",
        "a = 2 + 3j\n",
        "type (a)"
      ],
      "metadata": {
        "colab": {
          "base_uri": "https://localhost:8080/"
        },
        "id": "Xlhz37HRYVme",
        "outputId": "375a6823-cc1b-488b-8d03-c271ca6250c2"
      },
      "execution_count": 131,
      "outputs": [
        {
          "output_type": "execute_result",
          "data": {
            "text/plain": [
              "complex"
            ]
          },
          "metadata": {},
          "execution_count": 131
        }
      ]
    },
    {
      "cell_type": "code",
      "source": [
        "# Create a complex number using the complex() constructor\n",
        "a = complex(2, 3)\n",
        "a"
      ],
      "metadata": {
        "colab": {
          "base_uri": "https://localhost:8080/"
        },
        "id": "YqDxDF5iYbwV",
        "outputId": "ee4602ba-6d84-4f09-d40c-ff1fab17bad1"
      },
      "execution_count": 132,
      "outputs": [
        {
          "output_type": "execute_result",
          "data": {
            "text/plain": [
              "(2+3j)"
            ]
          },
          "metadata": {},
          "execution_count": 132
        }
      ]
    },
    {
      "cell_type": "code",
      "source": [
        "# Perform addition and subtraction of complex numbers\n",
        "b = 3 + 3j\n",
        "a + b\n",
        "a - b"
      ],
      "metadata": {
        "colab": {
          "base_uri": "https://localhost:8080/"
        },
        "id": "hx2KnknsYuLI",
        "outputId": "480d84e0-c03c-4fbc-df19-49d683ad9b3a"
      },
      "execution_count": 133,
      "outputs": [
        {
          "output_type": "execute_result",
          "data": {
            "text/plain": [
              "(-1+0j)"
            ]
          },
          "metadata": {},
          "execution_count": 133
        }
      ]
    },
    {
      "cell_type": "code",
      "source": [
        "# Perform multiplication and division of complex numbers\n",
        "a * b\n",
        "\n",
        "a / b"
      ],
      "metadata": {
        "colab": {
          "base_uri": "https://localhost:8080/"
        },
        "id": "0O_m-ZpXZAjG",
        "outputId": "fd734f2b-cbfc-4715-91a4-a05e0859ffab"
      },
      "execution_count": 134,
      "outputs": [
        {
          "output_type": "execute_result",
          "data": {
            "text/plain": [
              "(0.8333333333333334+0.16666666666666666j)"
            ]
          },
          "metadata": {},
          "execution_count": 134
        }
      ]
    },
    {
      "cell_type": "code",
      "source": [
        "# Access the real and imaginary parts of a complex number\n",
        "z = 2 + 3j\n",
        "z.real\n",
        "\n",
        "z.imag"
      ],
      "metadata": {
        "colab": {
          "base_uri": "https://localhost:8080/"
        },
        "id": "89lZ6z6OZNXm",
        "outputId": "5292652c-a924-4dae-948d-081ba6c1f6ad"
      },
      "execution_count": 135,
      "outputs": [
        {
          "output_type": "execute_result",
          "data": {
            "text/plain": [
              "3.0"
            ]
          },
          "metadata": {},
          "execution_count": 135
        }
      ]
    },
    {
      "cell_type": "code",
      "source": [
        "# Get the conjugate of a complex number\n",
        "z.conjugate()"
      ],
      "metadata": {
        "colab": {
          "base_uri": "https://localhost:8080/"
        },
        "id": "JhIyqzwWZUnN",
        "outputId": "3e8d6186-38e3-4f88-c490-07d0f00c76c9"
      },
      "execution_count": 136,
      "outputs": [
        {
          "output_type": "execute_result",
          "data": {
            "text/plain": [
              "(2-3j)"
            ]
          },
          "metadata": {},
          "execution_count": 136
        }
      ]
    },
    {
      "cell_type": "code",
      "source": [
        "# Calculate the magnitude of a complex number using the Pythagorean theorem\n",
        "(z.real ** 2 + z.imag ** 2) ** 0.5"
      ],
      "metadata": {
        "colab": {
          "base_uri": "https://localhost:8080/"
        },
        "id": "1Qxw5euOZXIx",
        "outputId": "d1d768ed-65a7-4379-c7ca-da0c60448a8f"
      },
      "execution_count": 137,
      "outputs": [
        {
          "output_type": "execute_result",
          "data": {
            "text/plain": [
              "3.605551275463989"
            ]
          },
          "metadata": {},
          "execution_count": 137
        }
      ]
    },
    {
      "cell_type": "code",
      "source": [
        "# Calculate the magnitude of a complex number using the abs() function\n",
        "abs(z)"
      ],
      "metadata": {
        "id": "TNRkv-BqZcLR",
        "outputId": "16d2963d-3f91-42ad-9c39-d79aa69d6b0e",
        "colab": {
          "base_uri": "https://localhost:8080/"
        }
      },
      "execution_count": 138,
      "outputs": [
        {
          "output_type": "execute_result",
          "data": {
            "text/plain": [
              "3.605551275463989"
            ]
          },
          "metadata": {},
          "execution_count": 138
        }
      ]
    },
    {
      "cell_type": "markdown",
      "source": [
        "# **Getting User Input**"
      ],
      "metadata": {
        "id": "lpr1BPlfga6W"
      }
    },
    {
      "cell_type": "code",
      "source": [
        "# Get user input from the console\n",
        "a = input()"
      ],
      "metadata": {
        "colab": {
          "base_uri": "https://localhost:8080/"
        },
        "id": "K73jAqGcgfM9",
        "outputId": "c75704df-c019-48a0-ad5b-c971f8c759f4"
      },
      "execution_count": 139,
      "outputs": [
        {
          "name": "stdout",
          "output_type": "stream",
          "text": [
            "1\n"
          ]
        }
      ]
    },
    {
      "cell_type": "code",
      "source": [
        "# Display the variable 'a' which holds the user input as a string\n",
        "a"
      ],
      "metadata": {
        "colab": {
          "base_uri": "https://localhost:8080/",
          "height": 36
        },
        "id": "d7kXO3VJgpVa",
        "outputId": "365b7a75-0555-4123-ff54-875b141b211c"
      },
      "execution_count": 140,
      "outputs": [
        {
          "output_type": "execute_result",
          "data": {
            "text/plain": [
              "'1'"
            ],
            "application/vnd.google.colaboratory.intrinsic+json": {
              "type": "string"
            }
          },
          "metadata": {},
          "execution_count": 140
        }
      ]
    },
    {
      "cell_type": "code",
      "source": [
        "# Assign string values to variables\n",
        "s1 = 'a string'\n",
        "s2 = \"a string\""
      ],
      "metadata": {
        "id": "HqNhsjN9grhU"
      },
      "execution_count": 141,
      "outputs": []
    },
    {
      "cell_type": "code",
      "source": [
        "# Convert a string to an integer and perform addition\n",
        "a = '1'\n",
        "int(a) + 1"
      ],
      "metadata": {
        "colab": {
          "base_uri": "https://localhost:8080/"
        },
        "id": "CeniGDOBg1tr",
        "outputId": "1532fef3-137a-4370-ea44-ed1c1dfad976"
      },
      "execution_count": 142,
      "outputs": [
        {
          "output_type": "execute_result",
          "data": {
            "text/plain": [
              "2"
            ]
          },
          "metadata": {},
          "execution_count": 142
        }
      ]
    },
    {
      "cell_type": "code",
      "source": [
        "# Convert a string to a float and perform addition\n",
        "float(a) + 1"
      ],
      "metadata": {
        "colab": {
          "base_uri": "https://localhost:8080/"
        },
        "id": "YCsp8VXog-cL",
        "outputId": "fb0925e5-8aa3-4c24-a508-6281be3aabef"
      },
      "execution_count": 143,
      "outputs": [
        {
          "output_type": "execute_result",
          "data": {
            "text/plain": [
              "2.0"
            ]
          },
          "metadata": {},
          "execution_count": 143
        }
      ]
    },
    {
      "cell_type": "code",
      "source": [
        "# Attempt to convert a string representation of a float to an integer (will cause a ValueError)\n",
        "int('2.0')"
      ],
      "metadata": {
        "colab": {
          "base_uri": "https://localhost:8080/",
          "height": 165
        },
        "id": "AJmY6BIZiR3T",
        "outputId": "9fdcbfb8-c2c5-405b-9f4a-b5231b4494cf"
      },
      "execution_count": 144,
      "outputs": [
        {
          "output_type": "error",
          "ename": "ValueError",
          "evalue": "invalid literal for int() with base 10: '2.0'",
          "traceback": [
            "\u001b[0;31m---------------------------------------------------------------------------\u001b[0m",
            "\u001b[0;31mValueError\u001b[0m                                Traceback (most recent call last)",
            "\u001b[0;32m<ipython-input-144-3007607092>\u001b[0m in \u001b[0;36m<cell line: 0>\u001b[0;34m()\u001b[0m\n\u001b[1;32m      1\u001b[0m \u001b[0;31m# Attempt to convert a string representation of a float to an integer (will cause a ValueError)\u001b[0m\u001b[0;34m\u001b[0m\u001b[0;34m\u001b[0m\u001b[0m\n\u001b[0;32m----> 2\u001b[0;31m \u001b[0mint\u001b[0m\u001b[0;34m(\u001b[0m\u001b[0;34m'2.0'\u001b[0m\u001b[0;34m)\u001b[0m\u001b[0;34m\u001b[0m\u001b[0;34m\u001b[0m\u001b[0m\n\u001b[0m",
            "\u001b[0;31mValueError\u001b[0m: invalid literal for int() with base 10: '2.0'"
          ]
        }
      ]
    },
    {
      "cell_type": "code",
      "source": [
        "# Attempt to convert user input (which is a string) to a float (will cause a ValueError for non-float input)\n",
        "a = float(input())"
      ],
      "metadata": {
        "colab": {
          "base_uri": "https://localhost:8080/"
        },
        "id": "pxIdPp4riovS",
        "outputId": "85c64df9-cbac-40cf-d85d-5599051d713f"
      },
      "execution_count": 145,
      "outputs": [
        {
          "name": "stdout",
          "output_type": "stream",
          "text": [
            "1\n"
          ]
        }
      ]
    },
    {
      "cell_type": "markdown",
      "source": [
        "# **Handling Exceptions and Invalid Input**"
      ],
      "metadata": {
        "id": "fjaAEWvci2Tq"
      }
    },
    {
      "cell_type": "code",
      "source": [
        "# Use a try-except block to handle ValueError when converting user input to float\n",
        "try:\n",
        "    a = float(input('Enter a number: '))\n",
        "except ValueError:\n",
        "    print('You entered an invalid number')"
      ],
      "metadata": {
        "colab": {
          "base_uri": "https://localhost:8080/"
        },
        "id": "dktfX8JnjFGO",
        "outputId": "0d8ae740-b888-48d3-d026-258097a30768"
      },
      "execution_count": 146,
      "outputs": [
        {
          "name": "stdout",
          "output_type": "stream",
          "text": [
            "Enter a number: 34\n"
          ]
        }
      ]
    },
    {
      "cell_type": "code",
      "source": [
        "# Get integer input from the user\n",
        "a = input('Input an integer:')"
      ],
      "metadata": {
        "colab": {
          "base_uri": "https://localhost:8080/"
        },
        "id": "92dywtWzjN8-",
        "outputId": "58a58a2b-8e2e-4e31-f636-0e7c14f60354"
      },
      "execution_count": 147,
      "outputs": [
        {
          "name": "stdout",
          "output_type": "stream",
          "text": [
            "Input an integer:4\n"
          ]
        }
      ]
    },
    {
      "cell_type": "code",
      "source": [
        "# Get integer input from the user and perform addition\n",
        "a = int(input())\n",
        "a + 1"
      ],
      "metadata": {
        "colab": {
          "base_uri": "https://localhost:8080/"
        },
        "id": "34zAYx_0jgIG",
        "outputId": "30d4a73a-e074-408b-8db1-26e0539c11ef"
      },
      "execution_count": 148,
      "outputs": [
        {
          "name": "stdout",
          "output_type": "stream",
          "text": [
            "2\n"
          ]
        },
        {
          "output_type": "execute_result",
          "data": {
            "text/plain": [
              "3"
            ]
          },
          "metadata": {},
          "execution_count": 148
        }
      ]
    },
    {
      "cell_type": "code",
      "source": [
        "# Attempt to convert user input (which is a string) to an integer (will cause a ValueError for non-integer input)\n",
        "a = int(input())"
      ],
      "metadata": {
        "colab": {
          "base_uri": "https://localhost:8080/"
        },
        "id": "2TBXoridjvPp",
        "outputId": "da7a3252-b8c7-4cb2-d92d-9aa9b675dac8"
      },
      "execution_count": 149,
      "outputs": [
        {
          "name": "stdout",
          "output_type": "stream",
          "text": [
            "2\n"
          ]
        }
      ]
    },
    {
      "cell_type": "code",
      "source": [
        "# Check if a float has an integer value\n",
        "1.1.is_integer()"
      ],
      "metadata": {
        "colab": {
          "base_uri": "https://localhost:8080/"
        },
        "id": "Z4bR8nPrj38C",
        "outputId": "6cc4f6f0-b988-4f4d-a004-e65805b583e2"
      },
      "execution_count": 150,
      "outputs": [
        {
          "output_type": "execute_result",
          "data": {
            "text/plain": [
              "False"
            ]
          },
          "metadata": {},
          "execution_count": 150
        }
      ]
    },
    {
      "cell_type": "code",
      "source": [
        "# Check if a float has an integer value\n",
        "1.0.is_integer()"
      ],
      "metadata": {
        "colab": {
          "base_uri": "https://localhost:8080/"
        },
        "id": "IEw--9dLkAlG",
        "outputId": "026b37ef-d753-4a22-a52d-d4cdb9cdd892"
      },
      "execution_count": 151,
      "outputs": [
        {
          "output_type": "execute_result",
          "data": {
            "text/plain": [
              "True"
            ]
          },
          "metadata": {},
          "execution_count": 151
        }
      ]
    },
    {
      "cell_type": "markdown",
      "source": [
        "# **Fractions and Complex Numbers as Input**"
      ],
      "metadata": {
        "id": "Vjg4nH-fkH4i"
      }
    },
    {
      "cell_type": "code",
      "source": [
        "# Get user input as a string and convert it to a Fraction object\n",
        "a = Fraction(input('Enter a fraction: '))\n",
        "a"
      ],
      "metadata": {
        "colab": {
          "base_uri": "https://localhost:8080/"
        },
        "id": "LGLW0nmgkN3w",
        "outputId": "b8bd2935-bb88-4f7d-f0e2-26e1389ffb54"
      },
      "execution_count": 155,
      "outputs": [
        {
          "name": "stdout",
          "output_type": "stream",
          "text": [
            "Enter a fraction: 3/4\n"
          ]
        },
        {
          "output_type": "execute_result",
          "data": {
            "text/plain": [
              "Fraction(3, 4)"
            ]
          },
          "metadata": {},
          "execution_count": 155
        }
      ]
    },
    {
      "cell_type": "code",
      "source": [
        "# Attempt to create a Fraction with a denominator of zero (will cause a ZeroDivisionError)\n",
        "a = Fraction(input('Enter a fraction: '))"
      ],
      "metadata": {
        "colab": {
          "base_uri": "https://localhost:8080/",
          "height": 311
        },
        "id": "56jADXm_km-I",
        "outputId": "10be4842-cb6c-4264-fc31-328b1de077f9"
      },
      "execution_count": 156,
      "outputs": [
        {
          "name": "stdout",
          "output_type": "stream",
          "text": [
            "Enter a fraction: 3/0\n"
          ]
        },
        {
          "output_type": "error",
          "ename": "ZeroDivisionError",
          "evalue": "Fraction(3, 0)",
          "traceback": [
            "\u001b[0;31m---------------------------------------------------------------------------\u001b[0m",
            "\u001b[0;31mZeroDivisionError\u001b[0m                         Traceback (most recent call last)",
            "\u001b[0;32m<ipython-input-156-4170841142>\u001b[0m in \u001b[0;36m<cell line: 0>\u001b[0;34m()\u001b[0m\n\u001b[1;32m      1\u001b[0m \u001b[0;31m# Attempt to create a Fraction with a denominator of zero (will cause a ZeroDivisionError)\u001b[0m\u001b[0;34m\u001b[0m\u001b[0;34m\u001b[0m\u001b[0m\n\u001b[0;32m----> 2\u001b[0;31m \u001b[0ma\u001b[0m \u001b[0;34m=\u001b[0m \u001b[0mFraction\u001b[0m\u001b[0;34m(\u001b[0m\u001b[0minput\u001b[0m\u001b[0;34m(\u001b[0m\u001b[0;34m'Enter a fraction: '\u001b[0m\u001b[0;34m)\u001b[0m\u001b[0;34m)\u001b[0m\u001b[0;34m\u001b[0m\u001b[0;34m\u001b[0m\u001b[0m\n\u001b[0m",
            "\u001b[0;32m/usr/lib/python3.11/fractions.py\u001b[0m in \u001b[0;36m__new__\u001b[0;34m(cls, numerator, denominator, _normalize)\u001b[0m\n\u001b[1;32m    155\u001b[0m \u001b[0;34m\u001b[0m\u001b[0m\n\u001b[1;32m    156\u001b[0m         \u001b[0;32mif\u001b[0m \u001b[0mdenominator\u001b[0m \u001b[0;34m==\u001b[0m \u001b[0;36m0\u001b[0m\u001b[0;34m:\u001b[0m\u001b[0;34m\u001b[0m\u001b[0;34m\u001b[0m\u001b[0m\n\u001b[0;32m--> 157\u001b[0;31m             \u001b[0;32mraise\u001b[0m \u001b[0mZeroDivisionError\u001b[0m\u001b[0;34m(\u001b[0m\u001b[0;34m'Fraction(%s, 0)'\u001b[0m \u001b[0;34m%\u001b[0m \u001b[0mnumerator\u001b[0m\u001b[0;34m)\u001b[0m\u001b[0;34m\u001b[0m\u001b[0;34m\u001b[0m\u001b[0m\n\u001b[0m\u001b[1;32m    158\u001b[0m         \u001b[0;32mif\u001b[0m \u001b[0m_normalize\u001b[0m\u001b[0;34m:\u001b[0m\u001b[0;34m\u001b[0m\u001b[0;34m\u001b[0m\u001b[0m\n\u001b[1;32m    159\u001b[0m             \u001b[0mg\u001b[0m \u001b[0;34m=\u001b[0m \u001b[0mmath\u001b[0m\u001b[0;34m.\u001b[0m\u001b[0mgcd\u001b[0m\u001b[0;34m(\u001b[0m\u001b[0mnumerator\u001b[0m\u001b[0;34m,\u001b[0m \u001b[0mdenominator\u001b[0m\u001b[0;34m)\u001b[0m\u001b[0;34m\u001b[0m\u001b[0;34m\u001b[0m\u001b[0m\n",
            "\u001b[0;31mZeroDivisionError\u001b[0m: Fraction(3, 0)"
          ]
        }
      ]
    },
    {
      "cell_type": "code",
      "source": [
        "# Use a try-except block to handle ZeroDivisionError when creating a Fraction\n",
        "try:\n",
        "    a = Fraction(input('Enter a fraction: '))\n",
        "except ZeroDivisionError:\n",
        "    print('Invalid fraction')"
      ],
      "metadata": {
        "colab": {
          "base_uri": "https://localhost:8080/"
        },
        "id": "nggMwBfckxW4",
        "outputId": "3b15993d-72c1-4f65-b0a9-aa64e55d2299"
      },
      "execution_count": 157,
      "outputs": [
        {
          "output_type": "stream",
          "name": "stdout",
          "text": [
            "Enter a fraction: 3/0\n",
            "Invalid fraction\n"
          ]
        }
      ]
    },
    {
      "cell_type": "code",
      "source": [
        "# Get user input as a string and convert it to a complex number\n",
        "z = complex(input('Enter a complex number: '))\n",
        "\n",
        "z"
      ],
      "metadata": {
        "colab": {
          "base_uri": "https://localhost:8080/"
        },
        "id": "cIpIqhxElIe_",
        "outputId": "afd23c17-55e7-413b-b984-bc0ec2e9a4b9"
      },
      "execution_count": 158,
      "outputs": [
        {
          "name": "stdout",
          "output_type": "stream",
          "text": [
            "Enter a complex number: 2+4j\n"
          ]
        },
        {
          "output_type": "execute_result",
          "data": {
            "text/plain": [
              "(2+4j)"
            ]
          },
          "metadata": {},
          "execution_count": 158
        }
      ]
    },
    {
      "cell_type": "code",
      "source": [
        "# Attempt to convert a string with spaces to a complex number (will cause a ValueError)\n",
        "z = complex(input('Enter a complex number: '))"
      ],
      "metadata": {
        "colab": {
          "base_uri": "https://localhost:8080/",
          "height": 183
        },
        "id": "7WGonXyPlVxo",
        "outputId": "50f2bea0-a980-4fae-f52f-f6e27f0137cb"
      },
      "execution_count": 159,
      "outputs": [
        {
          "name": "stdout",
          "output_type": "stream",
          "text": [
            "Enter a complex number: 3 + 3j\n"
          ]
        },
        {
          "output_type": "error",
          "ename": "ValueError",
          "evalue": "complex() arg is a malformed string",
          "traceback": [
            "\u001b[0;31m---------------------------------------------------------------------------\u001b[0m",
            "\u001b[0;31mValueError\u001b[0m                                Traceback (most recent call last)",
            "\u001b[0;32m<ipython-input-159-2543907642>\u001b[0m in \u001b[0;36m<cell line: 0>\u001b[0;34m()\u001b[0m\n\u001b[1;32m      1\u001b[0m \u001b[0;31m# Attempt to convert a string with spaces to a complex number (will cause a ValueError)\u001b[0m\u001b[0;34m\u001b[0m\u001b[0;34m\u001b[0m\u001b[0m\n\u001b[0;32m----> 2\u001b[0;31m \u001b[0mz\u001b[0m \u001b[0;34m=\u001b[0m \u001b[0mcomplex\u001b[0m\u001b[0;34m(\u001b[0m\u001b[0minput\u001b[0m\u001b[0;34m(\u001b[0m\u001b[0;34m'Enter a complex number: '\u001b[0m\u001b[0;34m)\u001b[0m\u001b[0;34m)\u001b[0m\u001b[0;34m\u001b[0m\u001b[0;34m\u001b[0m\u001b[0m\n\u001b[0m",
            "\u001b[0;31mValueError\u001b[0m: complex() arg is a malformed string"
          ]
        }
      ]
    },
    {
      "cell_type": "markdown",
      "source": [
        "# **Writing Programs That do the math for you**"
      ],
      "metadata": {
        "id": "8sUkNPqslsjV"
      }
    },
    {
      "cell_type": "code",
      "source": [
        "# Define a function to check if 'a' is a factor of 'b'\n",
        "def is_factor(a, b):\n",
        "  if b % a == 0:\n",
        "    return True\n",
        "\n",
        "  else:\n",
        "    return False"
      ],
      "metadata": {
        "id": "INdnHFxXlsMR"
      },
      "execution_count": 163,
      "outputs": []
    },
    {
      "cell_type": "code",
      "source": [
        "# Call the is_factor function with example values\n",
        "is_factor(4, 1024)"
      ],
      "metadata": {
        "colab": {
          "base_uri": "https://localhost:8080/"
        },
        "id": "ArDcvxecmRbh",
        "outputId": "8df8da51-6737-4618-c238-46f45dfda923"
      },
      "execution_count": 164,
      "outputs": [
        {
          "output_type": "execute_result",
          "data": {
            "text/plain": [
              "True"
            ]
          },
          "metadata": {},
          "execution_count": 164
        }
      ]
    },
    {
      "cell_type": "code",
      "source": [
        "# Loop through a range of numbers (1 to 3) and print each number\n",
        "for i in range (1, 4):\n",
        "  print(i)"
      ],
      "metadata": {
        "colab": {
          "base_uri": "https://localhost:8080/"
        },
        "id": "n2ZtmMjVmdWT",
        "outputId": "111d005a-db23-4c05-87ec-c2f351a7ef88"
      },
      "execution_count": 165,
      "outputs": [
        {
          "output_type": "stream",
          "name": "stdout",
          "text": [
            "1\n",
            "2\n",
            "3\n"
          ]
        }
      ]
    },
    {
      "cell_type": "code",
      "source": [
        "# Loop through a range of numbers (0 to 4) and print each number\n",
        "for i in range(5):\n",
        "  print(i)"
      ],
      "metadata": {
        "colab": {
          "base_uri": "https://localhost:8080/"
        },
        "id": "eCwhM0ZUnkpk",
        "outputId": "8d26851a-30f5-4639-fb7e-dbf1169b1a66"
      },
      "execution_count": 166,
      "outputs": [
        {
          "output_type": "stream",
          "name": "stdout",
          "text": [
            "0\n",
            "1\n",
            "2\n",
            "3\n",
            "4\n"
          ]
        }
      ]
    },
    {
      "cell_type": "code",
      "source": [
        "# Loop through a range of numbers with a step (1 to 9, stepping by 2) and print each number\n",
        "for i in range(1,10,2):\n",
        "  print(i)"
      ],
      "metadata": {
        "colab": {
          "base_uri": "https://localhost:8080/"
        },
        "id": "2H6HDWXFntD8",
        "outputId": "14bf0d67-d0c6-4e17-ec1b-7f1184af2779"
      },
      "execution_count": 167,
      "outputs": [
        {
          "output_type": "stream",
          "name": "stdout",
          "text": [
            "1\n",
            "3\n",
            "5\n",
            "7\n",
            "9\n"
          ]
        }
      ]
    },
    {
      "cell_type": "code",
      "source": [
        "'''\n",
        "Find the factors of an integer\n",
        "'''\n",
        "\n",
        "# Define a function to find and print the factors of an integer\n",
        "def factor(b):\n",
        "  for i in range(1, b+1):\n",
        "    if b % i == 0:\n",
        "      print(i)\n",
        "\n",
        "\n",
        "# Main execution block\n",
        "if __name__ == '__main__':\n",
        "  b = input('Your Number Please: ')\n",
        "  b = float(b) # Convert input to float\n",
        "  # Check if the number is positive and an integer before finding factors\n",
        "  if b > 0 and b.is_integer():\n",
        "    factor(int(b)) # Convert to integer before passing to factor function\n",
        "  else:\n",
        "    print('Please enter a positive integer')"
      ],
      "metadata": {
        "colab": {
          "base_uri": "https://localhost:8080/"
        },
        "id": "hmYMv1ssn2HE",
        "outputId": "ac9a8368-fbf7-4394-d137-0d49ac76e7a5"
      },
      "execution_count": 168,
      "outputs": [
        {
          "output_type": "stream",
          "name": "stdout",
          "text": [
            "Your Number Please: 45\n",
            "1\n",
            "3\n",
            "5\n",
            "9\n",
            "15\n",
            "45\n"
          ]
        }
      ]
    },
    {
      "cell_type": "markdown",
      "source": [
        "**Generating Multiplication Tables**"
      ],
      "metadata": {
        "id": "GfLYgMtgqTTo"
      }
    },
    {
      "cell_type": "code",
      "source": [
        "# Demonstrate string formatting using the format() method\n",
        "item1 = 'apples'\n",
        "item2 = 'bananas'\n",
        "item3 = 'grapes'\n",
        "print('At the grocery store, i bought some {0} and {1} and {2}'.format(item1, item2, item3))"
      ],
      "metadata": {
        "colab": {
          "base_uri": "https://localhost:8080/"
        },
        "id": "x4eH9m-VqSil",
        "outputId": "cf0e1ebc-9575-4af2-8195-5d1519cda7e5"
      },
      "execution_count": 169,
      "outputs": [
        {
          "output_type": "stream",
          "name": "stdout",
          "text": [
            "At the grocery store, i bought some apples and bananas and grapes\n"
          ]
        }
      ]
    },
    {
      "cell_type": "code",
      "source": [
        "# Demonstrate string formatting with different number types\n",
        "from numbers import Number\n",
        "print('Number 1: {0} Number 2: {1} '.format(1,3.578))"
      ],
      "metadata": {
        "colab": {
          "base_uri": "https://localhost:8080/"
        },
        "id": "AbzWusWBrAzR",
        "outputId": "5ae4e40d-e757-4715-e1fc-195955a88550"
      },
      "execution_count": 170,
      "outputs": [
        {
          "output_type": "stream",
          "name": "stdout",
          "text": [
            "Number 1: 1 Number 2: 3.578 \n"
          ]
        }
      ]
    },
    {
      "cell_type": "code",
      "source": [
        "'''\n",
        "Multiplication table printer\n",
        "'''\n",
        "\n",
        "# Define a function to print the multiplication table for a given number\n",
        "def multi_table(a):\n",
        "  for i in range(1,11):\n",
        "    # Format the output to show the multiplication\n",
        "    print('{0} x {1} = {2}'.format(a, i , a*i))\n",
        "\n",
        "\n",
        "\n",
        "# Main execution block\n",
        "if __name__ =='__main__':\n",
        "  a = input('Enter a number:')\n",
        "  multi_table(float(a)) # Convert input to float before passing to multi_table function"
      ],
      "metadata": {
        "colab": {
          "base_uri": "https://localhost:8080/"
        },
        "id": "kPHxfNUwrYo8",
        "outputId": "eaae4193-e41c-4892-cd94-304ca8a77d85"
      },
      "execution_count": 171,
      "outputs": [
        {
          "output_type": "stream",
          "name": "stdout",
          "text": [
            "Enter a number:12\n",
            "12.0 x 1 = 12.0\n",
            "12.0 x 2 = 24.0\n",
            "12.0 x 3 = 36.0\n",
            "12.0 x 4 = 48.0\n",
            "12.0 x 5 = 60.0\n",
            "12.0 x 6 = 72.0\n",
            "12.0 x 7 = 84.0\n",
            "12.0 x 8 = 96.0\n",
            "12.0 x 9 = 108.0\n",
            "12.0 x 10 = 120.0\n"
          ]
        }
      ]
    },
    {
      "cell_type": "code",
      "source": [
        "# Format a float as a string with default precision\n",
        "'{0}'.format(1.25456)"
      ],
      "metadata": {
        "colab": {
          "base_uri": "https://localhost:8080/",
          "height": 36
        },
        "id": "J5H9xHvnsKvb",
        "outputId": "c24461cf-1891-49df-fa8c-d3b4f61e40de"
      },
      "execution_count": 172,
      "outputs": [
        {
          "output_type": "execute_result",
          "data": {
            "text/plain": [
              "'1.25456'"
            ],
            "application/vnd.google.colaboratory.intrinsic+json": {
              "type": "string"
            }
          },
          "metadata": {},
          "execution_count": 172
        }
      ]
    },
    {
      "cell_type": "code",
      "source": [
        "# Format a float as a string with two decimal places\n",
        "'{0:.2f}'.format(1.23456)"
      ],
      "metadata": {
        "colab": {
          "base_uri": "https://localhost:8080/",
          "height": 36
        },
        "id": "WQdwODE_sR6z",
        "outputId": "77933c84-f19c-4d09-c230-eea03d3c4f6c"
      },
      "execution_count": 173,
      "outputs": [
        {
          "output_type": "execute_result",
          "data": {
            "text/plain": [
              "'1.23'"
            ],
            "application/vnd.google.colaboratory.intrinsic+json": {
              "type": "string"
            }
          },
          "metadata": {},
          "execution_count": 173
        }
      ]
    },
    {
      "cell_type": "code",
      "source": [
        "# Format a float as a string with two decimal places (demonstrates rounding)\n",
        "'{0:.2f}'.format(1.25556)"
      ],
      "metadata": {
        "colab": {
          "base_uri": "https://localhost:8080/",
          "height": 36
        },
        "id": "k7fROh07scDY",
        "outputId": "3df97f5b-80d9-4238-b5fe-e06573fc9dad"
      },
      "execution_count": 174,
      "outputs": [
        {
          "output_type": "execute_result",
          "data": {
            "text/plain": [
              "'1.26'"
            ],
            "application/vnd.google.colaboratory.intrinsic+json": {
              "type": "string"
            }
          },
          "metadata": {},
          "execution_count": 174
        }
      ]
    },
    {
      "cell_type": "code",
      "source": [
        "# Format an integer as a string with two decimal places\n",
        "'{0:.2f}'.format(1)"
      ],
      "metadata": {
        "colab": {
          "base_uri": "https://localhost:8080/",
          "height": 36
        },
        "id": "V9OIhtvVspzP",
        "outputId": "2746a474-bab4-4235-9271-a4cf46d5acff"
      },
      "execution_count": 175,
      "outputs": [
        {
          "output_type": "execute_result",
          "data": {
            "text/plain": [
              "'1.00'"
            ],
            "application/vnd.google.colaboratory.intrinsic+json": {
              "type": "string"
            }
          },
          "metadata": {},
          "execution_count": 175
        }
      ]
    },
    {
      "cell_type": "markdown",
      "source": [
        "# **Converting Units of Measurement**"
      ],
      "metadata": {
        "id": "fsmC5sTKsv81"
      }
    },
    {
      "cell_type": "code",
      "source": [
        "# Convert inches to meters (25.5 inches to meters)\n",
        "(25.5 * 2.54)/100"
      ],
      "metadata": {
        "colab": {
          "base_uri": "https://localhost:8080/"
        },
        "id": "OCdEedEHsyWD",
        "outputId": "b3c2a0f6-cecb-49ef-a354-15ae3860907b"
      },
      "execution_count": 176,
      "outputs": [
        {
          "output_type": "execute_result",
          "data": {
            "text/plain": [
              "0.6476999999999999"
            ]
          },
          "metadata": {},
          "execution_count": 176
        }
      ]
    },
    {
      "cell_type": "code",
      "source": [
        "# Convert miles to kilometers (650 miles to kilometers)\n",
        "650 * 1.609"
      ],
      "metadata": {
        "colab": {
          "base_uri": "https://localhost:8080/"
        },
        "id": "Yk7n1WMgs9ek",
        "outputId": "49f8ab8b-6638-4fcc-81ff-48f61c953c51"
      },
      "execution_count": 177,
      "outputs": [
        {
          "output_type": "execute_result",
          "data": {
            "text/plain": [
              "1045.85"
            ]
          },
          "metadata": {},
          "execution_count": 177
        }
      ]
    },
    {
      "cell_type": "code",
      "source": [
        "# Convert Fahrenheit to Celsius (98.6 F to C)\n",
        "F = 98.6\n",
        "(F - 32) * (5 / 9)"
      ],
      "metadata": {
        "colab": {
          "base_uri": "https://localhost:8080/"
        },
        "id": "F8zEG758tDCR",
        "outputId": "658092df-3828-4478-d46e-27341aaa296f"
      },
      "execution_count": 178,
      "outputs": [
        {
          "output_type": "execute_result",
          "data": {
            "text/plain": [
              "37.0"
            ]
          },
          "metadata": {},
          "execution_count": 178
        }
      ]
    },
    {
      "cell_type": "code",
      "source": [
        "# Convert Celsius to Fahrenheit (37 C to F)\n",
        "C = 37\n",
        "C * (9 / 5) + 32"
      ],
      "metadata": {
        "colab": {
          "base_uri": "https://localhost:8080/"
        },
        "id": "8DnksntVtNEs",
        "outputId": "0d8dca1e-43eb-4877-d6d9-baa23b4c8988"
      },
      "execution_count": 179,
      "outputs": [
        {
          "output_type": "execute_result",
          "data": {
            "text/plain": [
              "98.60000000000001"
            ]
          },
          "metadata": {},
          "execution_count": 179
        }
      ]
    },
    {
      "cell_type": "code",
      "source": [
        "'''\n",
        "Unit converter: Miles and Kilometers\n",
        "'''\n",
        "# Function to print the main menu of the unit converter\n",
        "def print_menu():\n",
        "  print('1. Kilometers to Miles')\n",
        "  print('2. Miles to Kilometers')\n",
        "\n",
        "# Function to convert kilometers to miles based on user input\n",
        "def km_miles():\n",
        "  km = float(input('Enter distance in kilometers: '))\n",
        "  miles = km / 1.609\n",
        "  print('Distance in miles: {0}'.format(miles))\n",
        "\n",
        "# Function to convert miles to kilometers based on user input\n",
        "def miles_km():\n",
        "  miles = float(input('Enter distance in miles: '))\n",
        "  km = miles * 1.609\n",
        "  print('Distance in kilometers: {0}'.format(km))\n",
        "\n",
        "# Main execution block: prints the menu and calls the appropriate conversion function based on user choice\n",
        "if __name__ == '__main__':\n",
        "  print_menu()\n",
        "  choice = input('Which conversion would you like to do?: ')\n",
        "  if choice == '1':\n",
        "    km_miles()\n",
        "  if choice == '2':\n",
        "    miles_km()"
      ],
      "metadata": {
        "colab": {
          "base_uri": "https://localhost:8080/"
        },
        "id": "IRUmsh9_wALP",
        "outputId": "fc0fa469-1ba9-4c3e-b6ce-1e4fa140df1a"
      },
      "execution_count": 180,
      "outputs": [
        {
          "output_type": "stream",
          "name": "stdout",
          "text": [
            "1. Kilometers to Miles\n",
            "2. Miles to Kilometers\n",
            "Which conversion would you like to do?: 2\n",
            "Enter distance in miles: 155\n",
            "Distance in kilometers: 249.395\n"
          ]
        }
      ]
    },
    {
      "cell_type": "markdown",
      "source": [
        "# **Finding the Roots of a Quadratic Equation**"
      ],
      "metadata": {
        "id": "vNcSnIkIxVxP"
      }
    },
    {
      "cell_type": "code",
      "source": [
        "# Perform a series of arithmetic operations and assign the result to a variable\n",
        "x = 10 - 500 + 79\n",
        "x"
      ],
      "metadata": {
        "colab": {
          "base_uri": "https://localhost:8080/"
        },
        "id": "JdaqriFOxJL1",
        "outputId": "879e31c3-269c-4e55-bc72-45588df34b4a"
      },
      "execution_count": 181,
      "outputs": [
        {
          "output_type": "execute_result",
          "data": {
            "text/plain": [
              "-411"
            ]
          },
          "metadata": {},
          "execution_count": 181
        }
      ]
    },
    {
      "cell_type": "code",
      "source": [
        "# Calculate the roots of a quadratic equation with real roots\n",
        "a = 1\n",
        "b = 2\n",
        "c = 1\n",
        "\n",
        "# Calculate the discriminant\n",
        "D = (b**2 - 4*a*c)**0.5\n",
        "# Calculate the two roots\n",
        "x_1 = (-b + D)/(2*a)\n",
        "x_2 = (-b - D)/(2*a)\n",
        "\n",
        "# Print the calculated roots\n",
        "print(x_1, x_2)"
      ],
      "metadata": {
        "colab": {
          "base_uri": "https://localhost:8080/"
        },
        "id": "C3pL8Dw9xaUs",
        "outputId": "f0b36b15-0cc9-43e5-b9fe-473259dd06a9"
      },
      "execution_count": 182,
      "outputs": [
        {
          "output_type": "stream",
          "name": "stdout",
          "text": [
            "-1.0 -1.0\n"
          ]
        }
      ]
    },
    {
      "cell_type": "code",
      "source": [
        "'''\n",
        "Quadratic Equation root calculator\n",
        "'''\n",
        "# Define a function to calculate and print the roots of a quadratic equation\n",
        "def root(a, b, c):\n",
        "  # Calculate the discriminant\n",
        "  D = (b*b - 4*a*c)**0.5\n",
        "  # Calculate the two roots\n",
        "  x_1 = (-b + D)/(2*a)\n",
        "  x_2 = (-b - D)/(2*a)\n",
        "  # Print the calculated roots\n",
        "  print('x1: {0}'.format(x_1))\n",
        "  print('x2: {0}'.format(x_2))\n",
        "\n",
        "# Main execution block: gets coefficients from user input and calls the root function\n",
        "if __name__ == '__main__':\n",
        "  a = input('Enter a: ')\n",
        "  b = input('Enter b: ')\n",
        "  c = input('Enter c: ')\n",
        "  # Convert inputs to floats before passing to the root function\n",
        "  root(float(a), float(b), float(c))"
      ],
      "metadata": {
        "colab": {
          "base_uri": "https://localhost:8080/"
        },
        "id": "1-GCfKxqx6mV",
        "outputId": "8950a0db-07a4-4795-8fb2-4a8e680e418e"
      },
      "execution_count": 183,
      "outputs": [
        {
          "output_type": "stream",
          "name": "stdout",
          "text": [
            "Enter a: 33\n",
            "Enter b: 55\n",
            "Enter c: 55\n",
            "x1: (-0.8333333333333333+0.9860132971832694j)\n",
            "x2: (-0.8333333333333335-0.9860132971832694j)\n"
          ]
        }
      ]
    }
  ]
}