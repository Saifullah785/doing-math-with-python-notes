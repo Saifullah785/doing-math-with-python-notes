{
  "nbformat": 4,
  "nbformat_minor": 0,
  "metadata": {
    "colab": {
      "provenance": [],
      "authorship_tag": "ABX9TyMsIbiY+SX45mwN7KSY4aZ3",
      "include_colab_link": true
    },
    "kernelspec": {
      "name": "python3",
      "display_name": "Python 3"
    },
    "language_info": {
      "name": "python"
    }
  },
  "cells": [
    {
      "cell_type": "markdown",
      "metadata": {
        "id": "view-in-github",
        "colab_type": "text"
      },
      "source": [
        "<a href=\"https://colab.research.google.com/github/Saifullah785/doing-math-with-python-notes/blob/main/Chapter_03_Describing_Data_with_Statistics/Chapter_03_Describing_Data_with_Statistics.ipynb\" target=\"_parent\"><img src=\"https://colab.research.google.com/assets/colab-badge.svg\" alt=\"Open In Colab\"/></a>"
      ]
    },
    {
      "cell_type": "markdown",
      "source": [
        "# **Describing Data With Statistics**\n"
      ],
      "metadata": {
        "id": "laEfB_HEvBg_"
      }
    },
    {
      "cell_type": "markdown",
      "source": [
        "# **Finding the Mean**"
      ],
      "metadata": {
        "id": "Za11b_vVkSOE"
      }
    },
    {
      "cell_type": "code",
      "execution_count": 23,
      "metadata": {
        "colab": {
          "base_uri": "https://localhost:8080/"
        },
        "id": "dxbF2l_Uj4KX",
        "outputId": "63c0998e-73af-4850-c9c1-e8a12f8c9b30"
      },
      "outputs": [
        {
          "output_type": "execute_result",
          "data": {
            "text/plain": [
              "6"
            ]
          },
          "metadata": {},
          "execution_count": 23
        }
      ],
      "source": [
        "# Define a list of numbers\n",
        "shortlist = [1, 2, 3]\n",
        "# Calculate the sum of the numbers in the list\n",
        "sum(shortlist)"
      ]
    },
    {
      "cell_type": "code",
      "source": [
        "# Calculate the length of the list\n",
        "len(shortlist)"
      ],
      "metadata": {
        "colab": {
          "base_uri": "https://localhost:8080/"
        },
        "id": "QCCYRRGskouS",
        "outputId": "5467263c-18a5-4073-a382-1400a323bc79"
      },
      "execution_count": 24,
      "outputs": [
        {
          "output_type": "execute_result",
          "data": {
            "text/plain": [
              "3"
            ]
          },
          "metadata": {},
          "execution_count": 24
        }
      ]
    },
    {
      "cell_type": "code",
      "source": [
        "'''\n",
        "Calculating the mean\n",
        "\n",
        "'''\n",
        "# Define a function to calculate the mean of a list of numbers\n",
        "def calculate_mean(numbers):\n",
        "  # Calculate the sum of the numbers\n",
        "  s = sum(numbers)\n",
        "  # Calculate the number of elements in the list\n",
        "  N = len(numbers)\n",
        "  # calculate the mean\n",
        "  mean = s / N\n",
        "  return mean\n",
        "\n",
        "if __name__ == '__main__':\n",
        "  # Define a list of donations\n",
        "  donations = [100, 60, 70, 900, 100, 200, 500, 500, 503, 600, 1000, 1200]\n",
        "  # Calculate the mean of the donations\n",
        "  mean = calculate_mean(donations)\n",
        "  # Get the number of donations\n",
        "  N = len(donations)\n",
        "  # Print the mean donation\n",
        "  print('Mean donation over the last {0} days is {1}'.format(N, mean))"
      ],
      "metadata": {
        "colab": {
          "base_uri": "https://localhost:8080/"
        },
        "id": "QzIPD_s4kri1",
        "outputId": "25a4726f-e197-4a8a-b8bd-c399cf688656"
      },
      "execution_count": 25,
      "outputs": [
        {
          "output_type": "stream",
          "name": "stdout",
          "text": [
            "Mean donation over the last 12 days is 477.75\n"
          ]
        }
      ]
    },
    {
      "cell_type": "markdown",
      "source": [
        "# **Finding the Median**"
      ],
      "metadata": {
        "id": "YvoQDYyumoim"
      }
    },
    {
      "cell_type": "code",
      "source": [
        "# Define a sample list\n",
        "samplelist = [4, 1, 3]\n",
        "# Sort the sample list in ascending order\n",
        "samplelist.sort()\n",
        "# Display the sorted list\n",
        "samplelist"
      ],
      "metadata": {
        "colab": {
          "base_uri": "https://localhost:8080/"
        },
        "id": "ylgM6vpDmmAn",
        "outputId": "dde79a2c-4a99-4186-809f-7ef4520929e7"
      },
      "execution_count": 26,
      "outputs": [
        {
          "output_type": "execute_result",
          "data": {
            "text/plain": [
              "[1, 3, 4]"
            ]
          },
          "metadata": {},
          "execution_count": 26
        }
      ]
    },
    {
      "cell_type": "code",
      "source": [
        "'''\n",
        "Calculating the median\n",
        "\n",
        "'''\n",
        "\n",
        "# Define a function to calculate the median of a list of numbers\n",
        "def calculate_median(numbers):\n",
        "  # Get the number of elements in the list\n",
        "  N = len(numbers)\n",
        "  # Sort the list in ascending order\n",
        "  numbers.sort()\n",
        "\n",
        "  # find the median\n",
        "  # Check if the number of elements is even\n",
        "  if N % 2 == 0:\n",
        "    # if N is even, calculate the indices of the two middle elements\n",
        "    m1 = N/2\n",
        "    m2 = (N/2) + 1\n",
        "    # convert to interger, match position\n",
        "    m1 = int(m1) - 1\n",
        "    m2 = int(m2) - 1\n",
        "    # Calculate the median as the average of the two middle elements\n",
        "    median = (numbers[m1] + numbers[m2])/2\n",
        "\n",
        "  else:\n",
        "    # If the number of elements is odd, calculate the index of the middle element\n",
        "    m = (N+1)/2\n",
        "    # convert to integer, match position\n",
        "    m = int(m) - 1\n",
        "    # The median is the middle element\n",
        "    median = numbers[m]\n",
        "\n",
        "  return median"
      ],
      "metadata": {
        "id": "vPm_cj5mm5xO"
      },
      "execution_count": 27,
      "outputs": []
    },
    {
      "cell_type": "code",
      "source": [
        "if __name__ == '__main__':\n",
        "  # Define a list of donations (Note: This list has an odd number of elements)\n",
        "  donations = [100, 60, 70, 900, 100, 200, 500, 503, 600, 1000, 1200]\n",
        "  # Calculate the median of the donations\n",
        "  median = calculate_median(donations)\n",
        "  # Get the number of donations\n",
        "  N = len(donations)\n",
        "  # Print the median donation\n",
        "  print('Median donation over the last {0} days is {1}'.format(N, median))\n",
        "#"
      ],
      "metadata": {
        "colab": {
          "base_uri": "https://localhost:8080/"
        },
        "id": "rTDFPavCn3b2",
        "outputId": "b28d4ec6-2413-4930-be92-bdbce361991e"
      },
      "execution_count": 28,
      "outputs": [
        {
          "output_type": "stream",
          "name": "stdout",
          "text": [
            "Median donation over the last 11 days is 500\n"
          ]
        }
      ]
    },
    {
      "cell_type": "markdown",
      "source": [
        "# **Finding the Mode and Creating a Frequency Table**\n",
        "\n",
        "# Finding the Most Common Elements"
      ],
      "metadata": {
        "id": "rHnpUxNvoHB_"
      }
    },
    {
      "cell_type": "code",
      "source": [
        "# Define a simple list\n",
        "simplelist = [4, 2, 1, 3, 4]\n",
        "# Import the Counter class from the collections module\n",
        "from  collections import Counter\n",
        "# Create a Counter object from the list\n",
        "c = Counter(simplelist)\n",
        "# Get the most common elements and their counts\n",
        "c.most_common()"
      ],
      "metadata": {
        "colab": {
          "base_uri": "https://localhost:8080/"
        },
        "id": "EDeibyu6oVQ9",
        "outputId": "05c1f710-7e16-441f-8750-f41b5b1bd5f0"
      },
      "execution_count": 29,
      "outputs": [
        {
          "output_type": "execute_result",
          "data": {
            "text/plain": [
              "[(4, 2), (2, 1), (1, 1), (3, 1)]"
            ]
          },
          "metadata": {},
          "execution_count": 29
        }
      ]
    },
    {
      "cell_type": "code",
      "source": [
        "# Get the single most common element and its count\n",
        "c.most_common(1)"
      ],
      "metadata": {
        "colab": {
          "base_uri": "https://localhost:8080/"
        },
        "id": "aCoq9VdnorEK",
        "outputId": "444c3bf6-4b4f-4ed4-a565-640023565553"
      },
      "execution_count": 30,
      "outputs": [
        {
          "output_type": "execute_result",
          "data": {
            "text/plain": [
              "[(4, 2)]"
            ]
          },
          "metadata": {},
          "execution_count": 30
        }
      ]
    },
    {
      "cell_type": "code",
      "source": [
        "# Get the two most common elements and their counts\n",
        "c.most_common(2)"
      ],
      "metadata": {
        "colab": {
          "base_uri": "https://localhost:8080/"
        },
        "id": "9pVHIusjo2z-",
        "outputId": "cc705039-bbcb-4e19-99ec-544917b62050"
      },
      "execution_count": 31,
      "outputs": [
        {
          "output_type": "execute_result",
          "data": {
            "text/plain": [
              "[(4, 2), (2, 1)]"
            ]
          },
          "metadata": {},
          "execution_count": 31
        }
      ]
    },
    {
      "cell_type": "code",
      "source": [
        "# Get the single most common element and its count and assign it to a variable\n",
        "mode = c.most_common(1)\n",
        "# Display the mode variable\n",
        "mode"
      ],
      "metadata": {
        "colab": {
          "base_uri": "https://localhost:8080/"
        },
        "id": "T0gK8kVTo6Rg",
        "outputId": "1752139d-14cc-4eb9-f026-3e8db7b38d1e"
      },
      "execution_count": 32,
      "outputs": [
        {
          "output_type": "execute_result",
          "data": {
            "text/plain": [
              "[(4, 2)]"
            ]
          },
          "metadata": {},
          "execution_count": 32
        }
      ]
    },
    {
      "cell_type": "code",
      "source": [
        "# Access the first element of the 'mode' list (which is a tuple)\n",
        "mode[0]"
      ],
      "metadata": {
        "colab": {
          "base_uri": "https://localhost:8080/"
        },
        "id": "FCrnLMtqpA4U",
        "outputId": "ce88e2ea-4e79-4eb4-fe10-77952ef6e1ed"
      },
      "execution_count": 33,
      "outputs": [
        {
          "output_type": "execute_result",
          "data": {
            "text/plain": [
              "(4, 2)"
            ]
          },
          "metadata": {},
          "execution_count": 33
        }
      ]
    },
    {
      "cell_type": "code",
      "source": [
        "# Access the first element of the tuple within the 'mode' list (which is the mode value)\n",
        "mode[0][0]"
      ],
      "metadata": {
        "colab": {
          "base_uri": "https://localhost:8080/"
        },
        "id": "3LnypPD4pCjE",
        "outputId": "06343e8f-df20-4aa6-ef69-55eb402d75b4"
      },
      "execution_count": 34,
      "outputs": [
        {
          "output_type": "execute_result",
          "data": {
            "text/plain": [
              "4"
            ]
          },
          "metadata": {},
          "execution_count": 34
        }
      ]
    },
    {
      "cell_type": "markdown",
      "source": [
        "# **Finding the Mode**"
      ],
      "metadata": {
        "id": "lAjUeN0lpHE3"
      }
    },
    {
      "cell_type": "code",
      "source": [
        "'''\n",
        "Calculating the mode\n",
        "\n",
        "'''\n",
        "# Import the Counter class from the collections module\n",
        "from collections import Counter\n",
        "\n",
        "# Define a function to calculate the mode of a list of numbers\n",
        "def calculate_mode(numbers):\n",
        "  # Create a Counter object from the list\n",
        "  c = Counter(numbers)\n",
        "  # Get the most common element and its count\n",
        "  mode = c.most_common(1)\n",
        "  # Return the mode value\n",
        "  return mode[0][0]\n",
        "\n",
        "if __name__ == '__main__':\n",
        "  # Define a list of scores\n",
        "  scores = [7, 8, 9, 2, 10, 9, 9, 9, 9, 4, 5, 6, 1, 5, 6, 7, 8, 6, 1, 10]\n",
        "  # Calculate the mode of the scores\n",
        "  mode = calculate_mode(scores)\n",
        "  # Print the mode\n",
        "  print('The mode of the list of numbers is: {0}'.format(mode))\n",
        "#"
      ],
      "metadata": {
        "colab": {
          "base_uri": "https://localhost:8080/"
        },
        "id": "2PeCfqoxpKgc",
        "outputId": "aeedf34a-61e8-494e-8967-2cbc70625d52"
      },
      "execution_count": 35,
      "outputs": [
        {
          "output_type": "stream",
          "name": "stdout",
          "text": [
            "The mode of the list of numbers is: 9\n"
          ]
        }
      ]
    },
    {
      "cell_type": "code",
      "source": [
        "'''\n",
        "Calculating the mode when the list of numbers may have multiple modes\n",
        "\n",
        "'''\n",
        "# Import the Counter class from the collections module\n",
        "from collections import Counter\n",
        "\n",
        "# Define a function to calculate the mode(s) of a list of numbers\n",
        "def calculate_mode(numbers):\n",
        "  # Create a Counter object from the list\n",
        "  c = Counter(numbers)\n",
        "  # Get the frequency of each number\n",
        "  numbers_freq = c.most_common()\n",
        "  # Get the maximum frequency\n",
        "  max_count = numbers_freq[0][1]\n",
        "\n",
        "  # Find all numbers with the maximum frequency (these are the modes)\n",
        "  modes = []\n",
        "  for num in numbers_freq:\n",
        "    if num[1] == max_count:\n",
        "      modes.append(num[0])\n",
        "\n",
        "  return modes"
      ],
      "metadata": {
        "id": "0Na8Dlcept_d"
      },
      "execution_count": 36,
      "outputs": []
    },
    {
      "cell_type": "code",
      "source": [
        "if __name__ == '__main__':\n",
        "  # Define a list of scores with multiple modes\n",
        "  scores = [5, 5, 5, 4, 4, 4, 9, 1, 3]\n",
        "  # Calculate the mode(s) of the scores\n",
        "  modes = calculate_mode(scores)\n",
        "  # Print the mode(s)\n",
        "  print('The mode(s) of the list of numbers are: {0}'.format(modes))\n",
        "  # Print each mode individually\n",
        "  for mode in modes:\n",
        "    print(mode)"
      ],
      "metadata": {
        "colab": {
          "base_uri": "https://localhost:8080/"
        },
        "id": "rAjW5Iz1qxnk",
        "outputId": "91603bf3-3e70-4ab7-d42f-5987bd9ba21a"
      },
      "execution_count": 37,
      "outputs": [
        {
          "output_type": "stream",
          "name": "stdout",
          "text": [
            "The mode(s) of the list of numbers are: [5, 4]\n",
            "5\n",
            "4\n"
          ]
        }
      ]
    },
    {
      "cell_type": "markdown",
      "source": [
        "# **Creating a Frequency Table**"
      ],
      "metadata": {
        "id": "ANnsyrBUrfaK"
      }
    },
    {
      "cell_type": "code",
      "source": [
        "'''\n",
        "Frequency table for a list of numbers\n",
        "\n",
        "'''\n",
        "# Import the Counter class from the collections module\n",
        "from collections import Counter\n",
        "\n",
        "# Define a function to create a frequency table for a list of numbers\n",
        "def frequency_table(numbers):\n",
        "  # Create a Counter object from the list\n",
        "  table = Counter(numbers)\n",
        "  # Print the header for the table\n",
        "  print('Number\\tFrequency')\n",
        "  # Iterate through the most common elements and their counts\n",
        "  for number in table.most_common():\n",
        "    # Print each number and its frequency\n",
        "    print('{0}\\t{1}'.format(number[0], number[1]))"
      ],
      "metadata": {
        "id": "5sBaxhy5rkpD"
      },
      "execution_count": 38,
      "outputs": []
    },
    {
      "cell_type": "code",
      "source": [
        "if __name__ == '__main__':\n",
        "  # Define a list of scores\n",
        "  scores = [7, 8, 9, 2, 10, 9, 9, 9, 9, 4, 5, 6, 1, 5, 6, 7, 8, 6, 1, 10]\n",
        "  # Generate and print the frequency table for the scores\n",
        "  frequency_table(scores)"
      ],
      "metadata": {
        "colab": {
          "base_uri": "https://localhost:8080/"
        },
        "id": "Rbf-UeZJr9jb",
        "outputId": "c1f8e062-d392-4667-cc0c-226ded3ac529"
      },
      "execution_count": 39,
      "outputs": [
        {
          "output_type": "stream",
          "name": "stdout",
          "text": [
            "Number\tFrequency\n",
            "9\t5\n",
            "6\t3\n",
            "7\t2\n",
            "8\t2\n",
            "10\t2\n",
            "5\t2\n",
            "1\t2\n",
            "2\t1\n",
            "4\t1\n"
          ]
        }
      ]
    },
    {
      "cell_type": "code",
      "source": [
        "'''\n",
        "Frequency table for a list of numbers Enhanced to display the table sorted by the numbers\n",
        "\n",
        "'''\n",
        "\n",
        "# Import the Counter class from the collections module\n",
        "from collections import Counter\n",
        "\n",
        "# Define a function to create a frequency table for a list of numbers, sorted by number\n",
        "def frequency_table(numbers):\n",
        "  # Create a Counter object from the list\n",
        "  table = Counter(numbers)\n",
        "  # Get the frequency of each number\n",
        "  numbers_freq = table.most_common()\n",
        "  # Sort the numbers and their frequencies by the numbers\n",
        "  numbers_freq.sort()\n",
        "  # Print the header for the table\n",
        "  print('Number\\tFrequency')\n",
        "  # Iterate through the sorted numbers and their frequencies\n",
        "  for number in numbers_freq:\n",
        "    # Print each number and its frequency\n",
        "    print('{0}\\t{1}'.format(number[0], number[1]))"
      ],
      "metadata": {
        "id": "_0yCf4ICsxMu"
      },
      "execution_count": 40,
      "outputs": []
    },
    {
      "cell_type": "code",
      "source": [
        "if __name__ == '__main__':\n",
        "  # Define a list of scores\n",
        "  scores = [7, 8, 9, 2, 10, 9, 9, 9, 9, 4, 5, 6, 1, 5, 6, 7, 8, 6, 1, 10]\n",
        "\n",
        "  # Generate and print the sorted frequency table for the scores\n",
        "  frequency_table(scores)"
      ],
      "metadata": {
        "colab": {
          "base_uri": "https://localhost:8080/"
        },
        "id": "51U7OlcTtOef",
        "outputId": "29c41668-f735-4c8a-dc8a-bf13c7b11ae6"
      },
      "execution_count": 41,
      "outputs": [
        {
          "output_type": "stream",
          "name": "stdout",
          "text": [
            "Number\tFrequency\n",
            "1\t2\n",
            "2\t1\n",
            "4\t1\n",
            "5\t2\n",
            "6\t3\n",
            "7\t2\n",
            "8\t2\n",
            "9\t5\n",
            "10\t2\n"
          ]
        }
      ]
    }
  ]
}