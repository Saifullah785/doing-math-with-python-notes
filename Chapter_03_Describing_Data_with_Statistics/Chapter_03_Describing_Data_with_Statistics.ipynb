{
  "nbformat": 4,
  "nbformat_minor": 0,
  "metadata": {
    "colab": {
      "provenance": [],
      "authorship_tag": "ABX9TyNLltDrg/VHKWLYqRwQxmyG",
      "include_colab_link": true
    },
    "kernelspec": {
      "name": "python3",
      "display_name": "Python 3"
    },
    "language_info": {
      "name": "python"
    }
  },
  "cells": [
    {
      "cell_type": "markdown",
      "metadata": {
        "id": "view-in-github",
        "colab_type": "text"
      },
      "source": [
        "<a href=\"https://colab.research.google.com/github/Saifullah785/doing-math-with-python-notes/blob/main/Chapter_03_Describing_Data_with_Statistics/Chapter_03_Describing_Data_with_Statistics.ipynb\" target=\"_parent\"><img src=\"https://colab.research.google.com/assets/colab-badge.svg\" alt=\"Open In Colab\"/></a>"
      ]
    },
    {
      "cell_type": "markdown",
      "source": [
        "# **Describing Data With Statistics**\n"
      ],
      "metadata": {
        "id": "laEfB_HEvBg_"
      }
    },
    {
      "cell_type": "markdown",
      "source": [
        "# **Finding the Mean**"
      ],
      "metadata": {
        "id": "Za11b_vVkSOE"
      }
    },
    {
      "cell_type": "code",
      "execution_count": 61,
      "metadata": {
        "colab": {
          "base_uri": "https://localhost:8080/"
        },
        "id": "dxbF2l_Uj4KX",
        "outputId": "28c05b24-ec65-4c02-afff-4c8ad8d3eeb2"
      },
      "outputs": [
        {
          "output_type": "execute_result",
          "data": {
            "text/plain": [
              "6"
            ]
          },
          "metadata": {},
          "execution_count": 61
        }
      ],
      "source": [
        "# Define a list of numbers\n",
        "shortlist = [1, 2, 3]\n",
        "# Calculate the sum of the numbers in the list\n",
        "sum(shortlist)"
      ]
    },
    {
      "cell_type": "code",
      "source": [
        "# Calculate the length of the list\n",
        "len(shortlist)"
      ],
      "metadata": {
        "colab": {
          "base_uri": "https://localhost:8080/"
        },
        "id": "QCCYRRGskouS",
        "outputId": "d36e2467-98dc-4269-ebcb-44c7affeed2a"
      },
      "execution_count": 62,
      "outputs": [
        {
          "output_type": "execute_result",
          "data": {
            "text/plain": [
              "3"
            ]
          },
          "metadata": {},
          "execution_count": 62
        }
      ]
    },
    {
      "cell_type": "code",
      "source": [
        "'''\n",
        "Calculating the mean\n",
        "\n",
        "'''\n",
        "# Define a function to calculate the mean of a list of numbers\n",
        "def calculate_mean(numbers):\n",
        "  # Calculate the sum of the numbers\n",
        "  s = sum(numbers)\n",
        "  # Calculate the number of elements in the list\n",
        "  N = len(numbers)\n",
        "  # calculate the mean\n",
        "  mean = s / N\n",
        "  return mean\n",
        "\n",
        "if __name__ == '__main__':\n",
        "  # Define a list of donations\n",
        "  donations = [100, 60, 70, 900, 100, 200, 500, 500, 503, 600, 1000, 1200]\n",
        "  # Calculate the mean of the donations\n",
        "  mean = calculate_mean(donations)\n",
        "  # Get the number of donations\n",
        "  N = len(donations)\n",
        "  # Print the mean donation\n",
        "  print('Mean donation over the last {0} days is {1}'.format(N, mean))"
      ],
      "metadata": {
        "colab": {
          "base_uri": "https://localhost:8080/"
        },
        "id": "QzIPD_s4kri1",
        "outputId": "f94003b0-b361-4c7a-b7f3-2d532a5a33f3"
      },
      "execution_count": 63,
      "outputs": [
        {
          "output_type": "stream",
          "name": "stdout",
          "text": [
            "Mean donation over the last 12 days is 477.75\n"
          ]
        }
      ]
    },
    {
      "cell_type": "markdown",
      "source": [
        "# **Finding the Median**"
      ],
      "metadata": {
        "id": "YvoQDYyumoim"
      }
    },
    {
      "cell_type": "code",
      "source": [
        "# Define a sample list\n",
        "samplelist = [4, 1, 3]\n",
        "# Sort the sample list in ascending order\n",
        "samplelist.sort()\n",
        "# Display the sorted list\n",
        "samplelist"
      ],
      "metadata": {
        "colab": {
          "base_uri": "https://localhost:8080/"
        },
        "id": "ylgM6vpDmmAn",
        "outputId": "ed659528-3ae6-4460-e07c-bef9ff0b9172"
      },
      "execution_count": 64,
      "outputs": [
        {
          "output_type": "execute_result",
          "data": {
            "text/plain": [
              "[1, 3, 4]"
            ]
          },
          "metadata": {},
          "execution_count": 64
        }
      ]
    },
    {
      "cell_type": "code",
      "source": [
        "'''\n",
        "Calculating the median\n",
        "\n",
        "'''\n",
        "\n",
        "# Define a function to calculate the median of a list of numbers\n",
        "def calculate_median(numbers):\n",
        "  # Get the number of elements in the list\n",
        "  N = len(numbers)\n",
        "  # Sort the list in ascending order\n",
        "  numbers.sort()\n",
        "\n",
        "  # find the median\n",
        "  # Check if the number of elements is even\n",
        "  if N % 2 == 0:\n",
        "    # if N is even, calculate the indices of the two middle elements\n",
        "    m1 = N/2\n",
        "    m2 = (N/2) + 1\n",
        "    # convert to interger, match position\n",
        "    m1 = int(m1) - 1\n",
        "    m2 = int(m2) - 1\n",
        "    # Calculate the median as the average of the two middle elements\n",
        "    median = (numbers[m1] + numbers[m2])/2\n",
        "\n",
        "  else:\n",
        "    # If the number of elements is odd, calculate the index of the middle element\n",
        "    m = (N+1)/2\n",
        "    # convert to integer, match position\n",
        "    m = int(m) - 1\n",
        "    # The median is the middle element\n",
        "    median = numbers[m]\n",
        "\n",
        "  return median"
      ],
      "metadata": {
        "id": "vPm_cj5mm5xO"
      },
      "execution_count": 65,
      "outputs": []
    },
    {
      "cell_type": "code",
      "source": [
        "if __name__ == '__main__':\n",
        "  # Define a list of donations (Note: This list has an odd number of elements)\n",
        "  donations = [100, 60, 70, 900, 100, 200, 500, 503, 600, 1000, 1200]\n",
        "  # Calculate the median of the donations\n",
        "  median = calculate_median(donations)\n",
        "  # Get the number of donations\n",
        "  N = len(donations)\n",
        "  # Print the median donation\n",
        "  print('Median donation over the last {0} days is {1}'.format(N, median))\n",
        "#"
      ],
      "metadata": {
        "colab": {
          "base_uri": "https://localhost:8080/"
        },
        "id": "rTDFPavCn3b2",
        "outputId": "5bcb9edf-aa47-4b42-e8c5-379d7183a0dc"
      },
      "execution_count": 66,
      "outputs": [
        {
          "output_type": "stream",
          "name": "stdout",
          "text": [
            "Median donation over the last 11 days is 500\n"
          ]
        }
      ]
    },
    {
      "cell_type": "markdown",
      "source": [
        "# **Finding the Mode and Creating a Frequency Table**\n",
        "\n",
        "# Finding the Most Common Elements"
      ],
      "metadata": {
        "id": "rHnpUxNvoHB_"
      }
    },
    {
      "cell_type": "code",
      "source": [
        "# Define a simple list\n",
        "simplelist = [4, 2, 1, 3, 4]\n",
        "# Import the Counter class from the collections module\n",
        "from  collections import Counter\n",
        "# Create a Counter object from the list\n",
        "c = Counter(simplelist)\n",
        "# Get the most common elements and their counts\n",
        "c.most_common()"
      ],
      "metadata": {
        "colab": {
          "base_uri": "https://localhost:8080/"
        },
        "id": "EDeibyu6oVQ9",
        "outputId": "7b8fa940-10da-4304-b9a1-b4dae0d8ab29"
      },
      "execution_count": 67,
      "outputs": [
        {
          "output_type": "execute_result",
          "data": {
            "text/plain": [
              "[(4, 2), (2, 1), (1, 1), (3, 1)]"
            ]
          },
          "metadata": {},
          "execution_count": 67
        }
      ]
    },
    {
      "cell_type": "code",
      "source": [
        "# Get the single most common element and its count\n",
        "c.most_common(1)"
      ],
      "metadata": {
        "colab": {
          "base_uri": "https://localhost:8080/"
        },
        "id": "aCoq9VdnorEK",
        "outputId": "5e2a6724-2dcf-4380-f000-c0cb09d826a8"
      },
      "execution_count": 68,
      "outputs": [
        {
          "output_type": "execute_result",
          "data": {
            "text/plain": [
              "[(4, 2)]"
            ]
          },
          "metadata": {},
          "execution_count": 68
        }
      ]
    },
    {
      "cell_type": "code",
      "source": [
        "# Get the two most common elements and their counts\n",
        "c.most_common(2)"
      ],
      "metadata": {
        "colab": {
          "base_uri": "https://localhost:8080/"
        },
        "id": "9pVHIusjo2z-",
        "outputId": "6b812204-5180-43e8-ac4d-721f3addeac9"
      },
      "execution_count": 69,
      "outputs": [
        {
          "output_type": "execute_result",
          "data": {
            "text/plain": [
              "[(4, 2), (2, 1)]"
            ]
          },
          "metadata": {},
          "execution_count": 69
        }
      ]
    },
    {
      "cell_type": "code",
      "source": [
        "# Get the single most common element and its count and assign it to a variable\n",
        "mode = c.most_common(1)\n",
        "# Display the mode variable\n",
        "mode"
      ],
      "metadata": {
        "colab": {
          "base_uri": "https://localhost:8080/"
        },
        "id": "T0gK8kVTo6Rg",
        "outputId": "114e7720-4045-46f2-cf67-1deaea1c32b2"
      },
      "execution_count": 70,
      "outputs": [
        {
          "output_type": "execute_result",
          "data": {
            "text/plain": [
              "[(4, 2)]"
            ]
          },
          "metadata": {},
          "execution_count": 70
        }
      ]
    },
    {
      "cell_type": "code",
      "source": [
        "# Access the first element of the 'mode' list (which is a tuple)\n",
        "mode[0]"
      ],
      "metadata": {
        "colab": {
          "base_uri": "https://localhost:8080/"
        },
        "id": "FCrnLMtqpA4U",
        "outputId": "6e1b8678-2e0e-474a-c2cd-d644731dad23"
      },
      "execution_count": 71,
      "outputs": [
        {
          "output_type": "execute_result",
          "data": {
            "text/plain": [
              "(4, 2)"
            ]
          },
          "metadata": {},
          "execution_count": 71
        }
      ]
    },
    {
      "cell_type": "code",
      "source": [
        "# Access the first element of the tuple within the 'mode' list (which is the mode value)\n",
        "mode[0][0]"
      ],
      "metadata": {
        "colab": {
          "base_uri": "https://localhost:8080/"
        },
        "id": "3LnypPD4pCjE",
        "outputId": "2333e8f4-0ef0-4d74-88bb-fe4e1eb27cc2"
      },
      "execution_count": 72,
      "outputs": [
        {
          "output_type": "execute_result",
          "data": {
            "text/plain": [
              "4"
            ]
          },
          "metadata": {},
          "execution_count": 72
        }
      ]
    },
    {
      "cell_type": "markdown",
      "source": [
        "# **Finding the Mode**"
      ],
      "metadata": {
        "id": "lAjUeN0lpHE3"
      }
    },
    {
      "cell_type": "code",
      "source": [
        "'''\n",
        "Calculating the mode\n",
        "\n",
        "'''\n",
        "# Import the Counter class from the collections module\n",
        "from collections import Counter\n",
        "\n",
        "# Define a function to calculate the mode of a list of numbers\n",
        "def calculate_mode(numbers):\n",
        "  # Create a Counter object from the list\n",
        "  c = Counter(numbers)\n",
        "  # Get the most common element and its count\n",
        "  mode = c.most_common(1)\n",
        "  # Return the mode value\n",
        "  return mode[0][0]\n",
        "\n",
        "if __name__ == '__main__':\n",
        "  # Define a list of scores\n",
        "  scores = [7, 8, 9, 2, 10, 9, 9, 9, 9, 4, 5, 6, 1, 5, 6, 7, 8, 6, 1, 10]\n",
        "  # Calculate the mode of the scores\n",
        "  mode = calculate_mode(scores)\n",
        "  # Print the mode\n",
        "  print('The mode of the list of numbers is: {0}'.format(mode))\n",
        "#"
      ],
      "metadata": {
        "colab": {
          "base_uri": "https://localhost:8080/"
        },
        "id": "2PeCfqoxpKgc",
        "outputId": "82f978b6-3997-4e3d-8178-08f5bffa6b1f"
      },
      "execution_count": 73,
      "outputs": [
        {
          "output_type": "stream",
          "name": "stdout",
          "text": [
            "The mode of the list of numbers is: 9\n"
          ]
        }
      ]
    },
    {
      "cell_type": "code",
      "source": [
        "'''\n",
        "Calculating the mode when the list of numbers may have multiple modes\n",
        "\n",
        "'''\n",
        "# Import the Counter class from the collections module\n",
        "from collections import Counter\n",
        "\n",
        "# Define a function to calculate the mode(s) of a list of numbers\n",
        "def calculate_mode(numbers):\n",
        "  # Create a Counter object from the list\n",
        "  c = Counter(numbers)\n",
        "  # Get the frequency of each number\n",
        "  numbers_freq = c.most_common()\n",
        "  # Get the maximum frequency\n",
        "  max_count = numbers_freq[0][1]\n",
        "\n",
        "  # Find all numbers with the maximum frequency (these are the modes)\n",
        "  modes = []\n",
        "  for num in numbers_freq:\n",
        "    if num[1] == max_count:\n",
        "      modes.append(num[0])\n",
        "\n",
        "  return modes"
      ],
      "metadata": {
        "id": "0Na8Dlcept_d"
      },
      "execution_count": 74,
      "outputs": []
    },
    {
      "cell_type": "code",
      "source": [
        "if __name__ == '__main__':\n",
        "  # Define a list of scores with multiple modes\n",
        "  scores = [5, 5, 5, 4, 4, 4, 9, 1, 3]\n",
        "  # Calculate the mode(s) of the scores\n",
        "  modes = calculate_mode(scores)\n",
        "  # Print the mode(s)\n",
        "  print('The mode(s) of the list of numbers are: {0}'.format(modes))\n",
        "  # Print each mode individually\n",
        "  for mode in modes:\n",
        "    print(mode)"
      ],
      "metadata": {
        "colab": {
          "base_uri": "https://localhost:8080/"
        },
        "id": "rAjW5Iz1qxnk",
        "outputId": "2f745f02-c355-4803-ec89-e0e8c64e2f0b"
      },
      "execution_count": 75,
      "outputs": [
        {
          "output_type": "stream",
          "name": "stdout",
          "text": [
            "The mode(s) of the list of numbers are: [5, 4]\n",
            "5\n",
            "4\n"
          ]
        }
      ]
    },
    {
      "cell_type": "markdown",
      "source": [
        "# **Creating a Frequency Table**"
      ],
      "metadata": {
        "id": "ANnsyrBUrfaK"
      }
    },
    {
      "cell_type": "code",
      "source": [
        "'''\n",
        "Frequency table for a list of numbers\n",
        "\n",
        "'''\n",
        "# Import the Counter class from the collections module\n",
        "from collections import Counter\n",
        "\n",
        "# Define a function to create a frequency table for a list of numbers\n",
        "def frequency_table(numbers):\n",
        "  # Create a Counter object from the list\n",
        "  table = Counter(numbers)\n",
        "  # Print the header for the table\n",
        "  print('Number\\tFrequency')\n",
        "  # Iterate through the most common elements and their counts\n",
        "  for number in table.most_common():\n",
        "    # Print each number and its frequency\n",
        "    print('{0}\\t{1}'.format(number[0], number[1]))"
      ],
      "metadata": {
        "id": "5sBaxhy5rkpD"
      },
      "execution_count": 76,
      "outputs": []
    },
    {
      "cell_type": "code",
      "source": [
        "if __name__ == '__main__':\n",
        "  # Define a list of scores\n",
        "  scores = [7, 8, 9, 2, 10, 9, 9, 9, 9, 4, 5, 6, 1, 5, 6, 7, 8, 6, 1, 10]\n",
        "  # Generate and print the frequency table for the scores\n",
        "  frequency_table(scores)"
      ],
      "metadata": {
        "colab": {
          "base_uri": "https://localhost:8080/"
        },
        "id": "Rbf-UeZJr9jb",
        "outputId": "dae36913-bf69-44f6-fd89-afbf0fc0d4a5"
      },
      "execution_count": 77,
      "outputs": [
        {
          "output_type": "stream",
          "name": "stdout",
          "text": [
            "Number\tFrequency\n",
            "9\t5\n",
            "6\t3\n",
            "7\t2\n",
            "8\t2\n",
            "10\t2\n",
            "5\t2\n",
            "1\t2\n",
            "2\t1\n",
            "4\t1\n"
          ]
        }
      ]
    },
    {
      "cell_type": "code",
      "source": [
        "'''\n",
        "Frequency table for a list of numbers Enhanced to display the table sorted by the numbers\n",
        "\n",
        "'''\n",
        "\n",
        "# Import the Counter class from the collections module\n",
        "from collections import Counter\n",
        "\n",
        "# Define a function to create a frequency table for a list of numbers, sorted by number\n",
        "def frequency_table(numbers):\n",
        "  # Create a Counter object from the list\n",
        "  table = Counter(numbers)\n",
        "  # Get the frequency of each number\n",
        "  numbers_freq = table.most_common()\n",
        "  # Sort the numbers and their frequencies by the numbers\n",
        "  numbers_freq.sort()\n",
        "  # Print the header for the table\n",
        "  print('Number\\tFrequency')\n",
        "  # Iterate through the sorted numbers and their frequencies\n",
        "  for number in numbers_freq:\n",
        "    # Print each number and its frequency\n",
        "    print('{0}\\t{1}'.format(number[0], number[1]))"
      ],
      "metadata": {
        "id": "_0yCf4ICsxMu"
      },
      "execution_count": 78,
      "outputs": []
    },
    {
      "cell_type": "code",
      "source": [
        "if __name__ == '__main__':\n",
        "  # Define a list of scores\n",
        "  scores = [7, 8, 9, 2, 10, 9, 9, 9, 9, 4, 5, 6, 1, 5, 6, 7, 8, 6, 1, 10]\n",
        "\n",
        "  # Generate and print the sorted frequency table for the scores\n",
        "  frequency_table(scores)"
      ],
      "metadata": {
        "colab": {
          "base_uri": "https://localhost:8080/"
        },
        "id": "51U7OlcTtOef",
        "outputId": "86b56ebb-fd00-4898-b0df-c93aab3ff489"
      },
      "execution_count": 79,
      "outputs": [
        {
          "output_type": "stream",
          "name": "stdout",
          "text": [
            "Number\tFrequency\n",
            "1\t2\n",
            "2\t1\n",
            "4\t1\n",
            "5\t2\n",
            "6\t3\n",
            "7\t2\n",
            "8\t2\n",
            "9\t5\n",
            "10\t2\n"
          ]
        }
      ]
    },
    {
      "cell_type": "markdown",
      "source": [
        "# **Measuring the Dispersion**"
      ],
      "metadata": {
        "id": "lLCkieSq-QuJ"
      }
    },
    {
      "cell_type": "code",
      "source": [
        "'''\n",
        "Find the range\n",
        "\n",
        "'''\n",
        "# Define a function to find the range of a list of numbers\n",
        "def find_range(numbers):\n",
        "  # Find the lowest number in the list\n",
        "  lowest = min(numbers)\n",
        "  # Find the highest number in the list\n",
        "  highest = max(numbers)\n",
        "\n",
        "  # Find the range\n",
        "  r = highest - lowest\n",
        "  # Return the lowest, highest, and range\n",
        "  return lowest, highest, r"
      ],
      "metadata": {
        "id": "aK_ammJ_-eFp"
      },
      "execution_count": 80,
      "outputs": []
    },
    {
      "cell_type": "code",
      "source": [
        "  if __name__ == '__main__':\n",
        "    # Define a list of donations\n",
        "    donations = [100, 60, 70, 900, 100, 200, 500, 500, 503, 600, 1000, 1200]\n",
        "    # Find the range of the donations\n",
        "    lowest, highest, r = find_range(donations)\n",
        "    # Print the lowest, highest, and range\n",
        "    print('Lowest: {0} Highest: {1} Range: {2}'.format(lowest, highest, r))"
      ],
      "metadata": {
        "colab": {
          "base_uri": "https://localhost:8080/"
        },
        "id": "oj2zTdHt-9fy",
        "outputId": "8e8a3e6d-399a-48ea-87a6-d018825b3372"
      },
      "execution_count": 81,
      "outputs": [
        {
          "output_type": "stream",
          "name": "stdout",
          "text": [
            "Lowest: 60 Highest: 1200 Range: 1140\n"
          ]
        }
      ]
    },
    {
      "cell_type": "markdown",
      "source": [
        "# **Finding the Variance and Standard Deviation**"
      ],
      "metadata": {
        "id": "BmZNBnBSC5Tg"
      }
    },
    {
      "cell_type": "code",
      "source": [
        "'''\n",
        "Find the variance and standard deviation of a list of numbers\n",
        "'''\n",
        "# Define a function to calculate the mean of a list of numbers\n",
        "def calculate_mean(numbers):\n",
        "  # Calculate the sum of the numbers\n",
        "  s = sum(numbers)\n",
        "  # Get the number of elements in the list\n",
        "  N = len(numbers)\n",
        "  # Calculate the mean\n",
        "  mean = s/N\n",
        "\n",
        "  return mean\n",
        "\n",
        "#========================================================="
      ],
      "metadata": {
        "id": "OJms7rKsC75Q"
      },
      "execution_count": 82,
      "outputs": []
    },
    {
      "cell_type": "code",
      "source": [
        "# Define a function to find the differences from the mean\n",
        "def find_differences(numbers):\n",
        "\n",
        " # Find the mean\n",
        " mean = calculate_mean(numbers)\n",
        " # Find the differences from the mean\n",
        " diff = []\n",
        "\n",
        " for num in numbers:\n",
        "  diff.append(num-mean)\n",
        " return diff"
      ],
      "metadata": {
        "id": "Gk99qTrVD2NH"
      },
      "execution_count": 83,
      "outputs": []
    },
    {
      "cell_type": "code",
      "source": [
        "# Define a function to calculate the variance of a list of numbers\n",
        "def calculate_variance(numbers):\n",
        "\n",
        "  # Find the list of differences\n",
        "  diff = find_differences(numbers)\n",
        "  # Find the squared differences\n",
        "  squared_diff = []\n",
        "  for d in diff:\n",
        "    squared_diff.append(d**2)\n",
        "  # Find the variance\n",
        "  sum_squared_diff = sum(squared_diff)\n",
        "  variance = sum_squared_diff/len(numbers)\n",
        "\n",
        "  return variance\n",
        "#"
      ],
      "metadata": {
        "id": "gCAV-Z3mD822"
      },
      "execution_count": 84,
      "outputs": []
    },
    {
      "cell_type": "code",
      "source": [
        "if __name__ == '__main__':\n",
        "  # Define a list of donations\n",
        "  donations = [100, 60, 70, 900, 100, 200, 500, 500, 503, 600, 1000, 1200]\n",
        "  # Calculate the variance of the donations\n",
        "  variance = calculate_variance(donations)\n",
        "  # Print the variance\n",
        "  print('The variance of the list of numbers is {0}'.format(variance))"
      ],
      "metadata": {
        "colab": {
          "base_uri": "https://localhost:8080/"
        },
        "id": "r7WmMQPsEMQ3",
        "outputId": "8c011ab1-543d-4dd2-ef3b-23234ec29a93"
      },
      "execution_count": 85,
      "outputs": [
        {
          "output_type": "stream",
          "name": "stdout",
          "text": [
            "The variance of the list of numbers is 141047.35416666666\n"
          ]
        }
      ]
    },
    {
      "cell_type": "code",
      "source": [
        "  # Calculate the standard deviation by taking the square root of the variance\n",
        "  std = variance**0.5\n",
        "  # Print the calculated standard deviation\n",
        "  print('The standard deviation of the list of numbers is {0}'.format(std))"
      ],
      "metadata": {
        "colab": {
          "base_uri": "https://localhost:8080/"
        },
        "id": "s_x1-BdgGPcr",
        "outputId": "15b805d7-66c6-47de-ae46-2a74de3ada09"
      },
      "execution_count": 99,
      "outputs": [
        {
          "output_type": "stream",
          "name": "stdout",
          "text": [
            "The standard deviation of the list of numbers is 375.5627166887931\n"
          ]
        }
      ]
    },
    {
      "cell_type": "markdown",
      "source": [
        "# **Calculating the Correlation Between Two Data Sets**\n",
        "\n",
        "**Calculating the Correlation Coefficient**\n",
        "\n"
      ],
      "metadata": {
        "id": "XA-ndISNM5S8"
      }
    },
    {
      "cell_type": "code",
      "source": [
        "# Define two simple lists for demonstration\n",
        "simple_list1 = [1, 2, 3]\n",
        "simple_list2 = [4, 5, 6]\n",
        "\n",
        "# Iterate through both lists simultaneously using zip and print corresponding elements\n",
        "for x, y in zip(simple_list1, simple_list2):\n",
        "  print(x, y)\n",
        "#"
      ],
      "metadata": {
        "colab": {
          "base_uri": "https://localhost:8080/"
        },
        "id": "kStzLRtuNQ-W",
        "outputId": "de25166a-4958-4f75-d9c5-5ba502be5552"
      },
      "execution_count": 87,
      "outputs": [
        {
          "output_type": "stream",
          "name": "stdout",
          "text": [
            "1 4\n",
            "2 5\n",
            "3 6\n"
          ]
        }
      ]
    },
    {
      "cell_type": "code",
      "source": [
        "# Define a function to calculate the correlation coefficient between two lists (x and y)\n",
        "def find_corr_x_y(x, y):\n",
        "  # Get the number of elements in the lists\n",
        "  n = len(x)\n",
        "\n",
        "  # Find the sum of the products of corresponding elements\n",
        "  prod = []\n",
        "  for xi, yi in zip(x, y):\n",
        "    prod.append(xi*yi)\n",
        "  sum_prod_x_y = sum(prod)\n",
        "  # Find the sum of elements in x and y\n",
        "  sum_x = sum(x)\n",
        "  sum_y = sum(y)\n",
        "  # Find the square of the sum of elements in x and y\n",
        "  squared_sum_x = sum_x**2\n",
        "  squared_sum_y = sum_y**2\n",
        "\n",
        "  # Find the sum of the squares of elements in x\n",
        "  x_square = []\n",
        "  for xi in x:\n",
        "    x_square.append(xi**2)\n",
        "  x_square_sum = sum(x_square)\n",
        "\n",
        "  # Find the sum of the squares of elements in y\n",
        "  y_square = []\n",
        "  for yi in y:\n",
        "    y_square.append(yi**2)\n",
        "  y_square_sum = sum(y_square)\n",
        "\n",
        "  # use formula to calculate correlation (Pearson correlation coefficient)\n",
        "  numerator = n*sum_prod_x_y - sum_x*sum_y\n",
        "  denominator_term1 = n*x_square_sum - squared_sum_x\n",
        "  denominator_term2 = n*y_square_sum - squared_sum_y\n",
        "  denominator = (denominator_term1*denominator_term2)**0.5\n",
        "  correlation = numerator/denominator\n",
        "\n",
        "  return correlation"
      ],
      "metadata": {
        "id": "sdTL2hIYNigg"
      },
      "execution_count": 88,
      "outputs": []
    },
    {
      "cell_type": "code",
      "metadata": {
        "colab": {
          "base_uri": "https://localhost:8080/"
        },
        "id": "bdd39cfd",
        "outputId": "75961585-2c15-45d0-8383-ec1537f48c1a"
      },
      "source": [
        "if __name__ == '__main__':\n",
        "  # Define two lists of numbers for demonstration\n",
        "  x = [1, 2, 3, 4, 5]\n",
        "  y = [2, 4, 5, 4, 5]\n",
        "  # Calculate the correlation between x and y using the find_corr_x_y function\n",
        "  correlation = find_corr_x_y(x, y)\n",
        "  # Print the calculated correlation coefficient\n",
        "  print('The correlation coefficient between x and y is: {0}'.format(correlation))"
      ],
      "execution_count": 89,
      "outputs": [
        {
          "output_type": "stream",
          "name": "stdout",
          "text": [
            "The correlation coefficient between x and y is: 0.7745966692414834\n"
          ]
        }
      ]
    },
    {
      "cell_type": "markdown",
      "source": [
        "**Scatter Plots**"
      ],
      "metadata": {
        "id": "ldeDJ2rZPchB"
      }
    },
    {
      "cell_type": "code",
      "source": [
        "# Define lists for x and y data points\n",
        "x = [1, 2, 3, 4]\n",
        "y = [2, 4, 6, 8]\n",
        "\n",
        "# Import the matplotlib library for plotting\n",
        "import matplotlib.pyplot as plt\n",
        "\n",
        "# Create a scatter plot with x and y data\n",
        "plt.scatter(x, y)\n",
        "# Display the scatter plot\n",
        "plt.show()"
      ],
      "metadata": {
        "colab": {
          "base_uri": "https://localhost:8080/",
          "height": 430
        },
        "id": "-s658J4oPfl5",
        "outputId": "692e9b37-a410-4200-ef7a-8b98ca08bf16"
      },
      "execution_count": 90,
      "outputs": [
        {
          "output_type": "display_data",
          "data": {
            "text/plain": [
              "<Figure size 640x480 with 1 Axes>"
            ],
            "image/png": "[encoded data removed]"
          },
          "metadata": {}
        }
      ]
    },
    {
      "cell_type": "code",
      "source": [
        "# Find the sum of number stored in a file\n",
        "\n",
        "def sum_data(filename):\n",
        "  s = 0\n",
        "  with open(filename) as f:\n",
        "    for line in f:\n",
        "      s = s + float(line)\n",
        "  print('Sum of the numbers: {0}'.format(s))"
      ],
      "metadata": {
        "id": "qhaDsRN_6ggF"
      },
      "execution_count": 91,
      "outputs": []
    },
    {
      "cell_type": "code",
      "source": [
        "if __name__ == '__main__':\n",
        "  sum_data('mydata.txt')\n"
      ],
      "metadata": {
        "colab": {
          "base_uri": "https://localhost:8080/"
        },
        "id": "0eEA7UAN6xq6",
        "outputId": "6bab627f-d3ca-4b8c-c868-09f57375862c"
      },
      "execution_count": 92,
      "outputs": [
        {
          "output_type": "stream",
          "name": "stdout",
          "text": [
            "Sum of the numbers: 5733.0\n"
          ]
        }
      ]
    },
    {
      "cell_type": "code",
      "source": [
        "'''\n",
        "Calculating the mean of numbers stored in a file\n",
        "\n",
        "'''\n",
        "def read_data(filename):\n",
        "  numbers = []\n",
        "  with open(filename) as f:\n",
        "    for line in f:\n",
        "      numbers.append(float(line))\n",
        "  return numbers\n",
        "\n",
        "def calculate_mean(numbers):\n",
        "  s = sum(numbers)\n",
        "  N = len(numbers)\n",
        "  mean = s/N\n",
        "  return mean\n",
        "\n",
        "if __name__ == '__main__':\n",
        "  data = read_data('mydata.txt')\n",
        "  mean = calculate_mean(data)\n",
        "  print('Mean: {0}'.format(mean))"
      ],
      "metadata": {
        "colab": {
          "base_uri": "https://localhost:8080/"
        },
        "id": "SAjtcm8t7rpW",
        "outputId": "174c0b52-c09c-42fe-8736-7c1aba85f4d2"
      },
      "execution_count": 93,
      "outputs": [
        {
          "output_type": "stream",
          "name": "stdout",
          "text": [
            "Mean: 477.75\n"
          ]
        }
      ]
    },
    {
      "cell_type": "markdown",
      "source": [
        "# **Reading Data from a CSV File**"
      ],
      "metadata": {
        "id": "xLwDqzbA9zbt"
      }
    },
    {
      "cell_type": "code",
      "source": [
        "import csv\n",
        "import matplotlib.pyplot as plt\n",
        "\n",
        "def scatter_plot(x, y):\n",
        "  plt.scatter(x, y)\n",
        "  plt.xlabel('x')\n",
        "  plt.ylabel('y')\n",
        "  plt.show()\n"
      ],
      "metadata": {
        "id": "g5x7KL1O95YU"
      },
      "execution_count": 94,
      "outputs": []
    },
    {
      "cell_type": "code",
      "source": [
        "def read_csv(filename):\n",
        "  numbers = []\n",
        "  squared = []\n",
        "\n",
        "  with open(filename) as f:\n",
        "    reader = csv.reader(f)\n",
        "    next(reader)\n",
        "    for row in reader:\n",
        "      numbers.append(int(row[0]))\n",
        "      squared.append(int(row[1]))\n",
        "  return numbers, squared"
      ],
      "metadata": {
        "id": "ZBgipGji_CIs"
      },
      "execution_count": 95,
      "outputs": []
    },
    {
      "cell_type": "code",
      "source": [
        "# if __name__ == '__main__':\n",
        "#   numbers, squared = read_csv('numbers.csv')\n",
        "#   scatter_plot(numbers, squared)"
      ],
      "metadata": {
        "id": "KTJrlZ8j-67d"
      },
      "execution_count": 96,
      "outputs": []
    },
    {
      "cell_type": "code",
      "source": [
        "def read_csv(filename):\n",
        "  with (open(filename)) as f:\n",
        "    reader = csv.reader(f)\n",
        "    next(reader) # Skip the header row\n",
        "\n",
        "    summer = []\n",
        "    highest_correlated = []\n",
        "    for row in reader:\n",
        "      # Assuming the relevant data is in the first two columns after the date\n",
        "      summer.append(float(row[1])) # Read the second column as a float\n",
        "      highest_correlated.append(float(row[2])) # Read the third column as a float\n",
        "  return summer, highest_correlated"
      ],
      "metadata": {
        "id": "TZ9akodIAPa_"
      },
      "execution_count": 97,
      "outputs": []
    },
    {
      "cell_type": "code",
      "source": [
        "import matplotlib.pyplot as plt\n",
        "import csv\n",
        "\n",
        "if __name__ == '__main__':\n",
        "\n",
        "  summer, highest_correlated = read_csv('correlate-summer.csv')\n",
        "  corr = find_corr_x_y(summer, highest_correlated)\n",
        "  print('Highest correlation: {0}'.format(corr))\n",
        "  scatter_plot(summer, highest_correlated)"
      ],
      "metadata": {
        "colab": {
          "base_uri": "https://localhost:8080/",
          "height": 466
        },
        "id": "RdOTxKMhAtIF",
        "outputId": "1b2b40e4-87c8-4aac-9687-dd51331eb9b6"
      },
      "execution_count": 98,
      "outputs": [
        {
          "output_type": "stream",
          "name": "stdout",
          "text": [
            "Highest correlation: 0.9605138954331739\n"
          ]
        },
        {
          "output_type": "display_data",
          "data": {
            "text/plain": [
              "<Figure size 640x480 with 1 Axes>"
            ],
            "image/png": "[encoded data removed]"
          },
          "metadata": {}
        }
      ]
    }
  ]
}