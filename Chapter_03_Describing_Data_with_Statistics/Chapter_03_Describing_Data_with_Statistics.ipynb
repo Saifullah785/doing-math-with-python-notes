{
  "nbformat": 4,
  "nbformat_minor": 0,
  "metadata": {
    "colab": {
      "provenance": [],
      "authorship_tag": "ABX9TyN4faFAjQYDcVd66QgZ6082",
      "include_colab_link": true
    },
    "kernelspec": {
      "name": "python3",
      "display_name": "Python 3"
    },
    "language_info": {
      "name": "python"
    }
  },
  "cells": [
    {
      "cell_type": "markdown",
      "metadata": {
        "id": "view-in-github",
        "colab_type": "text"
      },
      "source": [
        "<a href=\"https://colab.research.google.com/github/Saifullah785/doing-math-with-python-notes/blob/main/Chapter_03_Describing_Data_with_Statistics/Chapter_03_Describing_Data_with_Statistics.ipynb\" target=\"_parent\"><img src=\"https://colab.research.google.com/assets/colab-badge.svg\" alt=\"Open In Colab\"/></a>"
      ]
    },
    {
      "cell_type": "markdown",
      "source": [
        "# **Describing Data With Statistics**\n"
      ],
      "metadata": {
        "id": "laEfB_HEvBg_"
      }
    },
    {
      "cell_type": "markdown",
      "source": [
        "# **Finding the Mean**"
      ],
      "metadata": {
        "id": "Za11b_vVkSOE"
      }
    },
    {
      "cell_type": "code",
      "execution_count": 2,
      "metadata": {
        "colab": {
          "base_uri": "https://localhost:8080/"
        },
        "id": "dxbF2l_Uj4KX",
        "outputId": "0b054fda-19b5-4c80-8d88-7db78700deb2"
      },
      "outputs": [
        {
          "output_type": "execute_result",
          "data": {
            "text/plain": [
              "6"
            ]
          },
          "metadata": {},
          "execution_count": 2
        }
      ],
      "source": [
        "shortlist = [1, 2, 3]\n",
        "sum(shortlist)"
      ]
    },
    {
      "cell_type": "code",
      "source": [
        "len(shortlist)"
      ],
      "metadata": {
        "colab": {
          "base_uri": "https://localhost:8080/"
        },
        "id": "QCCYRRGskouS",
        "outputId": "14815aac-fdb6-4981-be3f-23632264c2c7"
      },
      "execution_count": 3,
      "outputs": [
        {
          "output_type": "execute_result",
          "data": {
            "text/plain": [
              "3"
            ]
          },
          "metadata": {},
          "execution_count": 3
        }
      ]
    },
    {
      "cell_type": "code",
      "source": [
        "'''\n",
        "Calculating the mean\n",
        "\n",
        "'''\n",
        "def calculate_mean(numbers):\n",
        "  s = sum(numbers)\n",
        "  N = len(numbers)\n",
        "  # calculate the mean\n",
        "  mean = s / N\n",
        "  return mean\n",
        "\n",
        "if __name__ == '__main__':\n",
        "  donations = [100, 60, 70, 900, 100, 200, 500, 500, 503, 600, 1000, 1200]\n",
        "  mean = calculate_mean(donations)\n",
        "  N = len(donations)\n",
        "  print('Mean donation over the last {0} days is {1}'.format(N, mean))"
      ],
      "metadata": {
        "colab": {
          "base_uri": "https://localhost:8080/"
        },
        "id": "QzIPD_s4kri1",
        "outputId": "e72dded9-2097-4648-b258-1358110f7b1f"
      },
      "execution_count": 5,
      "outputs": [
        {
          "output_type": "stream",
          "name": "stdout",
          "text": [
            "Mean donation over the last 12 days is 477.75\n"
          ]
        }
      ]
    },
    {
      "cell_type": "markdown",
      "source": [
        "# **Finding the Median**"
      ],
      "metadata": {
        "id": "YvoQDYyumoim"
      }
    },
    {
      "cell_type": "code",
      "source": [
        "samplelist = [4, 1, 3]\n",
        "samplelist.sort()\n",
        "samplelist"
      ],
      "metadata": {
        "colab": {
          "base_uri": "https://localhost:8080/"
        },
        "id": "ylgM6vpDmmAn",
        "outputId": "feefc93a-68bc-4359-ccfb-46af2be4df86"
      },
      "execution_count": 6,
      "outputs": [
        {
          "output_type": "execute_result",
          "data": {
            "text/plain": [
              "[1, 3, 4]"
            ]
          },
          "metadata": {},
          "execution_count": 6
        }
      ]
    },
    {
      "cell_type": "code",
      "source": [
        "'''\n",
        "Calculating the median\n",
        "\n",
        "'''\n",
        "\n",
        "def calculate_median(numbers):\n",
        "  N = len(numbers)\n",
        "  numbers.sort()\n",
        "\n",
        "  # find the median\n",
        "  if N % 2 == 0:\n",
        "    # if N is even\n",
        "    m1 = N/2\n",
        "    m2 = (N/2) + 1\n",
        "    # convert to interger, match position\n",
        "    m1 = int(m1) - 1\n",
        "    m2 = int(m2) - 1\n",
        "    median = (numbers[m1] + numbers[m2])/2\n",
        "\n",
        "  else:\n",
        "    m = (N+1)/2\n",
        "    # convert to integer, match position\n",
        "    m = int(m) - 1\n",
        "    median = numbers[m]\n",
        "\n",
        "  return median"
      ],
      "metadata": {
        "id": "vPm_cj5mm5xO"
      },
      "execution_count": 8,
      "outputs": []
    },
    {
      "cell_type": "code",
      "source": [
        "if __name__ == '__main__':\n",
        "  donations = [100, 60, 70, 900, 100, 200, 500, 503, 600, 1000, 1200]\n",
        "  median = calculate_median(donations)\n",
        "  N = len(donations)\n",
        "  print('Median donation over the last {0} days is {1}'.format(N, median))\n",
        "#"
      ],
      "metadata": {
        "colab": {
          "base_uri": "https://localhost:8080/"
        },
        "id": "rTDFPavCn3b2",
        "outputId": "f1506b26-f9cf-4023-9f4e-ad34e402fbab"
      },
      "execution_count": 9,
      "outputs": [
        {
          "output_type": "stream",
          "name": "stdout",
          "text": [
            "Median donation over the last 11 days is 500\n"
          ]
        }
      ]
    },
    {
      "cell_type": "markdown",
      "source": [
        "# **Finding the Mode and Creating a Frequency Table**\n",
        "\n",
        "# Finding the Most Common Elements"
      ],
      "metadata": {
        "id": "rHnpUxNvoHB_"
      }
    },
    {
      "cell_type": "code",
      "source": [
        "simplelist = [4, 2, 1, 3, 4]\n",
        "from  collections import Counter\n",
        "c = Counter(simplelist)\n",
        "c.most_common()"
      ],
      "metadata": {
        "colab": {
          "base_uri": "https://localhost:8080/"
        },
        "id": "EDeibyu6oVQ9",
        "outputId": "338a1666-bc2b-47e7-8d17-2d63953bdd0a"
      },
      "execution_count": 10,
      "outputs": [
        {
          "output_type": "execute_result",
          "data": {
            "text/plain": [
              "[(4, 2), (2, 1), (1, 1), (3, 1)]"
            ]
          },
          "metadata": {},
          "execution_count": 10
        }
      ]
    },
    {
      "cell_type": "code",
      "source": [
        "c.most_common(1)"
      ],
      "metadata": {
        "colab": {
          "base_uri": "https://localhost:8080/"
        },
        "id": "aCoq9VdnorEK",
        "outputId": "f86265ec-1282-49e8-862f-176e85e762a1"
      },
      "execution_count": 11,
      "outputs": [
        {
          "output_type": "execute_result",
          "data": {
            "text/plain": [
              "[(4, 2)]"
            ]
          },
          "metadata": {},
          "execution_count": 11
        }
      ]
    },
    {
      "cell_type": "code",
      "source": [
        "c.most_common(2)"
      ],
      "metadata": {
        "colab": {
          "base_uri": "https://localhost:8080/"
        },
        "id": "9pVHIusjo2z-",
        "outputId": "9e30ad76-9e11-48c7-a7e3-fb82ed99367e"
      },
      "execution_count": 12,
      "outputs": [
        {
          "output_type": "execute_result",
          "data": {
            "text/plain": [
              "[(4, 2), (2, 1)]"
            ]
          },
          "metadata": {},
          "execution_count": 12
        }
      ]
    },
    {
      "cell_type": "code",
      "source": [
        "mode = c.most_common(1)\n",
        "mode"
      ],
      "metadata": {
        "colab": {
          "base_uri": "https://localhost:8080/"
        },
        "id": "T0gK8kVTo6Rg",
        "outputId": "9da5e204-6dc8-4135-b50d-6a5326abf78a"
      },
      "execution_count": 13,
      "outputs": [
        {
          "output_type": "execute_result",
          "data": {
            "text/plain": [
              "[(4, 2)]"
            ]
          },
          "metadata": {},
          "execution_count": 13
        }
      ]
    },
    {
      "cell_type": "code",
      "source": [
        "mode[0]"
      ],
      "metadata": {
        "colab": {
          "base_uri": "https://localhost:8080/"
        },
        "id": "FCrnLMtqpA4U",
        "outputId": "16e1c08d-977b-4b8c-ac57-18fcd2e3d8c6"
      },
      "execution_count": 14,
      "outputs": [
        {
          "output_type": "execute_result",
          "data": {
            "text/plain": [
              "(4, 2)"
            ]
          },
          "metadata": {},
          "execution_count": 14
        }
      ]
    },
    {
      "cell_type": "code",
      "source": [
        "mode[0][0]"
      ],
      "metadata": {
        "colab": {
          "base_uri": "https://localhost:8080/"
        },
        "id": "3LnypPD4pCjE",
        "outputId": "7ee0cdff-20c8-471f-beec-6a32d998d2bf"
      },
      "execution_count": 15,
      "outputs": [
        {
          "output_type": "execute_result",
          "data": {
            "text/plain": [
              "4"
            ]
          },
          "metadata": {},
          "execution_count": 15
        }
      ]
    },
    {
      "cell_type": "markdown",
      "source": [
        "# **Finding the Mode**"
      ],
      "metadata": {
        "id": "lAjUeN0lpHE3"
      }
    },
    {
      "cell_type": "code",
      "source": [
        "'''\n",
        "Calculating the mode\n",
        "\n",
        "'''\n",
        "from collections import Counter\n",
        "\n",
        "def calculate_mode(numbers):\n",
        "  c = Counter(numbers)\n",
        "  mode = c.most_common(1)\n",
        "  return mode[0][0]\n",
        "\n",
        "if __name__ == '__main__':\n",
        "  scores = [7, 8, 9, 2, 10, 9, 9, 9, 9, 4, 5, 6, 1, 5, 6, 7, 8, 6, 1, 10]\n",
        "  mode = calculate_mode(scores)\n",
        "  print('The mode of the list of numbers is: {0}'.format(mode))\n",
        "#"
      ],
      "metadata": {
        "colab": {
          "base_uri": "https://localhost:8080/"
        },
        "id": "2PeCfqoxpKgc",
        "outputId": "2203e9cd-6f08-4ed3-ff72-a32fc91af873"
      },
      "execution_count": 16,
      "outputs": [
        {
          "output_type": "stream",
          "name": "stdout",
          "text": [
            "The mode of the list of numbers is: 9\n"
          ]
        }
      ]
    },
    {
      "cell_type": "code",
      "source": [
        "'''\n",
        "Calculating the mode when the list of numbers may have multiple modes\n",
        "\n",
        "'''\n",
        "from collections import Counter\n",
        "\n",
        "def calculate_mode(numbers):\n",
        "  c = Counter(numbers)\n",
        "  numbers_freq = c.most_common()\n",
        "  max_count = numbers_freq[0][1]\n",
        "\n",
        "  modes = []\n",
        "  for num in numbers_freq:\n",
        "    if num[1] == max_count:\n",
        "      modes.append(num[0])\n",
        "\n",
        "  return modes\n",
        "\n"
      ],
      "metadata": {
        "id": "0Na8Dlcept_d"
      },
      "execution_count": 17,
      "outputs": []
    },
    {
      "cell_type": "code",
      "source": [
        "if __name__ == '__main__':\n",
        "  scores = [5, 5, 5, 4, 4, 4, 9, 1, 3]\n",
        "  modes = calculate_mode(scores)\n",
        "  print('The mode(s) of the list of numbers are: {0}'.format(modes))\n",
        "  for mode in modes:\n",
        "    print(mode)"
      ],
      "metadata": {
        "colab": {
          "base_uri": "https://localhost:8080/"
        },
        "id": "rAjW5Iz1qxnk",
        "outputId": "5dc3e601-08ac-4029-9679-212061158b10"
      },
      "execution_count": 18,
      "outputs": [
        {
          "output_type": "stream",
          "name": "stdout",
          "text": [
            "The mode(s) of the list of numbers are: [5, 4]\n",
            "5\n",
            "4\n"
          ]
        }
      ]
    },
    {
      "cell_type": "markdown",
      "source": [
        "# **Creating a Frequency Table**"
      ],
      "metadata": {
        "id": "ANnsyrBUrfaK"
      }
    },
    {
      "cell_type": "code",
      "source": [
        "'''\n",
        "Frequency table for a list of numbers\n",
        "\n",
        "'''\n",
        "from collections import Counter\n",
        "\n",
        "def frequency_table(numbers):\n",
        "  table = Counter(numbers)\n",
        "  print('Number\\tFrequency')\n",
        "  for number in table.most_common():\n",
        "    print('{0}\\t{1}'.format(number[0], number[1]))"
      ],
      "metadata": {
        "id": "5sBaxhy5rkpD"
      },
      "execution_count": 19,
      "outputs": []
    },
    {
      "cell_type": "code",
      "source": [
        "if __name__ == '__main__':\n",
        "  scores = [7, 8, 9, 2, 10, 9, 9, 9, 9, 4, 5, 6, 1, 5, 6, 7, 8, 6, 1, 10]\n",
        "  frequency_table(scores)"
      ],
      "metadata": {
        "colab": {
          "base_uri": "https://localhost:8080/"
        },
        "id": "Rbf-UeZJr9jb",
        "outputId": "3967a606-f29f-4ba1-b6b0-710033c5845c"
      },
      "execution_count": 20,
      "outputs": [
        {
          "output_type": "stream",
          "name": "stdout",
          "text": [
            "Number\tFrequency\n",
            "9\t5\n",
            "6\t3\n",
            "7\t2\n",
            "8\t2\n",
            "10\t2\n",
            "5\t2\n",
            "1\t2\n",
            "2\t1\n",
            "4\t1\n"
          ]
        }
      ]
    },
    {
      "cell_type": "code",
      "source": [
        "'''\n",
        "Frequency table for a list of numbers Enhanced to display the table sorted by the numbers\n",
        "\n",
        "'''\n",
        "\n",
        "from collections import Counter\n",
        "\n",
        "\n",
        "def frequency_table(numbers):\n",
        "  table = Counter(numbers)\n",
        "  numbers_freq = table.most_common()\n",
        "  numbers_freq.sort()\n",
        "  print('Number\\tFrequency')\n",
        "  for number in numbers_freq:\n",
        "    print('{0}\\t{1}'.format(number[0], number[1]))"
      ],
      "metadata": {
        "id": "_0yCf4ICsxMu"
      },
      "execution_count": 21,
      "outputs": []
    },
    {
      "cell_type": "code",
      "source": [
        "if __name__ == '__main__':\n",
        "\n",
        "  scores = [7, 8, 9, 2, 10, 9, 9, 9, 9, 4, 5, 6, 1, 5, 6, 7, 8, 6, 1, 10]\n",
        "\n",
        "  frequency_table(scores)"
      ],
      "metadata": {
        "colab": {
          "base_uri": "https://localhost:8080/"
        },
        "id": "51U7OlcTtOef",
        "outputId": "aefc12bd-b003-4850-de1a-f784d9f5c2cc"
      },
      "execution_count": 22,
      "outputs": [
        {
          "output_type": "stream",
          "name": "stdout",
          "text": [
            "Number\tFrequency\n",
            "1\t2\n",
            "2\t1\n",
            "4\t1\n",
            "5\t2\n",
            "6\t3\n",
            "7\t2\n",
            "8\t2\n",
            "9\t5\n",
            "10\t2\n"
          ]
        }
      ]
    }
  ]
}