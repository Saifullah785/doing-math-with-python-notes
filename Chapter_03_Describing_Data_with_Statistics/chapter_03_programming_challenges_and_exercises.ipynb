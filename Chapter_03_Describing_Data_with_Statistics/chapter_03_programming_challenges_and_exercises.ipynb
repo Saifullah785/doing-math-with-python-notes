{
  "nbformat": 4,
  "nbformat_minor": 0,
  "metadata": {
    "colab": {
      "provenance": [],
      "authorship_tag": "ABX9TyOTtywfm+bC2cpFn4N6qw+1",
      "include_colab_link": true
    },
    "kernelspec": {
      "name": "python3",
      "display_name": "Python 3"
    },
    "language_info": {
      "name": "python"
    }
  },
  "cells": [
    {
      "cell_type": "markdown",
      "metadata": {
        "id": "view-in-github",
        "colab_type": "text"
      },
      "source": [
        "<a href=\"https://colab.research.google.com/github/Saifullah785/doing-math-with-python-notes/blob/main/Chapter_03_Describing_Data_with_Statistics/chapter_03_programming_challenges_and_exercises.ipynb\" target=\"_parent\"><img src=\"https://colab.research.google.com/assets/colab-badge.svg\" alt=\"Open In Colab\"/></a>"
      ]
    },
    {
      "cell_type": "markdown",
      "source": [
        "# **Programming Challenges & Exercises**"
      ],
      "metadata": {
        "id": "fRZx7t8aRApz"
      }
    },
    {
      "cell_type": "markdown",
      "source": [
        " # **1: Better Correlation Coefficient–Finding Program**\n",
        "\n",
        "coefficient between two sets of numbers assumes that the two sets of numbers are the same length.\n",
        "Improve the function so that it first checks the length of the lists.\n",
        "\n",
        "If they’re equal, only then should the function proceed with the remaining calculations; otherwise, it should print an error message that the correlation can’t be found."
      ],
      "metadata": {
        "id": "GCXRZrjhSp1n"
      }
    },
    {
      "cell_type": "code",
      "source": [
        "# Import necessary libraries\n",
        "import math # Used for mathematical operations like square root\n",
        "import pandas as pd # Used for data manipulation and creating DataFrames\n",
        "import matplotlib.pyplot as plt # Used for plotting\n",
        "import seaborn as sns # Used for enhanced visualizations, including heatmaps"
      ],
      "metadata": {
        "id": "x4EdT-p-TAUu"
      },
      "execution_count": 13,
      "outputs": []
    },
    {
      "cell_type": "code",
      "execution_count": 14,
      "metadata": {
        "id": "OCLjRfuNQf8S"
      },
      "outputs": [],
      "source": [
        "# Define a function to calculate the correlation coefficient between two lists\n",
        "def find_corr_x_y(x, y):\n",
        "    # Check if the lengths of the two lists are equal\n",
        "    if len(x) != len(y):\n",
        "        # Print an error message if lengths are not equal and return None\n",
        "        print(\"Error: Lists must have the same length to find the correlation.\")\n",
        "        return None\n",
        "\n",
        "    # Get the number of elements in the lists\n",
        "    n = len(x)\n",
        "\n",
        "    # Calculate the product of corresponding elements\n",
        "    prod = [xi * yi for xi, yi in zip(x, y)]\n",
        "    # Calculate the sum of the products\n",
        "    sum_prod_x_y = sum(prod)\n",
        "\n",
        "    # Calculate the sum of elements in each list\n",
        "    sum_x = sum(x)\n",
        "    sum_y = sum(y)\n",
        "\n",
        "    # Calculate the square of each element in the lists\n",
        "    squared_x = [xi**2 for xi in x]\n",
        "    squared_y = [yi**2 for yi in y]\n",
        "\n",
        "    # Calculate the sum of the squared elements\n",
        "    sum_squared_x = sum(squared_x)\n",
        "    sum_squared_y = sum(squared_y)\n",
        "\n",
        "    # Calculate the numerator of the correlation coefficient formula\n",
        "    numerator = n * sum_prod_x_y - sum_x * sum_y\n",
        "    # Calculate the denominator of the correlation coefficient formula\n",
        "    denominator = math.sqrt((n * sum_squared_x - sum_x**2) * (n * sum_squared_y - sum_y**2))\n",
        "\n",
        "    # Check if the denominator is zero to avoid division by zero error\n",
        "    if denominator == 0:\n",
        "        print(\"Error: Cannot calculate correlation coefficient (denominator is zero).\")\n",
        "        return None\n",
        "\n",
        "    # Calculate the correlation coefficient\n",
        "    correlation = numerator / denominator\n",
        "\n",
        "    # Return the calculated correlation coefficient\n",
        "    return correlation"
      ]
    },
    {
      "cell_type": "code",
      "source": [
        "# Define example lists for testing the correlation function\n",
        "list1 = [1, 2, 3, 4, 5, 6, 7, 8, 9]\n",
        "\n",
        "list2 = [9, 8, 7, 6, 5, 4, 3, 2, 1]\n",
        "\n",
        "list3 = [1, 2, 3]"
      ],
      "metadata": {
        "id": "58vrIAF4SHjH"
      },
      "execution_count": 15,
      "outputs": []
    },
    {
      "cell_type": "code",
      "source": [
        "# Calculate the correlation between list1 and list2 using the defined function\n",
        "corr1_2 = find_corr_x_y(list1, list2)\n",
        "# Check if the correlation was successfully calculated (not None)\n",
        "if corr1_2 is not None:\n",
        "    # Print the calculated correlation\n",
        "    print(f\"Correlation between list1 and list2: {corr1_2}\")"
      ],
      "metadata": {
        "colab": {
          "base_uri": "https://localhost:8080/"
        },
        "id": "rVeMK4LeSJr1",
        "outputId": "91a8ce93-06f9-4d61-9911-92e4e32aeae3"
      },
      "execution_count": 16,
      "outputs": [
        {
          "output_type": "stream",
          "name": "stdout",
          "text": [
            "Correlation between list1 and list2: -1.0\n"
          ]
        }
      ]
    },
    {
      "cell_type": "code",
      "source": [
        "# Visualize the correlation using a correlation matrix heatmap\n",
        "\n",
        "# Create a dictionary of lists to be included in the DataFrame.\n",
        "# Only lists of the same length as list1 are included for correlation calculation.\n",
        "data = {'list1': list1, 'list2': list2}\n",
        "# If you have more lists of the same length, add them here\n",
        "# data['list3_of_same_length'] = list3_of_same_length\n",
        "\n",
        "# Create a pandas DataFrame from the selected lists\n",
        "df = pd.DataFrame({k: v for k, v in data.items() if len(v) == len(list1)}) # Assuming list1 is the reference length\n",
        "\n",
        "# Calculate the correlation matrix for the DataFrame\n",
        "correlation_matrix = df.corr()\n",
        "\n",
        "# Create a heatmap to visualize the correlation matrix\n",
        "plt.figure(figsize=(8, 6)) # Set the figure size\n",
        "sns.heatmap(correlation_matrix, annot=True, cmap='coolwarm', fmt=\".2f\") # Generate the heatmap with annotations and color map\n",
        "plt.title('Correlation Matrix') # Set the title of the heatmap\n",
        "plt.show() # Display the plot"
      ],
      "metadata": {
        "colab": {
          "base_uri": "https://localhost:8080/",
          "height": 545
        },
        "id": "tq9BiOlnTw_9",
        "outputId": "fe68c18c-5ca8-4289-eb96-1d34f6f840af"
      },
      "execution_count": 17,
      "outputs": [
        {
          "output_type": "display_data",
          "data": {
            "text/plain": [
              "<Figure size 800x600 with 2 Axes>"
            ],
            "image/png": "[encoded data removed]"
          },
          "metadata": {}
        }
      ]
    },
    {
      "cell_type": "code",
      "source": [
        "# Calculate the correlation between list1 and list3 using the defined function\n",
        "corr1_3 = find_corr_x_y(list1, list3)\n",
        "# Check if the correlation was successfully calculated (not None)\n",
        "if corr1_3 is not None:\n",
        "    # Print the calculated correlation\n",
        "    print(f\"Correlation between list1 and list3: {corr1_3}\")"
      ],
      "metadata": {
        "colab": {
          "base_uri": "https://localhost:8080/"
        },
        "id": "xDTyTYM6TWUu",
        "outputId": "c1c73501-8337-45af-e288-f6731e2c4a54"
      },
      "execution_count": 18,
      "outputs": [
        {
          "output_type": "stream",
          "name": "stdout",
          "text": [
            "Error: Lists must have the same length to find the correlation.\n"
          ]
        }
      ]
    }
  ]
}